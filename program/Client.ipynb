{
 "cells": [
  {
   "cell_type": "code",
   "execution_count": 1,
   "id": "adf29352-c838-4a28-bdc9-9b0544f8d7e3",
   "metadata": {},
   "outputs": [],
   "source": [
    "import solana\n",
    "from solana.rpc.api import Client\n",
    "from solana.keypair import Keypair\n",
    "from solana.transaction import TransactionInstruction, Transaction, AccountMeta\n",
    "import argparse\n",
    "from solana.publickey import PublicKey\n",
    "from solana.blockhash import Blockhash\n",
    "from solana.system_program import *\n",
    "import base58, base64\n",
    "from solana.sysvar import SYSVAR_RENT_PUBKEY\n",
    "from solana.system_program import SYS_PROGRAM_ID\n",
    "from spl.token.constants import TOKEN_PROGRAM_ID, ASSOCIATED_TOKEN_PROGRAM_ID\n",
    "from spl.token.client import Token\n",
    "import time"
   ]
  },
  {
   "cell_type": "code",
   "execution_count": 2,
   "id": "f9036888-f66b-4e8b-bb3c-84e8804b1e57",
   "metadata": {},
   "outputs": [],
   "source": [
    "client = Client(\"https://api.devnet.solana.com\")\n",
    "ID = \"Fni4pJzEwY3sCE8MAVQFHbXdqm1vEMm85o1o8ormWUJW\"\n",
    "#ID = \"A4vEBwVMoEZ8j4gthtMnm3MLgKtZoSrw7kYGq4KotE2Q\"#\"A4vEBwVMoEZ8j4gthtMnm3MLgKtZoSrw7kYGq4KotE2Q\"\n",
    "program_id=base58.b58decode(ID)"
   ]
  },
  {
   "cell_type": "code",
   "execution_count": 3,
   "id": "7b3fbe70-798c-42ec-ba25-a4ae6de88aff",
   "metadata": {},
   "outputs": [],
   "source": [
    "k = [239,114,243,183,37,213,148,161,13,172,25,86,143,240,175,157,215,108,156,181,161,230,0,40,228,255,23,209,52,254,120,234,234,209,190,175,172,89,1,135,75,124,43,221,38,148,22,210,210,175,41,10,176,56,96,41,166,103,76,50,58,78,15,74]\n",
    "God = Keypair.from_secret_key(bytes(k))"
   ]
  },
  {
   "cell_type": "code",
   "execution_count": 4,
   "id": "2382511b-0d5f-4054-9d7b-1b9068531f30",
   "metadata": {},
   "outputs": [
    {
     "data": {
      "text/plain": [
       "GoduExX7V8SpBDTyf2pRukQgEFV8dXJjpaRuNRQAbfhb"
      ]
     },
     "execution_count": 4,
     "metadata": {},
     "output_type": "execute_result"
    }
   ],
   "source": [
    "God.public_key"
   ]
  },
  {
   "cell_type": "code",
   "execution_count": 5,
   "id": "6dd9f56c-6a90-4164-9ebf-def875210e73",
   "metadata": {},
   "outputs": [],
   "source": [
    "Alice = Keypair()\n",
    "Bob = Keypair()"
   ]
  },
  {
   "cell_type": "code",
   "execution_count": 6,
   "id": "807c29ca-0dc9-454b-86fc-64b90f8211bb",
   "metadata": {},
   "outputs": [
    {
     "data": {
      "text/plain": [
       "{'jsonrpc': '2.0',\n",
       " 'result': '46xCgHWaAs9ZVx4cZzPX82FWypYkoi96JFETcgbz7m6Q6WGiEMRZQv1kfRfmW32aZXDzDWudKLXAx6KFvqxZ1FF2',\n",
       " 'id': 1}"
      ]
     },
     "execution_count": 6,
     "metadata": {},
     "output_type": "execute_result"
    }
   ],
   "source": [
    "client.request_airdrop(Alice.public_key, 1000000000)"
   ]
  },
  {
   "cell_type": "code",
   "execution_count": 7,
   "id": "cac9e2b0-5ae6-46b1-b677-2aca6f907d44",
   "metadata": {},
   "outputs": [
    {
     "data": {
      "text/plain": [
       "2qQZBMn5t2xGMmTCuCbr6yvmAzjN6WNUnNiTnkuVAi8Q"
      ]
     },
     "execution_count": 7,
     "metadata": {},
     "output_type": "execute_result"
    }
   ],
   "source": [
    "Alice.public_key"
   ]
  },
  {
   "cell_type": "code",
   "execution_count": 8,
   "id": "a7900b7f-6a8f-4492-9908-d102d6cf00c8",
   "metadata": {},
   "outputs": [],
   "source": [
    "X_mint = Token.create_mint(client, God, God.public_key, 9, TOKEN_PROGRAM_ID)\n",
    "Y_mint = Token.create_mint(client, God, God.public_key, 9, TOKEN_PROGRAM_ID)"
   ]
  },
  {
   "cell_type": "code",
   "execution_count": 9,
   "id": "a42926c5-a688-43bb-b682-7323813add70",
   "metadata": {},
   "outputs": [],
   "source": [
    "token_program_pk = TOKEN_PROGRAM_ID\n",
    "x_seed = bytes(X_mint.pubkey)\n",
    "y_seed = bytes(Y_mint.pubkey)\n",
    "alice_seed = bytes(Alice.public_key)\n",
    "bob_seed = bytes(Bob.public_key)\n",
    "X_vault_pk, _ = PublicKey.find_program_address([x_seed, alice_seed, bob_seed], program_id)\n",
    "Y_vault_pk, _ = PublicKey.find_program_address([y_seed, alice_seed, bob_seed], program_id)\n",
    "x_vault_seed = bytes(X_vault_pk)\n",
    "y_vault_seed = bytes(Y_vault_pk)\n",
    "escrow_pk, _ = PublicKey.find_program_address([x_vault_seed, y_vault_seed, alice_seed, bob_seed], program_id)"
   ]
  },
  {
   "cell_type": "code",
   "execution_count": 10,
   "id": "52031fe5-ee28-4ab8-9537-8c20f3490120",
   "metadata": {},
   "outputs": [],
   "source": [
    "account_metas = [\n",
    "AccountMeta(Alice.public_key, True, False),\n",
    "AccountMeta(Bob.public_key, False, False),\n",
    "AccountMeta(X_mint.pubkey, False, False),\n",
    "AccountMeta(Y_mint.pubkey, False, False),\n",
    "AccountMeta(X_vault_pk, False, True),\n",
    "AccountMeta(Y_vault_pk, False, True),\n",
    "AccountMeta(escrow_pk, False, True),\n",
    "AccountMeta(TOKEN_PROGRAM_ID, False, False),\n",
    "AccountMeta(SYS_PROGRAM_ID, False, False),\n",
    "AccountMeta(SYSVAR_RENT_PUBKEY, False, False),\n",
    "]"
   ]
  },
  {
   "cell_type": "code",
   "execution_count": 11,
   "id": "b50ec57a-4d9c-401f-8a2e-617b5302d12d",
   "metadata": {},
   "outputs": [],
   "source": [
    "idx = 0\n",
    "size_A = 10\n",
    "size_B = 1\n",
    "instruction_data = idx.to_bytes(1,\"little\") + size_A.to_bytes(8,\"little\") + size_B.to_bytes(8,\"little\")"
   ]
  },
  {
   "cell_type": "code",
   "execution_count": 12,
   "id": "cf9f010f-7a97-4e79-a468-44812d1ed230",
   "metadata": {},
   "outputs": [],
   "source": [
    "instruction = TransactionInstruction(data=instruction_data,program_id=ID,keys=account_metas)\n",
    "tix = Transaction().add(instruction)"
   ]
  },
  {
   "cell_type": "code",
   "execution_count": 13,
   "id": "f3238538-b45b-42f9-9640-676a91cc5025",
   "metadata": {},
   "outputs": [
    {
     "name": "stdout",
     "output_type": "stream",
     "text": [
      "{'jsonrpc': '2.0', 'result': 'bohgAkA324HLragiGnSXQPyPDdtJDzooj9DKF9xhLtdLijaTk3gLoKUrAdqiam6pvEYgZwpj7PUAsGxgp7trRNB', 'id': 17}\n"
     ]
    }
   ],
   "source": [
    "# initialization\n",
    "y = client.send_transaction(tix, Alice)\n",
    "print(y)"
   ]
  },
  {
   "cell_type": "code",
   "execution_count": 14,
   "id": "6f6aafb5-ee91-4615-a40a-20768aa48b57",
   "metadata": {},
   "outputs": [],
   "source": [
    "# DEPOSIT\n",
    "# create ATAs\n",
    "X_a = X_mint.create_associated_token_account(Alice.public_key)\n",
    "Y_a = Y_mint.create_associated_token_account(Alice.public_key)\n",
    "X_b = X_mint.create_associated_token_account(Bob.public_key)\n",
    "Y_b = Y_mint.create_associated_token_account(Bob.public_key)"
   ]
  },
  {
   "cell_type": "code",
   "execution_count": 15,
   "id": "1453b42a-a39b-4f03-868d-cf2d3ef9640c",
   "metadata": {},
   "outputs": [
    {
     "data": {
      "text/plain": [
       "AB2YhmCidVPUiHaDmJRxj9hss7CJ2iMNz5Du7HzLTCk7"
      ]
     },
     "execution_count": 15,
     "metadata": {},
     "output_type": "execute_result"
    }
   ],
   "source": [
    "X_a"
   ]
  },
  {
   "cell_type": "code",
   "execution_count": 23,
   "id": "57847fcd-dffe-4b96-9583-396a6aa54a34",
   "metadata": {},
   "outputs": [
    {
     "data": {
      "text/plain": [
       "{'jsonrpc': '2.0',\n",
       " 'result': 'yJvG1xULk5w5bLJ3Qgzia17W39V6r7BxWaSBTzsJiA4SXNCcHgY3xrFd97rQtenMg33MYYr7mySRkz5BFsMDopB',\n",
       " 'id': 47}"
      ]
     },
     "execution_count": 23,
     "metadata": {},
     "output_type": "execute_result"
    }
   ],
   "source": [
    "X_mint.mint_to(X_a, God, 500)\n",
    "Y_mint.mint_to(Y_b, God, 500)"
   ]
  },
  {
   "cell_type": "code",
   "execution_count": 17,
   "id": "c38c9076-792b-4f09-ae9e-1d41fc482bdc",
   "metadata": {},
   "outputs": [],
   "source": [
    "deposit_metas = [\n",
    "AccountMeta(Alice.public_key, True, False),\n",
    "AccountMeta(X_vault_pk, False, True),\n",
    "AccountMeta(escrow_pk, False, True),\n",
    "AccountMeta(TOKEN_PROGRAM_ID, False, False),\n",
    "AccountMeta(X_a, False, True),\n",
    "AccountMeta(ASSOCIATED_TOKEN_PROGRAM_ID, False, False),\n",
    "]"
   ]
  },
  {
   "cell_type": "code",
   "execution_count": 18,
   "id": "d2ebed4e-c23b-45ab-835d-83f992e01e35",
   "metadata": {},
   "outputs": [],
   "source": [
    "idx = 1\n",
    "amount_a = 10\n",
    "deposit_instruction_data = idx.to_bytes(1,\"little\") + amount_a.to_bytes(8,\"little\")"
   ]
  },
  {
   "cell_type": "code",
   "execution_count": 19,
   "id": "814e36ff-ad22-4098-9b34-9335469e8af8",
   "metadata": {},
   "outputs": [],
   "source": [
    "instruction = TransactionInstruction(data=deposit_instruction_data,program_id=ID,keys=deposit_metas)\n",
    "tix = Transaction().add(instruction)"
   ]
  },
  {
   "cell_type": "code",
   "execution_count": 24,
   "id": "238f89b0-58a5-44e7-839e-8cf65f33468e",
   "metadata": {},
   "outputs": [
    {
     "name": "stdout",
     "output_type": "stream",
     "text": [
      "{'jsonrpc': '2.0', 'result': '2eXtfxPCN39NkpK4RQEyKgiSaEVozcLBWRr7zQLZMvx8kjWu69rksNhfN1AMkiyfPM25xE7uCoGUPBQMoQDjPmVr', 'id': 49}\n"
     ]
    }
   ],
   "source": [
    "y = client.send_transaction(tix, Alice)\n",
    "print(y)"
   ]
  },
  {
   "cell_type": "code",
   "execution_count": 21,
   "id": "9355e674-9b55-47e6-8a2f-5dbf33981fa8",
   "metadata": {},
   "outputs": [
    {
     "data": {
      "text/plain": [
       "AB2YhmCidVPUiHaDmJRxj9hss7CJ2iMNz5Du7HzLTCk7"
      ]
     },
     "execution_count": 21,
     "metadata": {},
     "output_type": "execute_result"
    }
   ],
   "source": [
    "X_a"
   ]
  },
  {
   "cell_type": "code",
   "execution_count": 25,
   "id": "5defcdd7-817c-4815-96f6-811cac267a51",
   "metadata": {},
   "outputs": [
    {
     "data": {
      "text/plain": [
       "9UqemSG5KjANK3XQnAMQ5EHAgdtoC2tVkZcASXKkLgfF"
      ]
     },
     "execution_count": 25,
     "metadata": {},
     "output_type": "execute_result"
    }
   ],
   "source": [
    "X_vault_pk"
   ]
  },
  {
   "cell_type": "code",
   "execution_count": 40,
   "id": "dbc60046-d546-47a9-a1a3-f3523ceb63d4",
   "metadata": {},
   "outputs": [],
   "source": [
    "# WITHDRAW\n",
    "withdraw_metas = [\n",
    "AccountMeta(Alice.public_key, False, False),\n",
    "AccountMeta(X_vault_pk, False, True),\n",
    "AccountMeta(escrow_pk, False, True),\n",
    "AccountMeta(TOKEN_PROGRAM_ID, False, False),\n",
    "AccountMeta(X_a, False, True),\n",
    "AccountMeta(ASSOCIATED_TOKEN_PROGRAM_ID, False, False),\n",
    "]"
   ]
  },
  {
   "cell_type": "code",
   "execution_count": 34,
   "id": "6db69ffc-e55e-4578-9b90-c8a9a74bb911",
   "metadata": {},
   "outputs": [],
   "source": [
    "idx = 2\n",
    "amount_a = 10\n",
    "withdraw_instruction_data = idx.to_bytes(1,\"little\") + amount_a.to_bytes(8,\"little\")"
   ]
  },
  {
   "cell_type": "code",
   "execution_count": 41,
   "id": "f9d05b0d-2169-4296-b964-64bab860ada3",
   "metadata": {},
   "outputs": [],
   "source": [
    "instruction = TransactionInstruction(data=withdraw_instruction_data,program_id=ID,keys=withdraw_metas)\n",
    "tix = Transaction().add(instruction)"
   ]
  },
  {
   "cell_type": "code",
   "execution_count": 38,
   "id": "840a4b72-5697-4f60-88e7-7d87dc672106",
   "metadata": {},
   "outputs": [
    {
     "data": {
      "text/plain": [
       "8gmHBXKMGsnSPa3RKwFDJdR2QzDe9ZfQpMuGxAEhBtfM"
      ]
     },
     "execution_count": 38,
     "metadata": {},
     "output_type": "execute_result"
    }
   ],
   "source": [
    "escrow_pk"
   ]
  },
  {
   "cell_type": "code",
   "execution_count": null,
   "id": "b1550c1f-9963-4399-9369-36c78c15e2cb",
   "metadata": {},
   "outputs": [],
   "source": [
    "y = client.send_transaction(tix, Alice)"
   ]
  },
  {
   "cell_type": "markdown",
   "id": "4f0dc651-8fea-4619-9f82-ca5b7b5db91e",
   "metadata": {},
   "source": [
    "## TESTS"
   ]
  },
  {
   "cell_type": "code",
   "execution_count": null,
   "id": "a2885193-41a6-4ed0-907a-714095a929df",
   "metadata": {},
   "outputs": [],
   "source": [
    "# Alice, Bob both deposit and then withdraw\n",
    "tix = Transaction()\n",
    "X_mint.mint_to(X_a, God, 500)\n",
    "Y_mint.mint_to(Y_b, God, 500)\n",
    "\n",
    "# alice deposit\n",
    "deposit_metas = [\n",
    "AccountMeta(Alice.public_key, True, False),\n",
    "AccountMeta(X_vault_pk, False, True),\n",
    "AccountMeta(escrow_pk, False, True),\n",
    "AccountMeta(TOKEN_PROGRAM_ID, False, False),\n",
    "AccountMeta(X_a, False, True),\n",
    "AccountMeta(ASSOCIATED_TOKEN_PROGRAM_ID, False, False),\n",
    "]\n",
    "idx = 1\n",
    "amount_a = 10\n",
    "deposit_instruction_data = idx.to_bytes(1,\"little\") + amount_a.to_bytes(8,\"little\")\n",
    "instruction = TransactionInstruction(data=deposit_instruction_data,program_id=ID,keys=deposit_metas)\n",
    "tix.add(instruction)\n",
    "y = client.send_transaction(tix, Alice)"
   ]
  },
  {
   "cell_type": "code",
   "execution_count": 58,
   "id": "b43c4f4c-2f60-4fbc-8a65-c6051ca05fc2",
   "metadata": {},
   "outputs": [],
   "source": [
    "# bob deposit\n",
    "tix = Transaction()\n",
    "deposit_metas = [\n",
    "AccountMeta(Bob.public_key, True, False),\n",
    "AccountMeta(Y_vault_pk, False, True),\n",
    "AccountMeta(escrow_pk, False, True),\n",
    "AccountMeta(TOKEN_PROGRAM_ID, False, False),\n",
    "AccountMeta(Y_b, False, True),\n",
    "AccountMeta(ASSOCIATED_TOKEN_PROGRAM_ID, False, False),\n",
    "]\n",
    "idx = 1\n",
    "amount_b = 1\n",
    "deposit_instruction_data = idx.to_bytes(1,\"little\") + amount_b.to_bytes(8,\"little\")\n",
    "instruction = TransactionInstruction(data=deposit_instruction_data,program_id=ID,keys=deposit_metas)\n",
    "tix.add(instruction)\n",
    "y = client.send_transaction(tix, Bob)"
   ]
  },
  {
   "cell_type": "code",
   "execution_count": 59,
   "id": "0db77855-8051-4dad-8abe-d2c06eb57313",
   "metadata": {},
   "outputs": [],
   "source": [
    "# alice withdraw\n",
    "tix = Transaction()\n",
    "withdraw_metas = [\n",
    "AccountMeta(Alice.public_key, False, False),\n",
    "AccountMeta(Y_vault_pk, False, True),\n",
    "AccountMeta(escrow_pk, False, True),\n",
    "AccountMeta(TOKEN_PROGRAM_ID, False, False),\n",
    "AccountMeta(Y_a, False, True),\n",
    "AccountMeta(ASSOCIATED_TOKEN_PROGRAM_ID, False, False),\n",
    "]\n",
    "idx = 2\n",
    "amount_b = 1\n",
    "withdraw_instruction_data = idx.to_bytes(1,\"little\") + amount_b.to_bytes(8,\"little\")\n",
    "instruction = TransactionInstruction(data=withdraw_instruction_data,program_id=ID,keys=withdraw_metas)\n",
    "tix.add(instruction)\n",
    "y = client.send_transaction(tix, Alice)"
   ]
  },
  {
   "cell_type": "code",
   "execution_count": 53,
   "id": "40c37d9d-e771-4e87-a163-9f4c93f51d50",
   "metadata": {},
   "outputs": [
    {
     "ename": "RPCException",
     "evalue": "{'code': -32002, 'message': 'Transaction simulation failed: Error processing Instruction 1: custom program error: 0x1', 'data': {'accounts': None, 'err': {'InstructionError': [1, {'Custom': 1}]}, 'logs': ['Program Fni4pJzEwY3sCE8MAVQFHbXdqm1vEMm85o1o8ormWUJW invoke [1]', 'Program log: Instruction: Deposit', 'Program log: Getting escrow data', 'Program log: Made try from slice', 'Program log: ATA KEY AND BUMP BELOW', 'Program TokenkegQfeZyiNwAJbNbGKPFXCWuBvf9Ss623VQ5DA invoke [2]', 'Program log: Instruction: Transfer', 'Program TokenkegQfeZyiNwAJbNbGKPFXCWuBvf9Ss623VQ5DA consumed 3246 of 189301 compute units', 'Program TokenkegQfeZyiNwAJbNbGKPFXCWuBvf9Ss623VQ5DA success', 'Program Fni4pJzEwY3sCE8MAVQFHbXdqm1vEMm85o1o8ormWUJW consumed 15374 of 200000 compute units', 'Program Fni4pJzEwY3sCE8MAVQFHbXdqm1vEMm85o1o8ormWUJW success', 'Program Fni4pJzEwY3sCE8MAVQFHbXdqm1vEMm85o1o8ormWUJW invoke [1]', 'Program log: Instruction: Deposit', 'Program log: Getting escrow data', 'Program log: Made try from slice', 'Program log: ATA KEY AND BUMP BELOW', 'Program TokenkegQfeZyiNwAJbNbGKPFXCWuBvf9Ss623VQ5DA invoke [2]', 'Program log: Instruction: Transfer', 'Program log: Error: insufficient funds', 'Program TokenkegQfeZyiNwAJbNbGKPFXCWuBvf9Ss623VQ5DA consumed 2528 of 189224 compute units', 'Program TokenkegQfeZyiNwAJbNbGKPFXCWuBvf9Ss623VQ5DA failed: custom program error: 0x1', 'Program Fni4pJzEwY3sCE8MAVQFHbXdqm1vEMm85o1o8ormWUJW consumed 200000 of 200000 compute units', 'Program Fni4pJzEwY3sCE8MAVQFHbXdqm1vEMm85o1o8ormWUJW failed: custom program error: 0x1']}}",
     "output_type": "error",
     "traceback": [
      "\u001b[0;31m---------------------------------------------------------------------------\u001b[0m",
      "\u001b[0;31mRPCException\u001b[0m                              Traceback (most recent call last)",
      "\u001b[0;32m/var/folders/g6/x_q0rc0d7371kkxyv3yhg3nw0000gn/T/ipykernel_18906/4044354183.py\u001b[0m in \u001b[0;36m<module>\u001b[0;34m\u001b[0m\n\u001b[1;32m     63\u001b[0m \u001b[0;34m\u001b[0m\u001b[0m\n\u001b[1;32m     64\u001b[0m \u001b[0;31m# send to client\u001b[0m\u001b[0;34m\u001b[0m\u001b[0;34m\u001b[0m\u001b[0;34m\u001b[0m\u001b[0m\n\u001b[0;32m---> 65\u001b[0;31m \u001b[0my\u001b[0m \u001b[0;34m=\u001b[0m \u001b[0mclient\u001b[0m\u001b[0;34m.\u001b[0m\u001b[0msend_transaction\u001b[0m\u001b[0;34m(\u001b[0m\u001b[0mtix\u001b[0m\u001b[0;34m,\u001b[0m \u001b[0mAlice\u001b[0m\u001b[0;34m,\u001b[0m \u001b[0mBob\u001b[0m\u001b[0;34m)\u001b[0m\u001b[0;34m\u001b[0m\u001b[0;34m\u001b[0m\u001b[0m\n\u001b[0m",
      "\u001b[0;32m~/Library/Python/3.8/lib/python/site-packages/solana/rpc/api.py\u001b[0m in \u001b[0;36msend_transaction\u001b[0;34m(self, txn, opts, recent_blockhash, *signers)\u001b[0m\n\u001b[1;32m   1058\u001b[0m \u001b[0;34m\u001b[0m\u001b[0m\n\u001b[1;32m   1059\u001b[0m         \u001b[0mtxn\u001b[0m\u001b[0;34m.\u001b[0m\u001b[0msign\u001b[0m\u001b[0;34m(\u001b[0m\u001b[0;34m*\u001b[0m\u001b[0msigners\u001b[0m\u001b[0;34m)\u001b[0m\u001b[0;34m\u001b[0m\u001b[0;34m\u001b[0m\u001b[0m\n\u001b[0;32m-> 1060\u001b[0;31m         \u001b[0mtxn_resp\u001b[0m \u001b[0;34m=\u001b[0m \u001b[0mself\u001b[0m\u001b[0;34m.\u001b[0m\u001b[0msend_raw_transaction\u001b[0m\u001b[0;34m(\u001b[0m\u001b[0mtxn\u001b[0m\u001b[0;34m.\u001b[0m\u001b[0mserialize\u001b[0m\u001b[0;34m(\u001b[0m\u001b[0;34m)\u001b[0m\u001b[0;34m,\u001b[0m \u001b[0mopts\u001b[0m\u001b[0;34m=\u001b[0m\u001b[0mopts\u001b[0m\u001b[0;34m)\u001b[0m\u001b[0;34m\u001b[0m\u001b[0;34m\u001b[0m\u001b[0m\n\u001b[0m\u001b[1;32m   1061\u001b[0m         \u001b[0;32mif\u001b[0m \u001b[0mself\u001b[0m\u001b[0;34m.\u001b[0m\u001b[0mblockhash_cache\u001b[0m\u001b[0;34m:\u001b[0m\u001b[0;34m\u001b[0m\u001b[0;34m\u001b[0m\u001b[0m\n\u001b[1;32m   1062\u001b[0m             \u001b[0mblockhash_resp\u001b[0m \u001b[0;34m=\u001b[0m \u001b[0mself\u001b[0m\u001b[0;34m.\u001b[0m\u001b[0mget_recent_blockhash\u001b[0m\u001b[0;34m(\u001b[0m\u001b[0;34m)\u001b[0m\u001b[0;34m\u001b[0m\u001b[0;34m\u001b[0m\u001b[0m\n",
      "\u001b[0;32m~/Library/Python/3.8/lib/python/site-packages/solana/rpc/api.py\u001b[0m in \u001b[0;36msend_raw_transaction\u001b[0;34m(self, txn, opts)\u001b[0m\n\u001b[1;32m   1014\u001b[0m         \u001b[0mresp\u001b[0m \u001b[0;34m=\u001b[0m \u001b[0mself\u001b[0m\u001b[0;34m.\u001b[0m\u001b[0m_provider\u001b[0m\u001b[0;34m.\u001b[0m\u001b[0mmake_request\u001b[0m\u001b[0;34m(\u001b[0m\u001b[0;34m*\u001b[0m\u001b[0margs\u001b[0m\u001b[0;34m)\u001b[0m\u001b[0;34m\u001b[0m\u001b[0;34m\u001b[0m\u001b[0m\n\u001b[1;32m   1015\u001b[0m         \u001b[0;32mif\u001b[0m \u001b[0mopts\u001b[0m\u001b[0;34m.\u001b[0m\u001b[0mskip_confirmation\u001b[0m\u001b[0;34m:\u001b[0m\u001b[0;34m\u001b[0m\u001b[0;34m\u001b[0m\u001b[0m\n\u001b[0;32m-> 1016\u001b[0;31m             \u001b[0;32mreturn\u001b[0m \u001b[0mself\u001b[0m\u001b[0;34m.\u001b[0m\u001b[0m_post_send\u001b[0m\u001b[0;34m(\u001b[0m\u001b[0mresp\u001b[0m\u001b[0;34m)\u001b[0m\u001b[0;34m\u001b[0m\u001b[0;34m\u001b[0m\u001b[0m\n\u001b[0m\u001b[1;32m   1017\u001b[0m         \u001b[0mpost_send_args\u001b[0m \u001b[0;34m=\u001b[0m \u001b[0mself\u001b[0m\u001b[0;34m.\u001b[0m\u001b[0m_send_raw_transaction_post_send_args\u001b[0m\u001b[0;34m(\u001b[0m\u001b[0mresp\u001b[0m\u001b[0;34m,\u001b[0m \u001b[0mopts\u001b[0m\u001b[0;34m)\u001b[0m\u001b[0;34m\u001b[0m\u001b[0;34m\u001b[0m\u001b[0m\n\u001b[1;32m   1018\u001b[0m         \u001b[0;32mreturn\u001b[0m \u001b[0mself\u001b[0m\u001b[0;34m.\u001b[0m\u001b[0m__post_send_with_confirm\u001b[0m\u001b[0;34m(\u001b[0m\u001b[0;34m*\u001b[0m\u001b[0mpost_send_args\u001b[0m\u001b[0;34m)\u001b[0m\u001b[0;34m\u001b[0m\u001b[0;34m\u001b[0m\u001b[0m\n",
      "\u001b[0;32m~/Library/Python/3.8/lib/python/site-packages/solana/rpc/core.py\u001b[0m in \u001b[0;36m_post_send\u001b[0;34m(resp)\u001b[0m\n\u001b[1;32m    362\u001b[0m         \u001b[0mmaybe_error\u001b[0m \u001b[0;34m=\u001b[0m \u001b[0mresp\u001b[0m\u001b[0;34m.\u001b[0m\u001b[0mget\u001b[0m\u001b[0;34m(\u001b[0m\u001b[0;34m\"error\"\u001b[0m\u001b[0;34m)\u001b[0m\u001b[0;34m\u001b[0m\u001b[0;34m\u001b[0m\u001b[0m\n\u001b[1;32m    363\u001b[0m         \u001b[0;32mif\u001b[0m \u001b[0mmaybe_error\u001b[0m \u001b[0;32mis\u001b[0m \u001b[0;32mnot\u001b[0m \u001b[0;32mNone\u001b[0m\u001b[0;34m:\u001b[0m\u001b[0;34m\u001b[0m\u001b[0;34m\u001b[0m\u001b[0m\n\u001b[0;32m--> 364\u001b[0;31m             \u001b[0;32mraise\u001b[0m \u001b[0mRPCException\u001b[0m\u001b[0;34m(\u001b[0m\u001b[0mmaybe_error\u001b[0m\u001b[0;34m)\u001b[0m\u001b[0;34m\u001b[0m\u001b[0;34m\u001b[0m\u001b[0m\n\u001b[0m\u001b[1;32m    365\u001b[0m         \u001b[0;32mif\u001b[0m \u001b[0;32mnot\u001b[0m \u001b[0mresp\u001b[0m\u001b[0;34m.\u001b[0m\u001b[0mget\u001b[0m\u001b[0;34m(\u001b[0m\u001b[0;34m\"result\"\u001b[0m\u001b[0;34m)\u001b[0m\u001b[0;34m:\u001b[0m\u001b[0;34m\u001b[0m\u001b[0;34m\u001b[0m\u001b[0m\n\u001b[1;32m    366\u001b[0m             \u001b[0;32mraise\u001b[0m \u001b[0mException\u001b[0m\u001b[0;34m(\u001b[0m\u001b[0;34m\"Failed to send transaction\"\u001b[0m\u001b[0;34m)\u001b[0m\u001b[0;34m\u001b[0m\u001b[0;34m\u001b[0m\u001b[0m\n",
      "\u001b[0;31mRPCException\u001b[0m: {'code': -32002, 'message': 'Transaction simulation failed: Error processing Instruction 1: custom program error: 0x1', 'data': {'accounts': None, 'err': {'InstructionError': [1, {'Custom': 1}]}, 'logs': ['Program Fni4pJzEwY3sCE8MAVQFHbXdqm1vEMm85o1o8ormWUJW invoke [1]', 'Program log: Instruction: Deposit', 'Program log: Getting escrow data', 'Program log: Made try from slice', 'Program log: ATA KEY AND BUMP BELOW', 'Program TokenkegQfeZyiNwAJbNbGKPFXCWuBvf9Ss623VQ5DA invoke [2]', 'Program log: Instruction: Transfer', 'Program TokenkegQfeZyiNwAJbNbGKPFXCWuBvf9Ss623VQ5DA consumed 3246 of 189301 compute units', 'Program TokenkegQfeZyiNwAJbNbGKPFXCWuBvf9Ss623VQ5DA success', 'Program Fni4pJzEwY3sCE8MAVQFHbXdqm1vEMm85o1o8ormWUJW consumed 15374 of 200000 compute units', 'Program Fni4pJzEwY3sCE8MAVQFHbXdqm1vEMm85o1o8ormWUJW success', 'Program Fni4pJzEwY3sCE8MAVQFHbXdqm1vEMm85o1o8ormWUJW invoke [1]', 'Program log: Instruction: Deposit', 'Program log: Getting escrow data', 'Program log: Made try from slice', 'Program log: ATA KEY AND BUMP BELOW', 'Program TokenkegQfeZyiNwAJbNbGKPFXCWuBvf9Ss623VQ5DA invoke [2]', 'Program log: Instruction: Transfer', 'Program log: Error: insufficient funds', 'Program TokenkegQfeZyiNwAJbNbGKPFXCWuBvf9Ss623VQ5DA consumed 2528 of 189224 compute units', 'Program TokenkegQfeZyiNwAJbNbGKPFXCWuBvf9Ss623VQ5DA failed: custom program error: 0x1', 'Program Fni4pJzEwY3sCE8MAVQFHbXdqm1vEMm85o1o8ormWUJW consumed 200000 of 200000 compute units', 'Program Fni4pJzEwY3sCE8MAVQFHbXdqm1vEMm85o1o8ormWUJW failed: custom program error: 0x1']}}"
     ]
    }
   ],
   "source": [
    "# bob withdraw\n",
    "tix = Transaction()\n",
    "withdraw_metas = [\n",
    "AccountMeta(Bob.public_key, False, False),\n",
    "AccountMeta(X_vault_pk, False, True),\n",
    "AccountMeta(escrow_pk, False, True),\n",
    "AccountMeta(TOKEN_PROGRAM_ID, False, False),\n",
    "AccountMeta(X_b, False, True),\n",
    "AccountMeta(ASSOCIATED_TOKEN_PROGRAM_ID, False, False),\n",
    "]\n",
    "idx = 2\n",
    "amount_a = 10\n",
    "withdraw_instruction_data = idx.to_bytes(1,\"little\") + amount_a.to_bytes(8,\"little\")\n",
    "instruction = TransactionInstruction(data=withdraw_instruction_data,program_id=ID,keys=withdraw_metas)\n",
    "tix.add(instruction)\n",
    "\n",
    "# send to client\n",
    "y = client.send_transaction(tix, Bob)"
   ]
  }
 ],
 "metadata": {
  "kernelspec": {
   "display_name": "Python 3 (ipykernel)",
   "language": "python",
   "name": "python3"
  },
  "language_info": {
   "codemirror_mode": {
    "name": "ipython",
    "version": 3
   },
   "file_extension": ".py",
   "mimetype": "text/x-python",
   "name": "python",
   "nbconvert_exporter": "python",
   "pygments_lexer": "ipython3",
   "version": "3.8.2"
  }
 },
 "nbformat": 4,
 "nbformat_minor": 5
}
