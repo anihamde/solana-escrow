{
 "cells": [
  {
   "cell_type": "code",
   "execution_count": 183,
   "id": "adf29352-c838-4a28-bdc9-9b0544f8d7e3",
   "metadata": {},
   "outputs": [],
   "source": [
    "import solana\n",
    "from solana.rpc.api import Client\n",
    "from solana.keypair import Keypair\n",
    "from solana.transaction import TransactionInstruction, Transaction, AccountMeta\n",
    "import argparse\n",
    "from solana.publickey import PublicKey\n",
    "from solana.blockhash import Blockhash\n",
    "from solana.system_program import *\n",
    "import base58, base64\n",
    "from solana.sysvar import SYSVAR_RENT_PUBKEY\n",
    "from solana.system_program import SYS_PROGRAM_ID\n",
    "from spl.token.constants import TOKEN_PROGRAM_ID\n",
    "from spl.token.client import Token\n",
    "import time"
   ]
  },
  {
   "cell_type": "code",
   "execution_count": 36,
   "id": "f9036888-f66b-4e8b-bb3c-84e8804b1e57",
   "metadata": {},
   "outputs": [],
   "source": [
    "client = Client(\"https://api.devnet.solana.com\")\n",
    "ID = \"9hmJ5wd2sA6WCutptqJzxPHUe3hbTVNivR5TXRtm1iYC\"\n",
    "#ID = \"A4vEBwVMoEZ8j4gthtMnm3MLgKtZoSrw7kYGq4KotE2Q\"#\"A4vEBwVMoEZ8j4gthtMnm3MLgKtZoSrw7kYGq4KotE2Q\"\n",
    "program_id=base58.b58decode(ID)"
   ]
  },
  {
   "cell_type": "code",
   "execution_count": 37,
   "id": "7b3fbe70-798c-42ec-ba25-a4ae6de88aff",
   "metadata": {},
   "outputs": [],
   "source": [
    "k = [239,114,243,183,37,213,148,161,13,172,25,86,143,240,175,157,215,108,156,181,161,230,0,40,228,255,23,209,52,254,120,234,234,209,190,175,172,89,1,135,75,124,43,221,38,148,22,210,210,175,41,10,176,56,96,41,166,103,76,50,58,78,15,74]\n",
    "God = Keypair().from_secret_key(bytes(k[0:32]))"
   ]
  },
  {
   "cell_type": "code",
   "execution_count": 154,
   "id": "6dd9f56c-6a90-4164-9ebf-def875210e73",
   "metadata": {},
   "outputs": [],
   "source": [
    "Alice = Keypair()\n",
    "Bob = Keypair()"
   ]
  },
  {
   "cell_type": "code",
   "execution_count": null,
   "id": "807c29ca-0dc9-454b-86fc-64b90f8211bb",
   "metadata": {},
   "outputs": [],
   "source": [
    "client.request_airdrop(Alice.public_key, 1000000000)"
   ]
  },
  {
   "cell_type": "code",
   "execution_count": 155,
   "id": "cac9e2b0-5ae6-46b1-b677-2aca6f907d44",
   "metadata": {},
   "outputs": [
    {
     "data": {
      "text/plain": [
       "6pabcWVNKzgQ2kW8khLXcQb1FqyG4647AfvdoTVdg2f6"
      ]
     },
     "execution_count": 155,
     "metadata": {},
     "output_type": "execute_result"
    }
   ],
   "source": [
    "Alice.public_key"
   ]
  },
  {
   "cell_type": "code",
   "execution_count": 242,
   "id": "a7900b7f-6a8f-4492-9908-d102d6cf00c8",
   "metadata": {},
   "outputs": [],
   "source": [
    "X_mint = Token.create_mint(client, God, God.public_key, 0, TOKEN_PROGRAM_ID)\n",
    "Y_mint = Token.create_mint(client, God, God.public_key, 0, TOKEN_PROGRAM_ID)"
   ]
  },
  {
   "cell_type": "code",
   "execution_count": 243,
   "id": "a42926c5-a688-43bb-b682-7323813add70",
   "metadata": {},
   "outputs": [],
   "source": [
    "token_program_pk = TOKEN_PROGRAM_ID\n",
    "x_seed = bytes(X_mint.pubkey)\n",
    "y_seed = bytes(Y_mint.pubkey)\n",
    "alice_seed = bytes(Alice.public_key)\n",
    "bob_seed = bytes(Bob.public_key)\n",
    "X_vault_pk, _ = PublicKey.find_program_address([x_seed, alice_seed, bob_seed], program_id)\n",
    "Y_vault_pk, _ = PublicKey.find_program_address([y_seed, alice_seed, bob_seed], program_id)\n",
    "x_vault_seed = bytes(X_vault_pk)\n",
    "y_vault_seed = bytes(Y_vault_pk)\n",
    "escrow_pk, _ = PublicKey.find_program_address([x_vault_seed, y_vault_seed, alice_seed, bob_seed], program_id)"
   ]
  },
  {
   "cell_type": "code",
   "execution_count": 244,
   "id": "52031fe5-ee28-4ab8-9537-8c20f3490120",
   "metadata": {},
   "outputs": [],
   "source": [
    "account_metas = [\n",
    "AccountMeta(Alice.public_key, True, False),\n",
    "AccountMeta(Bob.public_key, False, False),\n",
    "AccountMeta(X_mint.pubkey, False, False),\n",
    "AccountMeta(Y_mint.pubkey, False, False),\n",
    "AccountMeta(X_vault_pk, False, True),\n",
    "AccountMeta(Y_vault_pk, False, True),\n",
    "AccountMeta(escrow_pk, False, True),\n",
    "AccountMeta(TOKEN_PROGRAM_ID, False, False),\n",
    "AccountMeta(SYS_PROGRAM_ID, False, False),\n",
    "AccountMeta(SYSVAR_RENT_PUBKEY, False, False),\n",
    "]"
   ]
  },
  {
   "cell_type": "code",
   "execution_count": 245,
   "id": "b50ec57a-4d9c-401f-8a2e-617b5302d12d",
   "metadata": {},
   "outputs": [],
   "source": [
    "idx = 0\n",
    "size_A = 10\n",
    "size_B = 1\n",
    "instruction_data = idx.to_bytes(1,\"little\") + size_A.to_bytes(8,\"little\") + size_B.to_bytes(8,\"little\")"
   ]
  },
  {
   "cell_type": "code",
   "execution_count": 246,
   "id": "cf9f010f-7a97-4e79-a468-44812d1ed230",
   "metadata": {},
   "outputs": [],
   "source": [
    "instruction = TransactionInstruction(data=instruction_data,program_id=ID,keys=account_metas)\n",
    "tix = Transaction().add(instruction)"
   ]
  },
  {
   "cell_type": "code",
   "execution_count": 247,
   "id": "f3238538-b45b-42f9-9640-676a91cc5025",
   "metadata": {},
   "outputs": [],
   "source": [
    "#time.sleep(2)\n",
    "y = client.send_transaction(tix, Alice)"
   ]
  },
  {
   "cell_type": "code",
   "execution_count": 248,
   "id": "4ef79462-8989-4f57-9010-6ba3431b5c62",
   "metadata": {},
   "outputs": [
    {
     "name": "stdout",
     "output_type": "stream",
     "text": [
      "{'jsonrpc': '2.0', 'result': '4ogcZ6WKwV6tKRvL1tjrHzb54Jw7SGUR7c5UuCsFYjStSCir4xi3hzjX9coVEtnr5dTFic6U8Gcd9qLwMHi3w1fx', 'id': 316}\n"
     ]
    }
   ],
   "source": [
    "print(y)"
   ]
  },
  {
   "cell_type": "code",
   "execution_count": 241,
   "id": "c9597b7f-e374-41e3-ab6c-8b2fce80aae1",
   "metadata": {},
   "outputs": [
    {
     "name": "stdout",
     "output_type": "stream",
     "text": [
      "ESCROW\n",
      "{'jsonrpc': '2.0', 'result': {'context': {'slot': 85820600}, 'value': {'data': ['Vnq4e8SSy/lx8EboVPMVPVQGuDH4Vl6Uv73v4NQQkR0Jhi8GQLfJuXbscorx7xSf078332AQmXPBtHqGiiIcggoAAAAAAAAAAQAAAAAAAACT34O3dWv3/En77iy/1rY2kJhvOoKpxBEMfnqxOWF2dQdt87ixqizlQ0eDVhLysoVXR7+X8SstLV/ra1FlX3wyAP8=', 'base64'], 'executable': False, 'lamports': 1907040, 'owner': '9hmJ5wd2sA6WCutptqJzxPHUe3hbTVNivR5TXRtm1iYC', 'rentEpoch': 198}}, 'id': 298}\n",
      "X VAULT\n",
      "{'jsonrpc': '2.0', 'result': {'context': {'slot': 85820600}, 'value': {'data': ['dXlTzsPoQt0TOsrkqNKxvHrnqj2+F0rjvXIiB9kJn0EoV6XuxvjdEO/ZC4Xd4l9VIZSVHxUQ8q1e8a2BHHrPUwAAAAAAAAAAAAAAAAAAAAAAAAAAAAAAAAAAAAAAAAAAAAAAAAAAAAAAAAAAAQAAAAAAAAAAAAAAAAAAAAAAAAAAAAAAAAAAAAAAAAAAAAAAAAAAAAAAAAAAAAAAAAAAAAAAAAAA', 'base64'], 'executable': False, 'lamports': 2039280, 'owner': 'TokenkegQfeZyiNwAJbNbGKPFXCWuBvf9Ss623VQ5DA', 'rentEpoch': 198}}, 'id': 299}\n"
     ]
    }
   ],
   "source": [
    "print(\"ESCROW\")\n",
    "print(client.get_account_info(escrow_pk))\n",
    "print(\"X VAULT\")\n",
    "print(client.get_account_info(X_vault_pk))"
   ]
  },
  {
   "cell_type": "code",
   "execution_count": 212,
   "id": "7740091a-085d-4235-a980-79d620c1d040",
   "metadata": {},
   "outputs": [
    {
     "data": {
      "text/plain": [
       "7fw3RWhV7gpJHMh5pZVARxSfKLwMfSQCDvxdPhP54bHV"
      ]
     },
     "execution_count": 212,
     "metadata": {},
     "output_type": "execute_result"
    }
   ],
   "source": [
    "escrow_pk"
   ]
  }
 ],
 "metadata": {
  "kernelspec": {
   "display_name": "Python 3 (ipykernel)",
   "language": "python",
   "name": "python3"
  },
  "language_info": {
   "codemirror_mode": {
    "name": "ipython",
    "version": 3
   },
   "file_extension": ".py",
   "mimetype": "text/x-python",
   "name": "python",
   "nbconvert_exporter": "python",
   "pygments_lexer": "ipython3",
   "version": "3.8.2"
  }
 },
 "nbformat": 4,
 "nbformat_minor": 5
}
