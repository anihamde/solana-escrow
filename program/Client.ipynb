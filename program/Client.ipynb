{
 "cells": [
  {
   "cell_type": "code",
   "execution_count": 1,
   "id": "adf29352-c838-4a28-bdc9-9b0544f8d7e3",
   "metadata": {},
   "outputs": [],
   "source": [
    "import solana\n",
    "from solana.rpc.api import Client\n",
    "from solana.keypair import Keypair\n",
    "from solana.transaction import TransactionInstruction, Transaction, AccountMeta\n",
    "import argparse\n",
    "from solana.publickey import PublicKey\n",
    "from solana.blockhash import Blockhash\n",
    "from solana.system_program import *\n",
    "import base58, base64\n",
    "from solana.sysvar import SYSVAR_RENT_PUBKEY\n",
    "from solana.system_program import SYS_PROGRAM_ID\n",
    "from spl.token.constants import TOKEN_PROGRAM_ID, ASSOCIATED_TOKEN_PROGRAM_ID\n",
    "from spl.token.client import Token\n",
    "import time"
   ]
  },
  {
   "cell_type": "code",
   "execution_count": 2,
   "id": "f9036888-f66b-4e8b-bb3c-84e8804b1e57",
   "metadata": {},
   "outputs": [],
   "source": [
    "client = Client(\"https://api.devnet.solana.com\")\n",
    "ID = \"Cf8D7jF1mxtn1uX7kBWDUJZUQ5U3ewreM8JaxJDda77g\"\n",
    "#ID = \"A4vEBwVMoEZ8j4gthtMnm3MLgKtZoSrw7kYGq4KotE2Q\"#\"A4vEBwVMoEZ8j4gthtMnm3MLgKtZoSrw7kYGq4KotE2Q\"\n",
    "program_id=base58.b58decode(ID)"
   ]
  },
  {
   "cell_type": "code",
   "execution_count": 3,
   "id": "7b3fbe70-798c-42ec-ba25-a4ae6de88aff",
   "metadata": {},
   "outputs": [],
   "source": [
    "k = [239,114,243,183,37,213,148,161,13,172,25,86,143,240,175,157,215,108,156,181,161,230,0,40,228,255,23,209,52,254,120,234,234,209,190,175,172,89,1,135,75,124,43,221,38,148,22,210,210,175,41,10,176,56,96,41,166,103,76,50,58,78,15,74]\n",
    "God = Keypair.from_secret_key(bytes(k))"
   ]
  },
  {
   "cell_type": "code",
   "execution_count": 4,
   "id": "2382511b-0d5f-4054-9d7b-1b9068531f30",
   "metadata": {},
   "outputs": [
    {
     "data": {
      "text/plain": [
       "GoduExX7V8SpBDTyf2pRukQgEFV8dXJjpaRuNRQAbfhb"
      ]
     },
     "execution_count": 4,
     "metadata": {},
     "output_type": "execute_result"
    }
   ],
   "source": [
    "God.public_key"
   ]
  },
  {
   "cell_type": "code",
   "execution_count": 5,
   "id": "6dd9f56c-6a90-4164-9ebf-def875210e73",
   "metadata": {},
   "outputs": [],
   "source": [
    "Alice = Keypair()\n",
    "Bob = Keypair()"
   ]
  },
  {
   "cell_type": "code",
   "execution_count": 6,
   "id": "807c29ca-0dc9-454b-86fc-64b90f8211bb",
   "metadata": {},
   "outputs": [
    {
     "data": {
      "text/plain": [
       "{'jsonrpc': '2.0',\n",
       " 'result': '27nXMiLjcn6U4zAgxpNTtw1N8MzTSYYej6W3S7kiByfcbxwp6QPPSzma4eXE8nTsGxq5srvkQnKHPLbbZpQdD2Cc',\n",
       " 'id': 2}"
      ]
     },
     "execution_count": 6,
     "metadata": {},
     "output_type": "execute_result"
    }
   ],
   "source": [
    "client.request_airdrop(Alice.public_key, 1000000000)\n",
    "time.sleep(15)\n",
    "client.request_airdrop(Bob.public_key, 1000000000)"
   ]
  },
  {
   "cell_type": "code",
   "execution_count": 32,
   "id": "a7900b7f-6a8f-4492-9908-d102d6cf00c8",
   "metadata": {},
   "outputs": [],
   "source": [
    "X_mint = Token.create_mint(client, God, God.public_key, 9, TOKEN_PROGRAM_ID)\n",
    "Y_mint = Token.create_mint(client, God, God.public_key, 9, TOKEN_PROGRAM_ID)"
   ]
  },
  {
   "cell_type": "code",
   "execution_count": 33,
   "id": "a42926c5-a688-43bb-b682-7323813add70",
   "metadata": {},
   "outputs": [],
   "source": [
    "token_program_pk = TOKEN_PROGRAM_ID\n",
    "x_seed = bytes(X_mint.pubkey)\n",
    "y_seed = bytes(Y_mint.pubkey)\n",
    "alice_seed = bytes(Alice.public_key)\n",
    "bob_seed = bytes(Bob.public_key)\n",
    "X_vault_pk, _ = PublicKey.find_program_address([x_seed, alice_seed, bob_seed], program_id)\n",
    "Y_vault_pk, _ = PublicKey.find_program_address([y_seed, alice_seed, bob_seed], program_id)\n",
    "x_vault_seed = bytes(X_vault_pk)\n",
    "y_vault_seed = bytes(Y_vault_pk)\n",
    "escrow_pk, _ = PublicKey.find_program_address([x_vault_seed, y_vault_seed, alice_seed, bob_seed], program_id)"
   ]
  },
  {
   "cell_type": "code",
   "execution_count": 49,
   "id": "52031fe5-ee28-4ab8-9537-8c20f3490120",
   "metadata": {},
   "outputs": [],
   "source": [
    "account_metas = [\n",
    "AccountMeta(Alice.public_key, True, False),\n",
    "AccountMeta(Bob.public_key, False, False),\n",
    "AccountMeta(X_mint.pubkey, False, False),\n",
    "AccountMeta(Y_mint.pubkey, False, False),\n",
    "AccountMeta(X_vault_pk, False, True),\n",
    "AccountMeta(Y_vault_pk, False, True),\n",
    "AccountMeta(escrow_pk, False, True),\n",
    "AccountMeta(TOKEN_PROGRAM_ID, False, False),\n",
    "AccountMeta(SYS_PROGRAM_ID, False, False),\n",
    "AccountMeta(SYSVAR_RENT_PUBKEY, False, False),\n",
    "]"
   ]
  },
  {
   "cell_type": "code",
   "execution_count": 50,
   "id": "b50ec57a-4d9c-401f-8a2e-617b5302d12d",
   "metadata": {},
   "outputs": [],
   "source": [
    "idx = 0\n",
    "size_A = 10\n",
    "size_B = 1\n",
    "instruction_data = idx.to_bytes(1,\"little\") + size_A.to_bytes(8,\"little\") + size_B.to_bytes(8,\"little\")"
   ]
  },
  {
   "cell_type": "code",
   "execution_count": 51,
   "id": "cf9f010f-7a97-4e79-a468-44812d1ed230",
   "metadata": {},
   "outputs": [],
   "source": [
    "instruction = TransactionInstruction(data=instruction_data,program_id=ID,keys=account_metas)\n",
    "tix = Transaction().add(instruction)"
   ]
  },
  {
   "cell_type": "code",
   "execution_count": 52,
   "id": "f3238538-b45b-42f9-9640-676a91cc5025",
   "metadata": {},
   "outputs": [
    {
     "name": "stdout",
     "output_type": "stream",
     "text": [
      "{'jsonrpc': '2.0', 'result': '5eog7kkszmd1Ukz4VYRux9TxXNP4doRzqTit1UFCwUZZ2PkbPQLijhL2sSRuwtr92xTq242gRGgJBFjyBNpi7yXz', 'id': 108}\n"
     ]
    }
   ],
   "source": [
    "# initialization\n",
    "y = client.send_transaction(tix, Alice)\n",
    "print(y)"
   ]
  },
  {
   "cell_type": "code",
   "execution_count": 38,
   "id": "6f6aafb5-ee91-4615-a40a-20768aa48b57",
   "metadata": {},
   "outputs": [],
   "source": [
    "# DEPOSIT\n",
    "# create ATAs\n",
    "X_a = X_mint.create_associated_token_account(Alice.public_key)\n",
    "Y_a = Y_mint.create_associated_token_account(Alice.public_key)\n",
    "X_b = X_mint.create_associated_token_account(Bob.public_key)\n",
    "Y_b = Y_mint.create_associated_token_account(Bob.public_key)"
   ]
  },
  {
   "cell_type": "code",
   "execution_count": 39,
   "id": "57847fcd-dffe-4b96-9583-396a6aa54a34",
   "metadata": {},
   "outputs": [
    {
     "data": {
      "text/plain": [
       "{'jsonrpc': '2.0',\n",
       " 'result': '2UvueVAbYzhHU5uJC6zHjdmvKrgRodj3BY6rzp8GdxqCWBixDvdj6CzXVkDazp57TykqWNAXJU8eRBoYjyXqdH2p',\n",
       " 'id': 98}"
      ]
     },
     "execution_count": 39,
     "metadata": {},
     "output_type": "execute_result"
    }
   ],
   "source": [
    "X_mint.mint_to(X_a, God, 500)\n",
    "#X_mint.mint_to(X_b, God, 500)\n",
    "#Y_mint.mint_to(Y_a, God, 500)\n",
    "Y_mint.mint_to(Y_b, God, 500)"
   ]
  },
  {
   "cell_type": "code",
   "execution_count": 53,
   "id": "c38c9076-792b-4f09-ae9e-1d41fc482bdc",
   "metadata": {},
   "outputs": [],
   "source": [
    "deposit_metas = [\n",
    "AccountMeta(Alice.public_key, True, False),\n",
    "AccountMeta(X_vault_pk, False, True),\n",
    "AccountMeta(escrow_pk, False, True),\n",
    "AccountMeta(TOKEN_PROGRAM_ID, False, False),\n",
    "AccountMeta(X_a, False, True),\n",
    "AccountMeta(ASSOCIATED_TOKEN_PROGRAM_ID, False, False),\n",
    "]"
   ]
  },
  {
   "cell_type": "code",
   "execution_count": 17,
   "id": "d2ebed4e-c23b-45ab-835d-83f992e01e35",
   "metadata": {},
   "outputs": [],
   "source": [
    "idx = 1\n",
    "amount_a = 10\n",
    "deposit_instruction_data = idx.to_bytes(1,\"little\") + amount_a.to_bytes(8,\"little\")"
   ]
  },
  {
   "cell_type": "code",
   "execution_count": 18,
   "id": "814e36ff-ad22-4098-9b34-9335469e8af8",
   "metadata": {},
   "outputs": [],
   "source": [
    "instruction = TransactionInstruction(data=deposit_instruction_data,program_id=ID,keys=deposit_metas)\n",
    "tix = Transaction().add(instruction)"
   ]
  },
  {
   "cell_type": "code",
   "execution_count": null,
   "id": "238f89b0-58a5-44e7-839e-8cf65f33468e",
   "metadata": {},
   "outputs": [],
   "source": [
    "y = client.send_transaction(tix, Alice)\n",
    "print(y)"
   ]
  },
  {
   "cell_type": "code",
   "execution_count": 40,
   "id": "dbc60046-d546-47a9-a1a3-f3523ceb63d4",
   "metadata": {},
   "outputs": [],
   "source": [
    "# WITHDRAW\n",
    "withdraw_metas = [\n",
    "AccountMeta(Alice.public_key, False, False),\n",
    "AccountMeta(X_vault_pk, False, True),\n",
    "AccountMeta(escrow_pk, False, True),\n",
    "AccountMeta(TOKEN_PROGRAM_ID, False, False),\n",
    "AccountMeta(X_a, False, True),\n",
    "AccountMeta(ASSOCIATED_TOKEN_PROGRAM_ID, False, False),\n",
    "]"
   ]
  },
  {
   "cell_type": "code",
   "execution_count": 34,
   "id": "6db69ffc-e55e-4578-9b90-c8a9a74bb911",
   "metadata": {},
   "outputs": [],
   "source": [
    "idx = 2\n",
    "amount_a = 10\n",
    "withdraw_instruction_data = idx.to_bytes(1,\"little\") + amount_a.to_bytes(8,\"little\")"
   ]
  },
  {
   "cell_type": "code",
   "execution_count": 41,
   "id": "f9d05b0d-2169-4296-b964-64bab860ada3",
   "metadata": {},
   "outputs": [],
   "source": [
    "instruction = TransactionInstruction(data=withdraw_instruction_data,program_id=ID,keys=withdraw_metas)\n",
    "tix = Transaction().add(instruction)"
   ]
  },
  {
   "cell_type": "code",
   "execution_count": null,
   "id": "b1550c1f-9963-4399-9369-36c78c15e2cb",
   "metadata": {},
   "outputs": [],
   "source": [
    "y = client.send_transaction(tix, Alice)"
   ]
  },
  {
   "cell_type": "markdown",
   "id": "4f0dc651-8fea-4619-9f82-ca5b7b5db91e",
   "metadata": {},
   "source": [
    "## TESTS"
   ]
  },
  {
   "cell_type": "code",
   "execution_count": 45,
   "id": "a2885193-41a6-4ed0-907a-714095a929df",
   "metadata": {},
   "outputs": [],
   "source": [
    "# Alice, Bob both deposit and then withdraw\n",
    "tix = Transaction()\n",
    "#X_mint.mint_to(X_a, God, 500)\n",
    "#Y_mint.mint_to(Y_b, God, 500)\n",
    "\n",
    "# alice deposit\n",
    "deposit_metas = [\n",
    "AccountMeta(Alice.public_key, True, False),\n",
    "AccountMeta(X_vault_pk, False, True),\n",
    "AccountMeta(escrow_pk, False, True),\n",
    "AccountMeta(TOKEN_PROGRAM_ID, False, False),\n",
    "AccountMeta(X_a, False, True),\n",
    "AccountMeta(ASSOCIATED_TOKEN_PROGRAM_ID, False, False),\n",
    "]\n",
    "idx = 1\n",
    "amount_a = 10\n",
    "deposit_instruction_data = idx.to_bytes(1,\"little\") + amount_a.to_bytes(8,\"little\")\n",
    "instruction = TransactionInstruction(data=deposit_instruction_data,program_id=ID,keys=deposit_metas)\n",
    "tix.add(instruction)\n",
    "y = client.send_transaction(tix, Alice)\n",
    "print(y)"
   ]
  },
  {
   "cell_type": "code",
   "execution_count": 47,
   "id": "b43c4f4c-2f60-4fbc-8a65-c6051ca05fc2",
   "metadata": {},
   "outputs": [],
   "source": [
    "# bob deposit\n",
    "tix = Transaction()\n",
    "deposit_metas = [\n",
    "AccountMeta(Bob.public_key, True, False),\n",
    "AccountMeta(Y_vault_pk, False, True),\n",
    "AccountMeta(escrow_pk, False, True),\n",
    "AccountMeta(TOKEN_PROGRAM_ID, False, False),\n",
    "AccountMeta(Y_b, False, True),\n",
    "AccountMeta(ASSOCIATED_TOKEN_PROGRAM_ID, False, False),\n",
    "]\n",
    "idx = 1\n",
    "amount_b = 1\n",
    "deposit_instruction_data = idx.to_bytes(1,\"little\") + amount_b.to_bytes(8,\"little\")\n",
    "instruction = TransactionInstruction(data=deposit_instruction_data,program_id=ID,keys=deposit_metas)\n",
    "tix.add(instruction)\n",
    "y = client.send_transaction(tix, Bob)\n",
    "print(y)"
   ]
  },
  {
   "cell_type": "code",
   "execution_count": 54,
   "id": "0db77855-8051-4dad-8abe-d2c06eb57313",
   "metadata": {},
   "outputs": [],
   "source": [
    "# alice withdraw\n",
    "tix = Transaction()\n",
    "withdraw_metas = [\n",
    "AccountMeta(Alice.public_key, False, False),\n",
    "AccountMeta(Y_vault_pk, False, True),\n",
    "AccountMeta(escrow_pk, False, True),\n",
    "AccountMeta(TOKEN_PROGRAM_ID, False, False),\n",
    "AccountMeta(Y_a, False, True),\n",
    "AccountMeta(ASSOCIATED_TOKEN_PROGRAM_ID, False, False),\n",
    "]\n",
    "idx = 2\n",
    "amount_b = 1\n",
    "withdraw_instruction_data = idx.to_bytes(1,\"little\") + amount_b.to_bytes(8,\"little\")\n",
    "instruction = TransactionInstruction(data=withdraw_instruction_data,program_id=ID,keys=withdraw_metas)\n",
    "tix.add(instruction)\n",
    "y = client.send_transaction(tix, Alice)\n",
    "print(y)"
   ]
  },
  {
   "cell_type": "code",
   "execution_count": 56,
   "id": "40c37d9d-e771-4e87-a163-9f4c93f51d50",
   "metadata": {},
   "outputs": [],
   "source": [
    "# bob withdraw\n",
    "tix = Transaction()\n",
    "withdraw_metas = [\n",
    "AccountMeta(Bob.public_key, False, False),\n",
    "AccountMeta(X_vault_pk, False, True),\n",
    "AccountMeta(escrow_pk, False, True),\n",
    "AccountMeta(TOKEN_PROGRAM_ID, False, False),\n",
    "AccountMeta(X_b, False, True),\n",
    "AccountMeta(ASSOCIATED_TOKEN_PROGRAM_ID, False, False),\n",
    "]\n",
    "idx = 2\n",
    "amount_a = 10\n",
    "withdraw_instruction_data = idx.to_bytes(1,\"little\") + amount_a.to_bytes(8,\"little\")\n",
    "instruction = TransactionInstruction(data=withdraw_instruction_data,program_id=ID,keys=withdraw_metas)\n",
    "tix.add(instruction)\n",
    "\n",
    "# send to client\n",
    "y = client.send_transaction(tix, Bob)\n",
    "print(y)"
   ]
  }
 ],
 "metadata": {
  "kernelspec": {
   "display_name": "Python 3 (ipykernel)",
   "language": "python",
   "name": "python3"
  },
  "language_info": {
   "codemirror_mode": {
    "name": "ipython",
    "version": 3
   },
   "file_extension": ".py",
   "mimetype": "text/x-python",
   "name": "python",
   "nbconvert_exporter": "python",
   "pygments_lexer": "ipython3",
   "version": "3.8.2"
  }
 },
 "nbformat": 4,
 "nbformat_minor": 5
}
