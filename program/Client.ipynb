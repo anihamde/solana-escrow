{
 "cells": [
  {
   "cell_type": "code",
   "execution_count": 1,
   "metadata": {},
   "outputs": [],
   "source": [
    "import solana\n",
    "from solana.rpc.api import Client\n",
    "from solana.keypair import Keypair\n",
    "from solana.transaction import TransactionInstruction, Transaction, AccountMeta\n",
    "import argparse\n",
    "from solana.publickey import PublicKey\n",
    "from solana.blockhash import Blockhash\n",
    "from solana.system_program import *\n",
    "import base58, base64\n",
    "from solana.sysvar import SYSVAR_RENT_PUBKEY\n",
    "from solana.system_program import SYS_PROGRAM_ID\n",
    "from spl.token.constants import TOKEN_PROGRAM_ID, ASSOCIATED_TOKEN_PROGRAM_ID\n",
    "from spl.token.client import Token\n",
    "import time"
   ]
  },
  {
   "cell_type": "code",
   "execution_count": 2,
   "metadata": {},
   "outputs": [],
   "source": [
    "client = Client(\"https://api.devnet.solana.com\")\n",
    "ID = \"Cf8D7jF1mxtn1uX7kBWDUJZUQ5U3ewreM8JaxJDda77g\"\n",
    "#ID = \"A4vEBwVMoEZ8j4gthtMnm3MLgKtZoSrw7kYGq4KotE2Q\"#\"A4vEBwVMoEZ8j4gthtMnm3MLgKtZoSrw7kYGq4KotE2Q\"\n",
    "program_id=base58.b58decode(ID)"
   ]
  },
  {
   "cell_type": "code",
   "execution_count": 3,
   "metadata": {},
   "outputs": [],
   "source": [
    "k = [239,114,243,183,37,213,148,161,13,172,25,86,143,240,175,157,215,108,156,181,161,230,0,40,228,255,23,209,52,254,120,234,234,209,190,175,172,89,1,135,75,124,43,221,38,148,22,210,210,175,41,10,176,56,96,41,166,103,76,50,58,78,15,74]\n",
    "God = Keypair.from_secret_key(bytes(k))"
   ]
  },
  {
   "cell_type": "code",
   "execution_count": 4,
   "metadata": {},
   "outputs": [
    {
     "data": {
      "text/plain": [
       "GoduExX7V8SpBDTyf2pRukQgEFV8dXJjpaRuNRQAbfhb"
      ]
     },
     "execution_count": 4,
     "metadata": {},
     "output_type": "execute_result"
    }
   ],
   "source": [
    "God.public_key"
   ]
  },
  {
   "cell_type": "code",
   "execution_count": 5,
   "metadata": {},
   "outputs": [],
   "source": [
    "Alice = Keypair()\n",
    "Bob = Keypair()"
   ]
  },
  {
   "cell_type": "code",
   "execution_count": 6,
   "metadata": {},
   "outputs": [
    {
     "data": {
      "text/plain": [
       "{'jsonrpc': '2.0',\n",
       " 'result': '3ENTe1jMfd4H7Z2JDPFrHcPXnrhLpE1GLowr8f838BvSYPCsSUobC6qnsjVQ9gQrBXxMj7tde7V314ZxHLAXD8a',\n",
       " 'id': 2}"
      ]
     },
     "execution_count": 6,
     "metadata": {},
     "output_type": "execute_result"
    }
   ],
   "source": [
    "client.request_airdrop(Alice.public_key, 1000000000)\n",
    "time.sleep(15)\n",
    "client.request_airdrop(Bob.public_key, 1000000000)"
   ]
  },
  {
   "cell_type": "code",
   "execution_count": 7,
   "metadata": {},
   "outputs": [],
   "source": [
    "X_mint = Token.create_mint(client, God, God.public_key, 9, TOKEN_PROGRAM_ID)\n",
    "Y_mint = Token.create_mint(client, God, God.public_key, 9, TOKEN_PROGRAM_ID)"
   ]
  },
  {
   "cell_type": "code",
   "execution_count": 8,
   "metadata": {},
   "outputs": [],
   "source": [
    "token_program_pk = TOKEN_PROGRAM_ID\n",
    "x_seed = bytes(X_mint.pubkey)\n",
    "y_seed = bytes(Y_mint.pubkey)\n",
    "alice_seed = bytes(Alice.public_key)\n",
    "bob_seed = bytes(Bob.public_key)\n",
    "X_vault_pk, _ = PublicKey.find_program_address([x_seed, alice_seed, bob_seed], program_id)\n",
    "Y_vault_pk, _ = PublicKey.find_program_address([y_seed, alice_seed, bob_seed], program_id)\n",
    "x_vault_seed = bytes(X_vault_pk)\n",
    "y_vault_seed = bytes(Y_vault_pk)\n",
    "escrow_pk, _ = PublicKey.find_program_address([x_vault_seed, y_vault_seed, alice_seed, bob_seed], program_id)"
   ]
  },
  {
   "cell_type": "code",
   "execution_count": 9,
   "metadata": {},
   "outputs": [],
   "source": [
    "# DEPOSIT\n",
    "# create ATAs\n",
    "X_a = X_mint.create_associated_token_account(Alice.public_key)\n",
    "Y_a = Y_mint.create_associated_token_account(Alice.public_key)\n",
    "X_b = X_mint.create_associated_token_account(Bob.public_key)\n",
    "Y_b = Y_mint.create_associated_token_account(Bob.public_key)"
   ]
  },
  {
   "cell_type": "code",
   "execution_count": 10,
   "metadata": {},
   "outputs": [
    {
     "data": {
      "text/plain": [
       "{'jsonrpc': '2.0',\n",
       " 'result': '63sb7Z4fYUj3EpVex5eFkprtk8h1EH3dJFm86rcAyouwhUeyWa97vqqQPcm7TwojHsGz8M97TJMptn44zTxsFU3X',\n",
       " 'id': 43}"
      ]
     },
     "execution_count": 10,
     "metadata": {},
     "output_type": "execute_result"
    }
   ],
   "source": [
    "X_mint.mint_to(X_a, God, 500)\n",
    "#X_mint.mint_to(X_b, God, 500)\n",
    "#Y_mint.mint_to(Y_a, God, 500)\n",
    "Y_mint.mint_to(Y_b, God, 500)"
   ]
  },
  {
   "cell_type": "markdown",
   "metadata": {},
   "source": [
    "## Manual"
   ]
  },
  {
   "cell_type": "code",
   "execution_count": 49,
   "metadata": {},
   "outputs": [],
   "source": [
    "account_metas = [\n",
    "AccountMeta(Alice.public_key, True, False),\n",
    "AccountMeta(Bob.public_key, False, False),\n",
    "AccountMeta(X_mint.pubkey, False, False),\n",
    "AccountMeta(Y_mint.pubkey, False, False),\n",
    "AccountMeta(X_vault_pk, False, True),\n",
    "AccountMeta(Y_vault_pk, False, True),\n",
    "AccountMeta(escrow_pk, False, True),\n",
    "AccountMeta(TOKEN_PROGRAM_ID, False, False),\n",
    "AccountMeta(SYS_PROGRAM_ID, False, False),\n",
    "AccountMeta(SYSVAR_RENT_PUBKEY, False, False),\n",
    "]"
   ]
  },
  {
   "cell_type": "code",
   "execution_count": 50,
   "metadata": {},
   "outputs": [],
   "source": [
    "idx = 0\n",
    "size_A = 10\n",
    "size_B = 1\n",
    "instruction_data = idx.to_bytes(1,\"little\") + size_A.to_bytes(8,\"little\") + size_B.to_bytes(8,\"little\")"
   ]
  },
  {
   "cell_type": "code",
   "execution_count": 51,
   "metadata": {},
   "outputs": [],
   "source": [
    "instruction = TransactionInstruction(data=instruction_data,program_id=ID,keys=account_metas)\n",
    "tix = Transaction().add(instruction)"
   ]
  },
  {
   "cell_type": "code",
   "execution_count": 52,
   "metadata": {},
   "outputs": [
    {
     "name": "stdout",
     "output_type": "stream",
     "text": [
      "{'jsonrpc': '2.0', 'result': '5eog7kkszmd1Ukz4VYRux9TxXNP4doRzqTit1UFCwUZZ2PkbPQLijhL2sSRuwtr92xTq242gRGgJBFjyBNpi7yXz', 'id': 108}\n"
     ]
    }
   ],
   "source": [
    "# initialization\n",
    "y = client.send_transaction(tix, Alice)\n",
    "print(y)"
   ]
  },
  {
   "cell_type": "code",
   "execution_count": 53,
   "metadata": {},
   "outputs": [],
   "source": [
    "deposit_metas = [\n",
    "AccountMeta(Alice.public_key, True, False),\n",
    "AccountMeta(X_vault_pk, False, True),\n",
    "AccountMeta(escrow_pk, False, True),\n",
    "AccountMeta(TOKEN_PROGRAM_ID, False, False),\n",
    "AccountMeta(X_a, False, True),\n",
    "AccountMeta(ASSOCIATED_TOKEN_PROGRAM_ID, False, False),\n",
    "]"
   ]
  },
  {
   "cell_type": "code",
   "execution_count": 17,
   "metadata": {},
   "outputs": [],
   "source": [
    "idx = 1\n",
    "amount_a = 10\n",
    "deposit_instruction_data = idx.to_bytes(1,\"little\") + amount_a.to_bytes(8,\"little\")"
   ]
  },
  {
   "cell_type": "code",
   "execution_count": 18,
   "metadata": {},
   "outputs": [],
   "source": [
    "instruction = TransactionInstruction(data=deposit_instruction_data,program_id=ID,keys=deposit_metas)\n",
    "tix = Transaction().add(instruction)"
   ]
  },
  {
   "cell_type": "code",
   "execution_count": null,
   "metadata": {},
   "outputs": [],
   "source": [
    "y = client.send_transaction(tix, Alice)\n",
    "print(y)"
   ]
  },
  {
   "cell_type": "code",
   "execution_count": 40,
   "metadata": {},
   "outputs": [],
   "source": [
    "# WITHDRAW\n",
    "withdraw_metas = [\n",
    "AccountMeta(Alice.public_key, False, False),\n",
    "AccountMeta(X_vault_pk, False, True),\n",
    "AccountMeta(escrow_pk, False, True),\n",
    "AccountMeta(TOKEN_PROGRAM_ID, False, False),\n",
    "AccountMeta(X_a, False, True),\n",
    "AccountMeta(ASSOCIATED_TOKEN_PROGRAM_ID, False, False),\n",
    "]"
   ]
  },
  {
   "cell_type": "code",
   "execution_count": 34,
   "metadata": {},
   "outputs": [],
   "source": [
    "idx = 2\n",
    "amount_a = 10\n",
    "withdraw_instruction_data = idx.to_bytes(1,\"little\") + amount_a.to_bytes(8,\"little\")"
   ]
  },
  {
   "cell_type": "code",
   "execution_count": 41,
   "metadata": {},
   "outputs": [],
   "source": [
    "instruction = TransactionInstruction(data=withdraw_instruction_data,program_id=ID,keys=withdraw_metas)\n",
    "tix = Transaction().add(instruction)"
   ]
  },
  {
   "cell_type": "code",
   "execution_count": null,
   "metadata": {},
   "outputs": [],
   "source": [
    "y = client.send_transaction(tix, Alice)"
   ]
  },
  {
   "cell_type": "markdown",
   "metadata": {},
   "source": [
    "## TESTS"
   ]
  },
  {
   "cell_type": "code",
   "execution_count": 11,
   "metadata": {},
   "outputs": [],
   "source": [
    "def initialize(size_A=10, size_B=1):\n",
    "    account_metas = [\n",
    "    AccountMeta(Alice.public_key, True, False),\n",
    "    AccountMeta(Bob.public_key, False, False),\n",
    "    AccountMeta(X_mint.pubkey, False, False),\n",
    "    AccountMeta(Y_mint.pubkey, False, False),\n",
    "    AccountMeta(X_vault_pk, False, True),\n",
    "    AccountMeta(Y_vault_pk, False, True),\n",
    "    AccountMeta(escrow_pk, False, True),\n",
    "    AccountMeta(TOKEN_PROGRAM_ID, False, False),\n",
    "    AccountMeta(SYS_PROGRAM_ID, False, False),\n",
    "    AccountMeta(SYSVAR_RENT_PUBKEY, False, False),\n",
    "    ]\n",
    "\n",
    "    idx = 0\n",
    "    instruction_data = idx.to_bytes(1,\"little\") + size_A.to_bytes(8,\"little\") + size_B.to_bytes(8,\"little\")\n",
    "    \n",
    "    instruction = TransactionInstruction(data=instruction_data,program_id=ID,keys=account_metas)\n",
    "    \n",
    "    return instruction"
   ]
  },
  {
   "cell_type": "code",
   "execution_count": 12,
   "metadata": {},
   "outputs": [],
   "source": [
    "def deposit_alice(amount=10):\n",
    "    deposit_metas = [\n",
    "    AccountMeta(Alice.public_key, True, False),\n",
    "    AccountMeta(X_vault_pk, False, True),\n",
    "    AccountMeta(escrow_pk, False, True),\n",
    "    AccountMeta(TOKEN_PROGRAM_ID, False, False),\n",
    "    AccountMeta(X_a, False, True),\n",
    "    AccountMeta(ASSOCIATED_TOKEN_PROGRAM_ID, False, False),\n",
    "    ]\n",
    "    \n",
    "    idx = 1\n",
    "    deposit_instruction_data = idx.to_bytes(1,\"little\") + amount.to_bytes(8,\"little\")\n",
    "    \n",
    "    instruction = TransactionInstruction(data=deposit_instruction_data,program_id=ID,keys=deposit_metas)\n",
    "    \n",
    "    return instruction"
   ]
  },
  {
   "cell_type": "code",
   "execution_count": 13,
   "metadata": {},
   "outputs": [],
   "source": [
    "def deposit_bob(amount=1):\n",
    "    deposit_metas = [\n",
    "    AccountMeta(Bob.public_key, True, False),\n",
    "    AccountMeta(Y_vault_pk, False, True),\n",
    "    AccountMeta(escrow_pk, False, True),\n",
    "    AccountMeta(TOKEN_PROGRAM_ID, False, False),\n",
    "    AccountMeta(Y_b, False, True),\n",
    "    AccountMeta(ASSOCIATED_TOKEN_PROGRAM_ID, False, False),\n",
    "    ]\n",
    "    \n",
    "    idx = 1\n",
    "    deposit_instruction_data = idx.to_bytes(1,\"little\") + amount.to_bytes(8,\"little\")\n",
    "    \n",
    "    instruction = TransactionInstruction(data=deposit_instruction_data,program_id=ID,keys=deposit_metas)\n",
    "    \n",
    "    return instruction"
   ]
  },
  {
   "cell_type": "code",
   "execution_count": 14,
   "metadata": {},
   "outputs": [],
   "source": [
    "def withdraw_alice_x(amount=10):\n",
    "    withdraw_metas = [\n",
    "    AccountMeta(Alice.public_key, False, False),\n",
    "    AccountMeta(X_vault_pk, False, True),\n",
    "    AccountMeta(escrow_pk, False, True),\n",
    "    AccountMeta(TOKEN_PROGRAM_ID, False, False),\n",
    "    AccountMeta(X_a, False, True),\n",
    "    AccountMeta(ASSOCIATED_TOKEN_PROGRAM_ID, False, False),\n",
    "    ]\n",
    "    \n",
    "    idx = 2\n",
    "    withdraw_instruction_data = idx.to_bytes(1,\"little\") + amount.to_bytes(8,\"little\")\n",
    "\n",
    "    instruction = TransactionInstruction(data=withdraw_instruction_data,program_id=ID,keys=withdraw_metas)\n",
    "    \n",
    "    return instruction"
   ]
  },
  {
   "cell_type": "code",
   "execution_count": 15,
   "metadata": {},
   "outputs": [],
   "source": [
    "def withdraw_alice_y(amount=1):\n",
    "    withdraw_metas = [\n",
    "    AccountMeta(Alice.public_key, False, False),\n",
    "    AccountMeta(Y_vault_pk, False, True),\n",
    "    AccountMeta(escrow_pk, False, True),\n",
    "    AccountMeta(TOKEN_PROGRAM_ID, False, False),\n",
    "    AccountMeta(Y_a, False, True),\n",
    "    AccountMeta(ASSOCIATED_TOKEN_PROGRAM_ID, False, False),\n",
    "    ]\n",
    "    \n",
    "    idx = 2\n",
    "    withdraw_instruction_data = idx.to_bytes(1,\"little\") + amount.to_bytes(8,\"little\")\n",
    "\n",
    "    instruction = TransactionInstruction(data=withdraw_instruction_data,program_id=ID,keys=withdraw_metas)\n",
    "    \n",
    "    return instruction"
   ]
  },
  {
   "cell_type": "code",
   "execution_count": 16,
   "metadata": {},
   "outputs": [],
   "source": [
    "def withdraw_bob_x(amount=10):\n",
    "    withdraw_metas = [\n",
    "    AccountMeta(Bob.public_key, False, False),\n",
    "    AccountMeta(X_vault_pk, False, True),\n",
    "    AccountMeta(escrow_pk, False, True),\n",
    "    AccountMeta(TOKEN_PROGRAM_ID, False, False),\n",
    "    AccountMeta(X_b, False, True),\n",
    "    AccountMeta(ASSOCIATED_TOKEN_PROGRAM_ID, False, False),\n",
    "    ]\n",
    "    \n",
    "    idx = 2\n",
    "    withdraw_instruction_data = idx.to_bytes(1,\"little\") + amount.to_bytes(8,\"little\")\n",
    "\n",
    "    instruction = TransactionInstruction(data=withdraw_instruction_data,program_id=ID,keys=withdraw_metas)\n",
    "    \n",
    "    return instruction"
   ]
  },
  {
   "cell_type": "code",
   "execution_count": 17,
   "metadata": {},
   "outputs": [],
   "source": [
    "def withdraw_bob_y(amount=1):\n",
    "    withdraw_metas = [\n",
    "    AccountMeta(Bob.public_key, False, False),\n",
    "    AccountMeta(Y_vault_pk, False, True),\n",
    "    AccountMeta(escrow_pk, False, True),\n",
    "    AccountMeta(TOKEN_PROGRAM_ID, False, False),\n",
    "    AccountMeta(Y_b, False, True),\n",
    "    AccountMeta(ASSOCIATED_TOKEN_PROGRAM_ID, False, False),\n",
    "    ]\n",
    "    \n",
    "    idx = 2\n",
    "    withdraw_instruction_data = idx.to_bytes(1,\"little\") + amount.to_bytes(8,\"little\")\n",
    "\n",
    "    instruction = TransactionInstruction(data=withdraw_instruction_data,program_id=ID,keys=withdraw_metas)\n",
    "    \n",
    "    return instruction"
   ]
  },
  {
   "cell_type": "markdown",
   "metadata": {},
   "source": [
    "### Test 1: Alice deposits, Bob deposits, Alice withdraws, Bob withdraws"
   ]
  },
  {
   "cell_type": "code",
   "execution_count": 19,
   "metadata": {},
   "outputs": [],
   "source": [
    "tix = Transaction()\n",
    "instructions = [initialize(10,1),deposit_alice(10),deposit_bob(1),withdraw_alice_y(1),withdraw_bob_x(10)]\n",
    "for instruction in instructions:\n",
    "    tix.add(instruction)\n",
    "y = client.send_transaction(tix, Alice,Bob)"
   ]
  },
  {
   "cell_type": "code",
   "execution_count": null,
   "metadata": {},
   "outputs": [],
   "source": []
  },
  {
   "cell_type": "markdown",
   "metadata": {},
   "source": [
    "### Test 2: Alice deposits, Bob deposits, Bob withdraws, Alice withdraws"
   ]
  },
  {
   "cell_type": "code",
   "execution_count": 20,
   "metadata": {},
   "outputs": [],
   "source": [
    "tix = Transaction()\n",
    "instructions = [initialize(10,1),deposit_alice(10),deposit_bob(1),withdraw_bob_x(10),withdraw_alice_y(1)]\n",
    "for instruction in instructions:\n",
    "    tix.add(instruction)\n",
    "y = client.send_transaction(tix, Alice,Bob)"
   ]
  },
  {
   "cell_type": "code",
   "execution_count": null,
   "metadata": {},
   "outputs": [],
   "source": []
  },
  {
   "cell_type": "markdown",
   "metadata": {},
   "source": [
    "### Test 3: Alice deposits, Alice withdraws"
   ]
  },
  {
   "cell_type": "code",
   "execution_count": 22,
   "metadata": {},
   "outputs": [],
   "source": [
    "tix = Transaction()\n",
    "instructions = [initialize(10,1),deposit_alice(10),withdraw_alice_x(10)]\n",
    "for instruction in instructions:\n",
    "    tix.add(instruction)\n",
    "y = client.send_transaction(tix, Alice)"
   ]
  },
  {
   "cell_type": "code",
   "execution_count": null,
   "metadata": {},
   "outputs": [],
   "source": []
  },
  {
   "cell_type": "markdown",
   "metadata": {},
   "source": [
    "### Test 4: Bob deposits, Bob withdraws"
   ]
  },
  {
   "cell_type": "code",
   "execution_count": 23,
   "metadata": {},
   "outputs": [],
   "source": [
    "tix = Transaction()\n",
    "instructions = [initialize(10,1),deposit_bob(1),withdraw_bob_y(1)]\n",
    "for instruction in instructions:\n",
    "    tix.add(instruction)\n",
    "y = client.send_transaction(tix,Bob)"
   ]
  },
  {
   "cell_type": "code",
   "execution_count": null,
   "metadata": {},
   "outputs": [],
   "source": []
  },
  {
   "cell_type": "markdown",
   "metadata": {},
   "source": [
    "### Test 5: Alice deposits, Alice withdraws from Y (SHOULD FAIL)"
   ]
  },
  {
   "cell_type": "code",
   "execution_count": 24,
   "metadata": {},
   "outputs": [
    {
     "ename": "RPCException",
     "evalue": "{'code': -32002, 'message': 'Transaction simulation failed: Error processing Instruction 2: custom program error: 0x3', 'data': {'accounts': None, 'err': {'InstructionError': [2, {'Custom': 3}]}, 'logs': ['Program Cf8D7jF1mxtn1uX7kBWDUJZUQ5U3ewreM8JaxJDda77g invoke [1]', 'Program log: Instruction: InitEscrow', 'Program log: 0', 'Program Cf8D7jF1mxtn1uX7kBWDUJZUQ5U3ewreM8JaxJDda77g consumed 4561 of 200000 compute units', 'Program Cf8D7jF1mxtn1uX7kBWDUJZUQ5U3ewreM8JaxJDda77g success', 'Program Cf8D7jF1mxtn1uX7kBWDUJZUQ5U3ewreM8JaxJDda77g invoke [1]', 'Program log: Instruction: Deposit', 'Program log: Getting escrow data', 'Program log: ATA KEY AND BUMP BELOW', 'Program TokenkegQfeZyiNwAJbNbGKPFXCWuBvf9Ss623VQ5DA invoke [2]', 'Program log: Instruction: Transfer', 'Program TokenkegQfeZyiNwAJbNbGKPFXCWuBvf9Ss623VQ5DA consumed 3121 of 188270 compute units', 'Program TokenkegQfeZyiNwAJbNbGKPFXCWuBvf9Ss623VQ5DA success', 'Program log: Done with invoke', 'Program log: Alice deposit', 'Program Cf8D7jF1mxtn1uX7kBWDUJZUQ5U3ewreM8JaxJDda77g consumed 16318 of 200000 compute units', 'Program Cf8D7jF1mxtn1uX7kBWDUJZUQ5U3ewreM8JaxJDda77g success', 'Program Cf8D7jF1mxtn1uX7kBWDUJZUQ5U3ewreM8JaxJDda77g invoke [1]', 'Program log: Instruction: Withdraw', 'Program Cf8D7jF1mxtn1uX7kBWDUJZUQ5U3ewreM8JaxJDda77g consumed 3638 of 200000 compute units', 'Program Cf8D7jF1mxtn1uX7kBWDUJZUQ5U3ewreM8JaxJDda77g failed: custom program error: 0x3']}}",
     "output_type": "error",
     "traceback": [
      "\u001b[0;31m---------------------------------------------------------------------------\u001b[0m",
      "\u001b[0;31mRPCException\u001b[0m                              Traceback (most recent call last)",
      "\u001b[0;32m<ipython-input-24-6762f98d3e32>\u001b[0m in \u001b[0;36m<module>\u001b[0;34m\u001b[0m\n\u001b[1;32m      3\u001b[0m \u001b[0;32mfor\u001b[0m \u001b[0minstruction\u001b[0m \u001b[0;32min\u001b[0m \u001b[0minstructions\u001b[0m\u001b[0;34m:\u001b[0m\u001b[0;34m\u001b[0m\u001b[0;34m\u001b[0m\u001b[0m\n\u001b[1;32m      4\u001b[0m     \u001b[0mtix\u001b[0m\u001b[0;34m.\u001b[0m\u001b[0madd\u001b[0m\u001b[0;34m(\u001b[0m\u001b[0minstruction\u001b[0m\u001b[0;34m)\u001b[0m\u001b[0;34m\u001b[0m\u001b[0;34m\u001b[0m\u001b[0m\n\u001b[0;32m----> 5\u001b[0;31m \u001b[0my\u001b[0m \u001b[0;34m=\u001b[0m \u001b[0mclient\u001b[0m\u001b[0;34m.\u001b[0m\u001b[0msend_transaction\u001b[0m\u001b[0;34m(\u001b[0m\u001b[0mtix\u001b[0m\u001b[0;34m,\u001b[0m \u001b[0mAlice\u001b[0m\u001b[0;34m)\u001b[0m\u001b[0;34m\u001b[0m\u001b[0;34m\u001b[0m\u001b[0m\n\u001b[0m",
      "\u001b[0;32m~/opt/anaconda3/lib/python3.8/site-packages/solana/rpc/api.py\u001b[0m in \u001b[0;36msend_transaction\u001b[0;34m(self, txn, opts, recent_blockhash, *signers)\u001b[0m\n\u001b[1;32m   1058\u001b[0m \u001b[0;34m\u001b[0m\u001b[0m\n\u001b[1;32m   1059\u001b[0m         \u001b[0mtxn\u001b[0m\u001b[0;34m.\u001b[0m\u001b[0msign\u001b[0m\u001b[0;34m(\u001b[0m\u001b[0;34m*\u001b[0m\u001b[0msigners\u001b[0m\u001b[0;34m)\u001b[0m\u001b[0;34m\u001b[0m\u001b[0;34m\u001b[0m\u001b[0m\n\u001b[0;32m-> 1060\u001b[0;31m         \u001b[0mtxn_resp\u001b[0m \u001b[0;34m=\u001b[0m \u001b[0mself\u001b[0m\u001b[0;34m.\u001b[0m\u001b[0msend_raw_transaction\u001b[0m\u001b[0;34m(\u001b[0m\u001b[0mtxn\u001b[0m\u001b[0;34m.\u001b[0m\u001b[0mserialize\u001b[0m\u001b[0;34m(\u001b[0m\u001b[0;34m)\u001b[0m\u001b[0;34m,\u001b[0m \u001b[0mopts\u001b[0m\u001b[0;34m=\u001b[0m\u001b[0mopts\u001b[0m\u001b[0;34m)\u001b[0m\u001b[0;34m\u001b[0m\u001b[0;34m\u001b[0m\u001b[0m\n\u001b[0m\u001b[1;32m   1061\u001b[0m         \u001b[0;32mif\u001b[0m \u001b[0mself\u001b[0m\u001b[0;34m.\u001b[0m\u001b[0mblockhash_cache\u001b[0m\u001b[0;34m:\u001b[0m\u001b[0;34m\u001b[0m\u001b[0;34m\u001b[0m\u001b[0m\n\u001b[1;32m   1062\u001b[0m             \u001b[0mblockhash_resp\u001b[0m \u001b[0;34m=\u001b[0m \u001b[0mself\u001b[0m\u001b[0;34m.\u001b[0m\u001b[0mget_recent_blockhash\u001b[0m\u001b[0;34m(\u001b[0m\u001b[0;34m)\u001b[0m\u001b[0;34m\u001b[0m\u001b[0;34m\u001b[0m\u001b[0m\n",
      "\u001b[0;32m~/opt/anaconda3/lib/python3.8/site-packages/solana/rpc/api.py\u001b[0m in \u001b[0;36msend_raw_transaction\u001b[0;34m(self, txn, opts)\u001b[0m\n\u001b[1;32m   1014\u001b[0m         \u001b[0mresp\u001b[0m \u001b[0;34m=\u001b[0m \u001b[0mself\u001b[0m\u001b[0;34m.\u001b[0m\u001b[0m_provider\u001b[0m\u001b[0;34m.\u001b[0m\u001b[0mmake_request\u001b[0m\u001b[0;34m(\u001b[0m\u001b[0;34m*\u001b[0m\u001b[0margs\u001b[0m\u001b[0;34m)\u001b[0m\u001b[0;34m\u001b[0m\u001b[0;34m\u001b[0m\u001b[0m\n\u001b[1;32m   1015\u001b[0m         \u001b[0;32mif\u001b[0m \u001b[0mopts\u001b[0m\u001b[0;34m.\u001b[0m\u001b[0mskip_confirmation\u001b[0m\u001b[0;34m:\u001b[0m\u001b[0;34m\u001b[0m\u001b[0;34m\u001b[0m\u001b[0m\n\u001b[0;32m-> 1016\u001b[0;31m             \u001b[0;32mreturn\u001b[0m \u001b[0mself\u001b[0m\u001b[0;34m.\u001b[0m\u001b[0m_post_send\u001b[0m\u001b[0;34m(\u001b[0m\u001b[0mresp\u001b[0m\u001b[0;34m)\u001b[0m\u001b[0;34m\u001b[0m\u001b[0;34m\u001b[0m\u001b[0m\n\u001b[0m\u001b[1;32m   1017\u001b[0m         \u001b[0mpost_send_args\u001b[0m \u001b[0;34m=\u001b[0m \u001b[0mself\u001b[0m\u001b[0;34m.\u001b[0m\u001b[0m_send_raw_transaction_post_send_args\u001b[0m\u001b[0;34m(\u001b[0m\u001b[0mresp\u001b[0m\u001b[0;34m,\u001b[0m \u001b[0mopts\u001b[0m\u001b[0;34m)\u001b[0m\u001b[0;34m\u001b[0m\u001b[0;34m\u001b[0m\u001b[0m\n\u001b[1;32m   1018\u001b[0m         \u001b[0;32mreturn\u001b[0m \u001b[0mself\u001b[0m\u001b[0;34m.\u001b[0m\u001b[0m__post_send_with_confirm\u001b[0m\u001b[0;34m(\u001b[0m\u001b[0;34m*\u001b[0m\u001b[0mpost_send_args\u001b[0m\u001b[0;34m)\u001b[0m\u001b[0;34m\u001b[0m\u001b[0;34m\u001b[0m\u001b[0m\n",
      "\u001b[0;32m~/opt/anaconda3/lib/python3.8/site-packages/solana/rpc/core.py\u001b[0m in \u001b[0;36m_post_send\u001b[0;34m(resp)\u001b[0m\n\u001b[1;32m    362\u001b[0m         \u001b[0mmaybe_error\u001b[0m \u001b[0;34m=\u001b[0m \u001b[0mresp\u001b[0m\u001b[0;34m.\u001b[0m\u001b[0mget\u001b[0m\u001b[0;34m(\u001b[0m\u001b[0;34m\"error\"\u001b[0m\u001b[0;34m)\u001b[0m\u001b[0;34m\u001b[0m\u001b[0;34m\u001b[0m\u001b[0m\n\u001b[1;32m    363\u001b[0m         \u001b[0;32mif\u001b[0m \u001b[0mmaybe_error\u001b[0m \u001b[0;32mis\u001b[0m \u001b[0;32mnot\u001b[0m \u001b[0;32mNone\u001b[0m\u001b[0;34m:\u001b[0m\u001b[0;34m\u001b[0m\u001b[0;34m\u001b[0m\u001b[0m\n\u001b[0;32m--> 364\u001b[0;31m             \u001b[0;32mraise\u001b[0m \u001b[0mRPCException\u001b[0m\u001b[0;34m(\u001b[0m\u001b[0mmaybe_error\u001b[0m\u001b[0;34m)\u001b[0m\u001b[0;34m\u001b[0m\u001b[0;34m\u001b[0m\u001b[0m\n\u001b[0m\u001b[1;32m    365\u001b[0m         \u001b[0;32mif\u001b[0m \u001b[0;32mnot\u001b[0m \u001b[0mresp\u001b[0m\u001b[0;34m.\u001b[0m\u001b[0mget\u001b[0m\u001b[0;34m(\u001b[0m\u001b[0;34m\"result\"\u001b[0m\u001b[0;34m)\u001b[0m\u001b[0;34m:\u001b[0m\u001b[0;34m\u001b[0m\u001b[0;34m\u001b[0m\u001b[0m\n\u001b[1;32m    366\u001b[0m             \u001b[0;32mraise\u001b[0m \u001b[0mException\u001b[0m\u001b[0;34m(\u001b[0m\u001b[0;34m\"Failed to send transaction\"\u001b[0m\u001b[0;34m)\u001b[0m\u001b[0;34m\u001b[0m\u001b[0;34m\u001b[0m\u001b[0m\n",
      "\u001b[0;31mRPCException\u001b[0m: {'code': -32002, 'message': 'Transaction simulation failed: Error processing Instruction 2: custom program error: 0x3', 'data': {'accounts': None, 'err': {'InstructionError': [2, {'Custom': 3}]}, 'logs': ['Program Cf8D7jF1mxtn1uX7kBWDUJZUQ5U3ewreM8JaxJDda77g invoke [1]', 'Program log: Instruction: InitEscrow', 'Program log: 0', 'Program Cf8D7jF1mxtn1uX7kBWDUJZUQ5U3ewreM8JaxJDda77g consumed 4561 of 200000 compute units', 'Program Cf8D7jF1mxtn1uX7kBWDUJZUQ5U3ewreM8JaxJDda77g success', 'Program Cf8D7jF1mxtn1uX7kBWDUJZUQ5U3ewreM8JaxJDda77g invoke [1]', 'Program log: Instruction: Deposit', 'Program log: Getting escrow data', 'Program log: ATA KEY AND BUMP BELOW', 'Program TokenkegQfeZyiNwAJbNbGKPFXCWuBvf9Ss623VQ5DA invoke [2]', 'Program log: Instruction: Transfer', 'Program TokenkegQfeZyiNwAJbNbGKPFXCWuBvf9Ss623VQ5DA consumed 3121 of 188270 compute units', 'Program TokenkegQfeZyiNwAJbNbGKPFXCWuBvf9Ss623VQ5DA success', 'Program log: Done with invoke', 'Program log: Alice deposit', 'Program Cf8D7jF1mxtn1uX7kBWDUJZUQ5U3ewreM8JaxJDda77g consumed 16318 of 200000 compute units', 'Program Cf8D7jF1mxtn1uX7kBWDUJZUQ5U3ewreM8JaxJDda77g success', 'Program Cf8D7jF1mxtn1uX7kBWDUJZUQ5U3ewreM8JaxJDda77g invoke [1]', 'Program log: Instruction: Withdraw', 'Program Cf8D7jF1mxtn1uX7kBWDUJZUQ5U3ewreM8JaxJDda77g consumed 3638 of 200000 compute units', 'Program Cf8D7jF1mxtn1uX7kBWDUJZUQ5U3ewreM8JaxJDda77g failed: custom program error: 0x3']}}"
     ]
    }
   ],
   "source": [
    "tix = Transaction()\n",
    "instructions = [initialize(10,1),deposit_alice(10),withdraw_alice_y(1)]\n",
    "for instruction in instructions:\n",
    "    tix.add(instruction)\n",
    "y = client.send_transaction(tix, Alice)"
   ]
  },
  {
   "cell_type": "code",
   "execution_count": null,
   "metadata": {},
   "outputs": [],
   "source": []
  },
  {
   "cell_type": "markdown",
   "metadata": {},
   "source": [
    "### Test 6: Alice deposits, Alice withdraws (more than can, SHOULD FAIL)"
   ]
  },
  {
   "cell_type": "code",
   "execution_count": 25,
   "metadata": {},
   "outputs": [
    {
     "ename": "RPCException",
     "evalue": "{'code': -32002, 'message': 'Transaction simulation failed: Error processing Instruction 2: custom program error: 0x1', 'data': {'accounts': None, 'err': {'InstructionError': [2, {'Custom': 1}]}, 'logs': ['Program Cf8D7jF1mxtn1uX7kBWDUJZUQ5U3ewreM8JaxJDda77g invoke [1]', 'Program log: Instruction: InitEscrow', 'Program log: 0', 'Program Cf8D7jF1mxtn1uX7kBWDUJZUQ5U3ewreM8JaxJDda77g consumed 4561 of 200000 compute units', 'Program Cf8D7jF1mxtn1uX7kBWDUJZUQ5U3ewreM8JaxJDda77g success', 'Program Cf8D7jF1mxtn1uX7kBWDUJZUQ5U3ewreM8JaxJDda77g invoke [1]', 'Program log: Instruction: Deposit', 'Program log: Getting escrow data', 'Program log: ATA KEY AND BUMP BELOW', 'Program TokenkegQfeZyiNwAJbNbGKPFXCWuBvf9Ss623VQ5DA invoke [2]', 'Program log: Instruction: Transfer', 'Program TokenkegQfeZyiNwAJbNbGKPFXCWuBvf9Ss623VQ5DA consumed 3121 of 188270 compute units', 'Program TokenkegQfeZyiNwAJbNbGKPFXCWuBvf9Ss623VQ5DA success', 'Program log: Done with invoke', 'Program log: Alice deposit', 'Program Cf8D7jF1mxtn1uX7kBWDUJZUQ5U3ewreM8JaxJDda77g consumed 16318 of 200000 compute units', 'Program Cf8D7jF1mxtn1uX7kBWDUJZUQ5U3ewreM8JaxJDda77g success', 'Program Cf8D7jF1mxtn1uX7kBWDUJZUQ5U3ewreM8JaxJDda77g invoke [1]', 'Program log: Instruction: Withdraw', 'Program Cf8D7jF1mxtn1uX7kBWDUJZUQ5U3ewreM8JaxJDda77g consumed 3425 of 200000 compute units', 'Program Cf8D7jF1mxtn1uX7kBWDUJZUQ5U3ewreM8JaxJDda77g failed: custom program error: 0x1']}}",
     "output_type": "error",
     "traceback": [
      "\u001b[0;31m---------------------------------------------------------------------------\u001b[0m",
      "\u001b[0;31mRPCException\u001b[0m                              Traceback (most recent call last)",
      "\u001b[0;32m<ipython-input-25-bfaed875c94e>\u001b[0m in \u001b[0;36m<module>\u001b[0;34m\u001b[0m\n\u001b[1;32m      3\u001b[0m \u001b[0;32mfor\u001b[0m \u001b[0minstruction\u001b[0m \u001b[0;32min\u001b[0m \u001b[0minstructions\u001b[0m\u001b[0;34m:\u001b[0m\u001b[0;34m\u001b[0m\u001b[0;34m\u001b[0m\u001b[0m\n\u001b[1;32m      4\u001b[0m     \u001b[0mtix\u001b[0m\u001b[0;34m.\u001b[0m\u001b[0madd\u001b[0m\u001b[0;34m(\u001b[0m\u001b[0minstruction\u001b[0m\u001b[0;34m)\u001b[0m\u001b[0;34m\u001b[0m\u001b[0;34m\u001b[0m\u001b[0m\n\u001b[0;32m----> 5\u001b[0;31m \u001b[0my\u001b[0m \u001b[0;34m=\u001b[0m \u001b[0mclient\u001b[0m\u001b[0;34m.\u001b[0m\u001b[0msend_transaction\u001b[0m\u001b[0;34m(\u001b[0m\u001b[0mtix\u001b[0m\u001b[0;34m,\u001b[0m \u001b[0mAlice\u001b[0m\u001b[0;34m)\u001b[0m\u001b[0;34m\u001b[0m\u001b[0;34m\u001b[0m\u001b[0m\n\u001b[0m",
      "\u001b[0;32m~/opt/anaconda3/lib/python3.8/site-packages/solana/rpc/api.py\u001b[0m in \u001b[0;36msend_transaction\u001b[0;34m(self, txn, opts, recent_blockhash, *signers)\u001b[0m\n\u001b[1;32m   1058\u001b[0m \u001b[0;34m\u001b[0m\u001b[0m\n\u001b[1;32m   1059\u001b[0m         \u001b[0mtxn\u001b[0m\u001b[0;34m.\u001b[0m\u001b[0msign\u001b[0m\u001b[0;34m(\u001b[0m\u001b[0;34m*\u001b[0m\u001b[0msigners\u001b[0m\u001b[0;34m)\u001b[0m\u001b[0;34m\u001b[0m\u001b[0;34m\u001b[0m\u001b[0m\n\u001b[0;32m-> 1060\u001b[0;31m         \u001b[0mtxn_resp\u001b[0m \u001b[0;34m=\u001b[0m \u001b[0mself\u001b[0m\u001b[0;34m.\u001b[0m\u001b[0msend_raw_transaction\u001b[0m\u001b[0;34m(\u001b[0m\u001b[0mtxn\u001b[0m\u001b[0;34m.\u001b[0m\u001b[0mserialize\u001b[0m\u001b[0;34m(\u001b[0m\u001b[0;34m)\u001b[0m\u001b[0;34m,\u001b[0m \u001b[0mopts\u001b[0m\u001b[0;34m=\u001b[0m\u001b[0mopts\u001b[0m\u001b[0;34m)\u001b[0m\u001b[0;34m\u001b[0m\u001b[0;34m\u001b[0m\u001b[0m\n\u001b[0m\u001b[1;32m   1061\u001b[0m         \u001b[0;32mif\u001b[0m \u001b[0mself\u001b[0m\u001b[0;34m.\u001b[0m\u001b[0mblockhash_cache\u001b[0m\u001b[0;34m:\u001b[0m\u001b[0;34m\u001b[0m\u001b[0;34m\u001b[0m\u001b[0m\n\u001b[1;32m   1062\u001b[0m             \u001b[0mblockhash_resp\u001b[0m \u001b[0;34m=\u001b[0m \u001b[0mself\u001b[0m\u001b[0;34m.\u001b[0m\u001b[0mget_recent_blockhash\u001b[0m\u001b[0;34m(\u001b[0m\u001b[0;34m)\u001b[0m\u001b[0;34m\u001b[0m\u001b[0;34m\u001b[0m\u001b[0m\n",
      "\u001b[0;32m~/opt/anaconda3/lib/python3.8/site-packages/solana/rpc/api.py\u001b[0m in \u001b[0;36msend_raw_transaction\u001b[0;34m(self, txn, opts)\u001b[0m\n\u001b[1;32m   1014\u001b[0m         \u001b[0mresp\u001b[0m \u001b[0;34m=\u001b[0m \u001b[0mself\u001b[0m\u001b[0;34m.\u001b[0m\u001b[0m_provider\u001b[0m\u001b[0;34m.\u001b[0m\u001b[0mmake_request\u001b[0m\u001b[0;34m(\u001b[0m\u001b[0;34m*\u001b[0m\u001b[0margs\u001b[0m\u001b[0;34m)\u001b[0m\u001b[0;34m\u001b[0m\u001b[0;34m\u001b[0m\u001b[0m\n\u001b[1;32m   1015\u001b[0m         \u001b[0;32mif\u001b[0m \u001b[0mopts\u001b[0m\u001b[0;34m.\u001b[0m\u001b[0mskip_confirmation\u001b[0m\u001b[0;34m:\u001b[0m\u001b[0;34m\u001b[0m\u001b[0;34m\u001b[0m\u001b[0m\n\u001b[0;32m-> 1016\u001b[0;31m             \u001b[0;32mreturn\u001b[0m \u001b[0mself\u001b[0m\u001b[0;34m.\u001b[0m\u001b[0m_post_send\u001b[0m\u001b[0;34m(\u001b[0m\u001b[0mresp\u001b[0m\u001b[0;34m)\u001b[0m\u001b[0;34m\u001b[0m\u001b[0;34m\u001b[0m\u001b[0m\n\u001b[0m\u001b[1;32m   1017\u001b[0m         \u001b[0mpost_send_args\u001b[0m \u001b[0;34m=\u001b[0m \u001b[0mself\u001b[0m\u001b[0;34m.\u001b[0m\u001b[0m_send_raw_transaction_post_send_args\u001b[0m\u001b[0;34m(\u001b[0m\u001b[0mresp\u001b[0m\u001b[0;34m,\u001b[0m \u001b[0mopts\u001b[0m\u001b[0;34m)\u001b[0m\u001b[0;34m\u001b[0m\u001b[0;34m\u001b[0m\u001b[0m\n\u001b[1;32m   1018\u001b[0m         \u001b[0;32mreturn\u001b[0m \u001b[0mself\u001b[0m\u001b[0;34m.\u001b[0m\u001b[0m__post_send_with_confirm\u001b[0m\u001b[0;34m(\u001b[0m\u001b[0;34m*\u001b[0m\u001b[0mpost_send_args\u001b[0m\u001b[0;34m)\u001b[0m\u001b[0;34m\u001b[0m\u001b[0;34m\u001b[0m\u001b[0m\n",
      "\u001b[0;32m~/opt/anaconda3/lib/python3.8/site-packages/solana/rpc/core.py\u001b[0m in \u001b[0;36m_post_send\u001b[0;34m(resp)\u001b[0m\n\u001b[1;32m    362\u001b[0m         \u001b[0mmaybe_error\u001b[0m \u001b[0;34m=\u001b[0m \u001b[0mresp\u001b[0m\u001b[0;34m.\u001b[0m\u001b[0mget\u001b[0m\u001b[0;34m(\u001b[0m\u001b[0;34m\"error\"\u001b[0m\u001b[0;34m)\u001b[0m\u001b[0;34m\u001b[0m\u001b[0;34m\u001b[0m\u001b[0m\n\u001b[1;32m    363\u001b[0m         \u001b[0;32mif\u001b[0m \u001b[0mmaybe_error\u001b[0m \u001b[0;32mis\u001b[0m \u001b[0;32mnot\u001b[0m \u001b[0;32mNone\u001b[0m\u001b[0;34m:\u001b[0m\u001b[0;34m\u001b[0m\u001b[0;34m\u001b[0m\u001b[0m\n\u001b[0;32m--> 364\u001b[0;31m             \u001b[0;32mraise\u001b[0m \u001b[0mRPCException\u001b[0m\u001b[0;34m(\u001b[0m\u001b[0mmaybe_error\u001b[0m\u001b[0;34m)\u001b[0m\u001b[0;34m\u001b[0m\u001b[0;34m\u001b[0m\u001b[0m\n\u001b[0m\u001b[1;32m    365\u001b[0m         \u001b[0;32mif\u001b[0m \u001b[0;32mnot\u001b[0m \u001b[0mresp\u001b[0m\u001b[0;34m.\u001b[0m\u001b[0mget\u001b[0m\u001b[0;34m(\u001b[0m\u001b[0;34m\"result\"\u001b[0m\u001b[0;34m)\u001b[0m\u001b[0;34m:\u001b[0m\u001b[0;34m\u001b[0m\u001b[0;34m\u001b[0m\u001b[0m\n\u001b[1;32m    366\u001b[0m             \u001b[0;32mraise\u001b[0m \u001b[0mException\u001b[0m\u001b[0;34m(\u001b[0m\u001b[0;34m\"Failed to send transaction\"\u001b[0m\u001b[0;34m)\u001b[0m\u001b[0;34m\u001b[0m\u001b[0;34m\u001b[0m\u001b[0m\n",
      "\u001b[0;31mRPCException\u001b[0m: {'code': -32002, 'message': 'Transaction simulation failed: Error processing Instruction 2: custom program error: 0x1', 'data': {'accounts': None, 'err': {'InstructionError': [2, {'Custom': 1}]}, 'logs': ['Program Cf8D7jF1mxtn1uX7kBWDUJZUQ5U3ewreM8JaxJDda77g invoke [1]', 'Program log: Instruction: InitEscrow', 'Program log: 0', 'Program Cf8D7jF1mxtn1uX7kBWDUJZUQ5U3ewreM8JaxJDda77g consumed 4561 of 200000 compute units', 'Program Cf8D7jF1mxtn1uX7kBWDUJZUQ5U3ewreM8JaxJDda77g success', 'Program Cf8D7jF1mxtn1uX7kBWDUJZUQ5U3ewreM8JaxJDda77g invoke [1]', 'Program log: Instruction: Deposit', 'Program log: Getting escrow data', 'Program log: ATA KEY AND BUMP BELOW', 'Program TokenkegQfeZyiNwAJbNbGKPFXCWuBvf9Ss623VQ5DA invoke [2]', 'Program log: Instruction: Transfer', 'Program TokenkegQfeZyiNwAJbNbGKPFXCWuBvf9Ss623VQ5DA consumed 3121 of 188270 compute units', 'Program TokenkegQfeZyiNwAJbNbGKPFXCWuBvf9Ss623VQ5DA success', 'Program log: Done with invoke', 'Program log: Alice deposit', 'Program Cf8D7jF1mxtn1uX7kBWDUJZUQ5U3ewreM8JaxJDda77g consumed 16318 of 200000 compute units', 'Program Cf8D7jF1mxtn1uX7kBWDUJZUQ5U3ewreM8JaxJDda77g success', 'Program Cf8D7jF1mxtn1uX7kBWDUJZUQ5U3ewreM8JaxJDda77g invoke [1]', 'Program log: Instruction: Withdraw', 'Program Cf8D7jF1mxtn1uX7kBWDUJZUQ5U3ewreM8JaxJDda77g consumed 3425 of 200000 compute units', 'Program Cf8D7jF1mxtn1uX7kBWDUJZUQ5U3ewreM8JaxJDda77g failed: custom program error: 0x1']}}"
     ]
    }
   ],
   "source": [
    "tix = Transaction()\n",
    "instructions = [initialize(10,1),deposit_alice(10),withdraw_alice_x(11)]\n",
    "for instruction in instructions:\n",
    "    tix.add(instruction)\n",
    "y = client.send_transaction(tix, Alice)"
   ]
  },
  {
   "cell_type": "code",
   "execution_count": null,
   "metadata": {},
   "outputs": [],
   "source": []
  },
  {
   "cell_type": "markdown",
   "metadata": {},
   "source": [
    "### Test 7: Alice deposits (less than allowed) (SHOULD FAIL)"
   ]
  },
  {
   "cell_type": "code",
   "execution_count": 26,
   "metadata": {},
   "outputs": [
    {
     "ename": "RPCException",
     "evalue": "{'code': -32002, 'message': 'Transaction simulation failed: Error processing Instruction 1: custom program error: 0x1', 'data': {'accounts': None, 'err': {'InstructionError': [1, {'Custom': 1}]}, 'logs': ['Program Cf8D7jF1mxtn1uX7kBWDUJZUQ5U3ewreM8JaxJDda77g invoke [1]', 'Program log: Instruction: InitEscrow', 'Program log: 0', 'Program Cf8D7jF1mxtn1uX7kBWDUJZUQ5U3ewreM8JaxJDda77g consumed 4561 of 200000 compute units', 'Program Cf8D7jF1mxtn1uX7kBWDUJZUQ5U3ewreM8JaxJDda77g success', 'Program Cf8D7jF1mxtn1uX7kBWDUJZUQ5U3ewreM8JaxJDda77g invoke [1]', 'Program log: Instruction: Deposit', 'Program log: Getting escrow data', 'Program Cf8D7jF1mxtn1uX7kBWDUJZUQ5U3ewreM8JaxJDda77g consumed 3459 of 200000 compute units', 'Program Cf8D7jF1mxtn1uX7kBWDUJZUQ5U3ewreM8JaxJDda77g failed: custom program error: 0x1']}}",
     "output_type": "error",
     "traceback": [
      "\u001b[0;31m---------------------------------------------------------------------------\u001b[0m",
      "\u001b[0;31mRPCException\u001b[0m                              Traceback (most recent call last)",
      "\u001b[0;32m<ipython-input-26-f4b405fcdfd9>\u001b[0m in \u001b[0;36m<module>\u001b[0;34m\u001b[0m\n\u001b[1;32m      3\u001b[0m \u001b[0;32mfor\u001b[0m \u001b[0minstruction\u001b[0m \u001b[0;32min\u001b[0m \u001b[0minstructions\u001b[0m\u001b[0;34m:\u001b[0m\u001b[0;34m\u001b[0m\u001b[0;34m\u001b[0m\u001b[0m\n\u001b[1;32m      4\u001b[0m     \u001b[0mtix\u001b[0m\u001b[0;34m.\u001b[0m\u001b[0madd\u001b[0m\u001b[0;34m(\u001b[0m\u001b[0minstruction\u001b[0m\u001b[0;34m)\u001b[0m\u001b[0;34m\u001b[0m\u001b[0;34m\u001b[0m\u001b[0m\n\u001b[0;32m----> 5\u001b[0;31m \u001b[0my\u001b[0m \u001b[0;34m=\u001b[0m \u001b[0mclient\u001b[0m\u001b[0;34m.\u001b[0m\u001b[0msend_transaction\u001b[0m\u001b[0;34m(\u001b[0m\u001b[0mtix\u001b[0m\u001b[0;34m,\u001b[0m \u001b[0mAlice\u001b[0m\u001b[0;34m)\u001b[0m\u001b[0;34m\u001b[0m\u001b[0;34m\u001b[0m\u001b[0m\n\u001b[0m",
      "\u001b[0;32m~/opt/anaconda3/lib/python3.8/site-packages/solana/rpc/api.py\u001b[0m in \u001b[0;36msend_transaction\u001b[0;34m(self, txn, opts, recent_blockhash, *signers)\u001b[0m\n\u001b[1;32m   1058\u001b[0m \u001b[0;34m\u001b[0m\u001b[0m\n\u001b[1;32m   1059\u001b[0m         \u001b[0mtxn\u001b[0m\u001b[0;34m.\u001b[0m\u001b[0msign\u001b[0m\u001b[0;34m(\u001b[0m\u001b[0;34m*\u001b[0m\u001b[0msigners\u001b[0m\u001b[0;34m)\u001b[0m\u001b[0;34m\u001b[0m\u001b[0;34m\u001b[0m\u001b[0m\n\u001b[0;32m-> 1060\u001b[0;31m         \u001b[0mtxn_resp\u001b[0m \u001b[0;34m=\u001b[0m \u001b[0mself\u001b[0m\u001b[0;34m.\u001b[0m\u001b[0msend_raw_transaction\u001b[0m\u001b[0;34m(\u001b[0m\u001b[0mtxn\u001b[0m\u001b[0;34m.\u001b[0m\u001b[0mserialize\u001b[0m\u001b[0;34m(\u001b[0m\u001b[0;34m)\u001b[0m\u001b[0;34m,\u001b[0m \u001b[0mopts\u001b[0m\u001b[0;34m=\u001b[0m\u001b[0mopts\u001b[0m\u001b[0;34m)\u001b[0m\u001b[0;34m\u001b[0m\u001b[0;34m\u001b[0m\u001b[0m\n\u001b[0m\u001b[1;32m   1061\u001b[0m         \u001b[0;32mif\u001b[0m \u001b[0mself\u001b[0m\u001b[0;34m.\u001b[0m\u001b[0mblockhash_cache\u001b[0m\u001b[0;34m:\u001b[0m\u001b[0;34m\u001b[0m\u001b[0;34m\u001b[0m\u001b[0m\n\u001b[1;32m   1062\u001b[0m             \u001b[0mblockhash_resp\u001b[0m \u001b[0;34m=\u001b[0m \u001b[0mself\u001b[0m\u001b[0;34m.\u001b[0m\u001b[0mget_recent_blockhash\u001b[0m\u001b[0;34m(\u001b[0m\u001b[0;34m)\u001b[0m\u001b[0;34m\u001b[0m\u001b[0;34m\u001b[0m\u001b[0m\n",
      "\u001b[0;32m~/opt/anaconda3/lib/python3.8/site-packages/solana/rpc/api.py\u001b[0m in \u001b[0;36msend_raw_transaction\u001b[0;34m(self, txn, opts)\u001b[0m\n\u001b[1;32m   1014\u001b[0m         \u001b[0mresp\u001b[0m \u001b[0;34m=\u001b[0m \u001b[0mself\u001b[0m\u001b[0;34m.\u001b[0m\u001b[0m_provider\u001b[0m\u001b[0;34m.\u001b[0m\u001b[0mmake_request\u001b[0m\u001b[0;34m(\u001b[0m\u001b[0;34m*\u001b[0m\u001b[0margs\u001b[0m\u001b[0;34m)\u001b[0m\u001b[0;34m\u001b[0m\u001b[0;34m\u001b[0m\u001b[0m\n\u001b[1;32m   1015\u001b[0m         \u001b[0;32mif\u001b[0m \u001b[0mopts\u001b[0m\u001b[0;34m.\u001b[0m\u001b[0mskip_confirmation\u001b[0m\u001b[0;34m:\u001b[0m\u001b[0;34m\u001b[0m\u001b[0;34m\u001b[0m\u001b[0m\n\u001b[0;32m-> 1016\u001b[0;31m             \u001b[0;32mreturn\u001b[0m \u001b[0mself\u001b[0m\u001b[0;34m.\u001b[0m\u001b[0m_post_send\u001b[0m\u001b[0;34m(\u001b[0m\u001b[0mresp\u001b[0m\u001b[0;34m)\u001b[0m\u001b[0;34m\u001b[0m\u001b[0;34m\u001b[0m\u001b[0m\n\u001b[0m\u001b[1;32m   1017\u001b[0m         \u001b[0mpost_send_args\u001b[0m \u001b[0;34m=\u001b[0m \u001b[0mself\u001b[0m\u001b[0;34m.\u001b[0m\u001b[0m_send_raw_transaction_post_send_args\u001b[0m\u001b[0;34m(\u001b[0m\u001b[0mresp\u001b[0m\u001b[0;34m,\u001b[0m \u001b[0mopts\u001b[0m\u001b[0;34m)\u001b[0m\u001b[0;34m\u001b[0m\u001b[0;34m\u001b[0m\u001b[0m\n\u001b[1;32m   1018\u001b[0m         \u001b[0;32mreturn\u001b[0m \u001b[0mself\u001b[0m\u001b[0;34m.\u001b[0m\u001b[0m__post_send_with_confirm\u001b[0m\u001b[0;34m(\u001b[0m\u001b[0;34m*\u001b[0m\u001b[0mpost_send_args\u001b[0m\u001b[0;34m)\u001b[0m\u001b[0;34m\u001b[0m\u001b[0;34m\u001b[0m\u001b[0m\n",
      "\u001b[0;32m~/opt/anaconda3/lib/python3.8/site-packages/solana/rpc/core.py\u001b[0m in \u001b[0;36m_post_send\u001b[0;34m(resp)\u001b[0m\n\u001b[1;32m    362\u001b[0m         \u001b[0mmaybe_error\u001b[0m \u001b[0;34m=\u001b[0m \u001b[0mresp\u001b[0m\u001b[0;34m.\u001b[0m\u001b[0mget\u001b[0m\u001b[0;34m(\u001b[0m\u001b[0;34m\"error\"\u001b[0m\u001b[0;34m)\u001b[0m\u001b[0;34m\u001b[0m\u001b[0;34m\u001b[0m\u001b[0m\n\u001b[1;32m    363\u001b[0m         \u001b[0;32mif\u001b[0m \u001b[0mmaybe_error\u001b[0m \u001b[0;32mis\u001b[0m \u001b[0;32mnot\u001b[0m \u001b[0;32mNone\u001b[0m\u001b[0;34m:\u001b[0m\u001b[0;34m\u001b[0m\u001b[0;34m\u001b[0m\u001b[0m\n\u001b[0;32m--> 364\u001b[0;31m             \u001b[0;32mraise\u001b[0m \u001b[0mRPCException\u001b[0m\u001b[0;34m(\u001b[0m\u001b[0mmaybe_error\u001b[0m\u001b[0;34m)\u001b[0m\u001b[0;34m\u001b[0m\u001b[0;34m\u001b[0m\u001b[0m\n\u001b[0m\u001b[1;32m    365\u001b[0m         \u001b[0;32mif\u001b[0m \u001b[0;32mnot\u001b[0m \u001b[0mresp\u001b[0m\u001b[0;34m.\u001b[0m\u001b[0mget\u001b[0m\u001b[0;34m(\u001b[0m\u001b[0;34m\"result\"\u001b[0m\u001b[0;34m)\u001b[0m\u001b[0;34m:\u001b[0m\u001b[0;34m\u001b[0m\u001b[0;34m\u001b[0m\u001b[0m\n\u001b[1;32m    366\u001b[0m             \u001b[0;32mraise\u001b[0m \u001b[0mException\u001b[0m\u001b[0;34m(\u001b[0m\u001b[0;34m\"Failed to send transaction\"\u001b[0m\u001b[0;34m)\u001b[0m\u001b[0;34m\u001b[0m\u001b[0;34m\u001b[0m\u001b[0m\n",
      "\u001b[0;31mRPCException\u001b[0m: {'code': -32002, 'message': 'Transaction simulation failed: Error processing Instruction 1: custom program error: 0x1', 'data': {'accounts': None, 'err': {'InstructionError': [1, {'Custom': 1}]}, 'logs': ['Program Cf8D7jF1mxtn1uX7kBWDUJZUQ5U3ewreM8JaxJDda77g invoke [1]', 'Program log: Instruction: InitEscrow', 'Program log: 0', 'Program Cf8D7jF1mxtn1uX7kBWDUJZUQ5U3ewreM8JaxJDda77g consumed 4561 of 200000 compute units', 'Program Cf8D7jF1mxtn1uX7kBWDUJZUQ5U3ewreM8JaxJDda77g success', 'Program Cf8D7jF1mxtn1uX7kBWDUJZUQ5U3ewreM8JaxJDda77g invoke [1]', 'Program log: Instruction: Deposit', 'Program log: Getting escrow data', 'Program Cf8D7jF1mxtn1uX7kBWDUJZUQ5U3ewreM8JaxJDda77g consumed 3459 of 200000 compute units', 'Program Cf8D7jF1mxtn1uX7kBWDUJZUQ5U3ewreM8JaxJDda77g failed: custom program error: 0x1']}}"
     ]
    }
   ],
   "source": [
    "tix = Transaction()\n",
    "instructions = [initialize(10,1),deposit_alice(1)]\n",
    "for instruction in instructions:\n",
    "    tix.add(instruction)\n",
    "y = client.send_transaction(tix, Alice)"
   ]
  },
  {
   "cell_type": "code",
   "execution_count": null,
   "metadata": {},
   "outputs": [],
   "source": []
  },
  {
   "cell_type": "markdown",
   "metadata": {},
   "source": [
    "### Test 8: Alice deposits (more than allowed) (SHOULD FAIL)"
   ]
  },
  {
   "cell_type": "code",
   "execution_count": 27,
   "metadata": {},
   "outputs": [
    {
     "ename": "RPCException",
     "evalue": "{'code': -32002, 'message': 'Transaction simulation failed: Error processing Instruction 1: custom program error: 0x1', 'data': {'accounts': None, 'err': {'InstructionError': [1, {'Custom': 1}]}, 'logs': ['Program Cf8D7jF1mxtn1uX7kBWDUJZUQ5U3ewreM8JaxJDda77g invoke [1]', 'Program log: Instruction: InitEscrow', 'Program log: 0', 'Program Cf8D7jF1mxtn1uX7kBWDUJZUQ5U3ewreM8JaxJDda77g consumed 4561 of 200000 compute units', 'Program Cf8D7jF1mxtn1uX7kBWDUJZUQ5U3ewreM8JaxJDda77g success', 'Program Cf8D7jF1mxtn1uX7kBWDUJZUQ5U3ewreM8JaxJDda77g invoke [1]', 'Program log: Instruction: Deposit', 'Program log: Getting escrow data', 'Program Cf8D7jF1mxtn1uX7kBWDUJZUQ5U3ewreM8JaxJDda77g consumed 3459 of 200000 compute units', 'Program Cf8D7jF1mxtn1uX7kBWDUJZUQ5U3ewreM8JaxJDda77g failed: custom program error: 0x1']}}",
     "output_type": "error",
     "traceback": [
      "\u001b[0;31m---------------------------------------------------------------------------\u001b[0m",
      "\u001b[0;31mRPCException\u001b[0m                              Traceback (most recent call last)",
      "\u001b[0;32m<ipython-input-27-5fffc22182bb>\u001b[0m in \u001b[0;36m<module>\u001b[0;34m\u001b[0m\n\u001b[1;32m      3\u001b[0m \u001b[0;32mfor\u001b[0m \u001b[0minstruction\u001b[0m \u001b[0;32min\u001b[0m \u001b[0minstructions\u001b[0m\u001b[0;34m:\u001b[0m\u001b[0;34m\u001b[0m\u001b[0;34m\u001b[0m\u001b[0m\n\u001b[1;32m      4\u001b[0m     \u001b[0mtix\u001b[0m\u001b[0;34m.\u001b[0m\u001b[0madd\u001b[0m\u001b[0;34m(\u001b[0m\u001b[0minstruction\u001b[0m\u001b[0;34m)\u001b[0m\u001b[0;34m\u001b[0m\u001b[0;34m\u001b[0m\u001b[0m\n\u001b[0;32m----> 5\u001b[0;31m \u001b[0my\u001b[0m \u001b[0;34m=\u001b[0m \u001b[0mclient\u001b[0m\u001b[0;34m.\u001b[0m\u001b[0msend_transaction\u001b[0m\u001b[0;34m(\u001b[0m\u001b[0mtix\u001b[0m\u001b[0;34m,\u001b[0m \u001b[0mAlice\u001b[0m\u001b[0;34m)\u001b[0m\u001b[0;34m\u001b[0m\u001b[0;34m\u001b[0m\u001b[0m\n\u001b[0m",
      "\u001b[0;32m~/opt/anaconda3/lib/python3.8/site-packages/solana/rpc/api.py\u001b[0m in \u001b[0;36msend_transaction\u001b[0;34m(self, txn, opts, recent_blockhash, *signers)\u001b[0m\n\u001b[1;32m   1058\u001b[0m \u001b[0;34m\u001b[0m\u001b[0m\n\u001b[1;32m   1059\u001b[0m         \u001b[0mtxn\u001b[0m\u001b[0;34m.\u001b[0m\u001b[0msign\u001b[0m\u001b[0;34m(\u001b[0m\u001b[0;34m*\u001b[0m\u001b[0msigners\u001b[0m\u001b[0;34m)\u001b[0m\u001b[0;34m\u001b[0m\u001b[0;34m\u001b[0m\u001b[0m\n\u001b[0;32m-> 1060\u001b[0;31m         \u001b[0mtxn_resp\u001b[0m \u001b[0;34m=\u001b[0m \u001b[0mself\u001b[0m\u001b[0;34m.\u001b[0m\u001b[0msend_raw_transaction\u001b[0m\u001b[0;34m(\u001b[0m\u001b[0mtxn\u001b[0m\u001b[0;34m.\u001b[0m\u001b[0mserialize\u001b[0m\u001b[0;34m(\u001b[0m\u001b[0;34m)\u001b[0m\u001b[0;34m,\u001b[0m \u001b[0mopts\u001b[0m\u001b[0;34m=\u001b[0m\u001b[0mopts\u001b[0m\u001b[0;34m)\u001b[0m\u001b[0;34m\u001b[0m\u001b[0;34m\u001b[0m\u001b[0m\n\u001b[0m\u001b[1;32m   1061\u001b[0m         \u001b[0;32mif\u001b[0m \u001b[0mself\u001b[0m\u001b[0;34m.\u001b[0m\u001b[0mblockhash_cache\u001b[0m\u001b[0;34m:\u001b[0m\u001b[0;34m\u001b[0m\u001b[0;34m\u001b[0m\u001b[0m\n\u001b[1;32m   1062\u001b[0m             \u001b[0mblockhash_resp\u001b[0m \u001b[0;34m=\u001b[0m \u001b[0mself\u001b[0m\u001b[0;34m.\u001b[0m\u001b[0mget_recent_blockhash\u001b[0m\u001b[0;34m(\u001b[0m\u001b[0;34m)\u001b[0m\u001b[0;34m\u001b[0m\u001b[0;34m\u001b[0m\u001b[0m\n",
      "\u001b[0;32m~/opt/anaconda3/lib/python3.8/site-packages/solana/rpc/api.py\u001b[0m in \u001b[0;36msend_raw_transaction\u001b[0;34m(self, txn, opts)\u001b[0m\n\u001b[1;32m   1014\u001b[0m         \u001b[0mresp\u001b[0m \u001b[0;34m=\u001b[0m \u001b[0mself\u001b[0m\u001b[0;34m.\u001b[0m\u001b[0m_provider\u001b[0m\u001b[0;34m.\u001b[0m\u001b[0mmake_request\u001b[0m\u001b[0;34m(\u001b[0m\u001b[0;34m*\u001b[0m\u001b[0margs\u001b[0m\u001b[0;34m)\u001b[0m\u001b[0;34m\u001b[0m\u001b[0;34m\u001b[0m\u001b[0m\n\u001b[1;32m   1015\u001b[0m         \u001b[0;32mif\u001b[0m \u001b[0mopts\u001b[0m\u001b[0;34m.\u001b[0m\u001b[0mskip_confirmation\u001b[0m\u001b[0;34m:\u001b[0m\u001b[0;34m\u001b[0m\u001b[0;34m\u001b[0m\u001b[0m\n\u001b[0;32m-> 1016\u001b[0;31m             \u001b[0;32mreturn\u001b[0m \u001b[0mself\u001b[0m\u001b[0;34m.\u001b[0m\u001b[0m_post_send\u001b[0m\u001b[0;34m(\u001b[0m\u001b[0mresp\u001b[0m\u001b[0;34m)\u001b[0m\u001b[0;34m\u001b[0m\u001b[0;34m\u001b[0m\u001b[0m\n\u001b[0m\u001b[1;32m   1017\u001b[0m         \u001b[0mpost_send_args\u001b[0m \u001b[0;34m=\u001b[0m \u001b[0mself\u001b[0m\u001b[0;34m.\u001b[0m\u001b[0m_send_raw_transaction_post_send_args\u001b[0m\u001b[0;34m(\u001b[0m\u001b[0mresp\u001b[0m\u001b[0;34m,\u001b[0m \u001b[0mopts\u001b[0m\u001b[0;34m)\u001b[0m\u001b[0;34m\u001b[0m\u001b[0;34m\u001b[0m\u001b[0m\n\u001b[1;32m   1018\u001b[0m         \u001b[0;32mreturn\u001b[0m \u001b[0mself\u001b[0m\u001b[0;34m.\u001b[0m\u001b[0m__post_send_with_confirm\u001b[0m\u001b[0;34m(\u001b[0m\u001b[0;34m*\u001b[0m\u001b[0mpost_send_args\u001b[0m\u001b[0;34m)\u001b[0m\u001b[0;34m\u001b[0m\u001b[0;34m\u001b[0m\u001b[0m\n",
      "\u001b[0;32m~/opt/anaconda3/lib/python3.8/site-packages/solana/rpc/core.py\u001b[0m in \u001b[0;36m_post_send\u001b[0;34m(resp)\u001b[0m\n\u001b[1;32m    362\u001b[0m         \u001b[0mmaybe_error\u001b[0m \u001b[0;34m=\u001b[0m \u001b[0mresp\u001b[0m\u001b[0;34m.\u001b[0m\u001b[0mget\u001b[0m\u001b[0;34m(\u001b[0m\u001b[0;34m\"error\"\u001b[0m\u001b[0;34m)\u001b[0m\u001b[0;34m\u001b[0m\u001b[0;34m\u001b[0m\u001b[0m\n\u001b[1;32m    363\u001b[0m         \u001b[0;32mif\u001b[0m \u001b[0mmaybe_error\u001b[0m \u001b[0;32mis\u001b[0m \u001b[0;32mnot\u001b[0m \u001b[0;32mNone\u001b[0m\u001b[0;34m:\u001b[0m\u001b[0;34m\u001b[0m\u001b[0;34m\u001b[0m\u001b[0m\n\u001b[0;32m--> 364\u001b[0;31m             \u001b[0;32mraise\u001b[0m \u001b[0mRPCException\u001b[0m\u001b[0;34m(\u001b[0m\u001b[0mmaybe_error\u001b[0m\u001b[0;34m)\u001b[0m\u001b[0;34m\u001b[0m\u001b[0;34m\u001b[0m\u001b[0m\n\u001b[0m\u001b[1;32m    365\u001b[0m         \u001b[0;32mif\u001b[0m \u001b[0;32mnot\u001b[0m \u001b[0mresp\u001b[0m\u001b[0;34m.\u001b[0m\u001b[0mget\u001b[0m\u001b[0;34m(\u001b[0m\u001b[0;34m\"result\"\u001b[0m\u001b[0;34m)\u001b[0m\u001b[0;34m:\u001b[0m\u001b[0;34m\u001b[0m\u001b[0;34m\u001b[0m\u001b[0m\n\u001b[1;32m    366\u001b[0m             \u001b[0;32mraise\u001b[0m \u001b[0mException\u001b[0m\u001b[0;34m(\u001b[0m\u001b[0;34m\"Failed to send transaction\"\u001b[0m\u001b[0;34m)\u001b[0m\u001b[0;34m\u001b[0m\u001b[0;34m\u001b[0m\u001b[0m\n",
      "\u001b[0;31mRPCException\u001b[0m: {'code': -32002, 'message': 'Transaction simulation failed: Error processing Instruction 1: custom program error: 0x1', 'data': {'accounts': None, 'err': {'InstructionError': [1, {'Custom': 1}]}, 'logs': ['Program Cf8D7jF1mxtn1uX7kBWDUJZUQ5U3ewreM8JaxJDda77g invoke [1]', 'Program log: Instruction: InitEscrow', 'Program log: 0', 'Program Cf8D7jF1mxtn1uX7kBWDUJZUQ5U3ewreM8JaxJDda77g consumed 4561 of 200000 compute units', 'Program Cf8D7jF1mxtn1uX7kBWDUJZUQ5U3ewreM8JaxJDda77g success', 'Program Cf8D7jF1mxtn1uX7kBWDUJZUQ5U3ewreM8JaxJDda77g invoke [1]', 'Program log: Instruction: Deposit', 'Program log: Getting escrow data', 'Program Cf8D7jF1mxtn1uX7kBWDUJZUQ5U3ewreM8JaxJDda77g consumed 3459 of 200000 compute units', 'Program Cf8D7jF1mxtn1uX7kBWDUJZUQ5U3ewreM8JaxJDda77g failed: custom program error: 0x1']}}"
     ]
    }
   ],
   "source": [
    "tix = Transaction()\n",
    "instructions = [initialize(10,1),deposit_alice(11)]\n",
    "for instruction in instructions:\n",
    "    tix.add(instruction)\n",
    "y = client.send_transaction(tix, Alice)"
   ]
  },
  {
   "cell_type": "code",
   "execution_count": null,
   "metadata": {},
   "outputs": [],
   "source": []
  },
  {
   "cell_type": "markdown",
   "metadata": {},
   "source": [
    "### Test 9: Alice deposits, Bob deposits, Bob withdraws, Bob withdraws (SHOULD FAIL)"
   ]
  },
  {
   "cell_type": "code",
   "execution_count": 30,
   "metadata": {},
   "outputs": [
    {
     "ename": "RPCException",
     "evalue": "{'code': -32002, 'message': 'Transaction simulation failed: Error processing Instruction 4: custom program error: 0x7', 'data': {'accounts': None, 'err': {'InstructionError': [4, {'Custom': 7}]}, 'logs': ['Program Cf8D7jF1mxtn1uX7kBWDUJZUQ5U3ewreM8JaxJDda77g invoke [1]', 'Program log: Instruction: InitEscrow', 'Program log: 0', 'Program Cf8D7jF1mxtn1uX7kBWDUJZUQ5U3ewreM8JaxJDda77g consumed 4559 of 200000 compute units', 'Program Cf8D7jF1mxtn1uX7kBWDUJZUQ5U3ewreM8JaxJDda77g success', 'Program Cf8D7jF1mxtn1uX7kBWDUJZUQ5U3ewreM8JaxJDda77g invoke [1]', 'Program log: Instruction: Deposit', 'Program log: Getting escrow data', 'Program log: ATA KEY AND BUMP BELOW', 'Program TokenkegQfeZyiNwAJbNbGKPFXCWuBvf9Ss623VQ5DA invoke [2]', 'Program log: Instruction: Transfer', 'Program TokenkegQfeZyiNwAJbNbGKPFXCWuBvf9Ss623VQ5DA consumed 3121 of 188270 compute units', 'Program TokenkegQfeZyiNwAJbNbGKPFXCWuBvf9Ss623VQ5DA success', 'Program log: Done with invoke', 'Program log: Alice deposit', 'Program Cf8D7jF1mxtn1uX7kBWDUJZUQ5U3ewreM8JaxJDda77g consumed 16318 of 200000 compute units', 'Program Cf8D7jF1mxtn1uX7kBWDUJZUQ5U3ewreM8JaxJDda77g success', 'Program Cf8D7jF1mxtn1uX7kBWDUJZUQ5U3ewreM8JaxJDda77g invoke [1]', 'Program log: Instruction: Deposit', 'Program log: Getting escrow data', 'Program log: ATA KEY AND BUMP BELOW', 'Program TokenkegQfeZyiNwAJbNbGKPFXCWuBvf9Ss623VQ5DA invoke [2]', 'Program log: Instruction: Transfer', 'Program TokenkegQfeZyiNwAJbNbGKPFXCWuBvf9Ss623VQ5DA consumed 3121 of 191193 compute units', 'Program TokenkegQfeZyiNwAJbNbGKPFXCWuBvf9Ss623VQ5DA success', 'Program log: Done with invoke', 'Program log: Bob deposit', 'Program Cf8D7jF1mxtn1uX7kBWDUJZUQ5U3ewreM8JaxJDda77g consumed 13446 of 200000 compute units', 'Program Cf8D7jF1mxtn1uX7kBWDUJZUQ5U3ewreM8JaxJDda77g success', 'Program Cf8D7jF1mxtn1uX7kBWDUJZUQ5U3ewreM8JaxJDda77g invoke [1]', 'Program log: Instruction: Withdraw', 'Program TokenkegQfeZyiNwAJbNbGKPFXCWuBvf9Ss623VQ5DA invoke [2]', 'Program log: Instruction: Transfer', 'Program TokenkegQfeZyiNwAJbNbGKPFXCWuBvf9Ss623VQ5DA consumed 3121 of 194140 compute units', 'Program TokenkegQfeZyiNwAJbNbGKPFXCWuBvf9Ss623VQ5DA success', 'Program Cf8D7jF1mxtn1uX7kBWDUJZUQ5U3ewreM8JaxJDda77g consumed 10463 of 200000 compute units', 'Program Cf8D7jF1mxtn1uX7kBWDUJZUQ5U3ewreM8JaxJDda77g success', 'Program Cf8D7jF1mxtn1uX7kBWDUJZUQ5U3ewreM8JaxJDda77g invoke [1]', 'Program log: Instruction: Withdraw', 'Program Cf8D7jF1mxtn1uX7kBWDUJZUQ5U3ewreM8JaxJDda77g consumed 3568 of 200000 compute units', 'Program Cf8D7jF1mxtn1uX7kBWDUJZUQ5U3ewreM8JaxJDda77g failed: custom program error: 0x7']}}",
     "output_type": "error",
     "traceback": [
      "\u001b[0;31m---------------------------------------------------------------------------\u001b[0m",
      "\u001b[0;31mRPCException\u001b[0m                              Traceback (most recent call last)",
      "\u001b[0;32m<ipython-input-30-3f9efc07d837>\u001b[0m in \u001b[0;36m<module>\u001b[0;34m\u001b[0m\n\u001b[1;32m      3\u001b[0m \u001b[0;32mfor\u001b[0m \u001b[0minstruction\u001b[0m \u001b[0;32min\u001b[0m \u001b[0minstructions\u001b[0m\u001b[0;34m:\u001b[0m\u001b[0;34m\u001b[0m\u001b[0;34m\u001b[0m\u001b[0m\n\u001b[1;32m      4\u001b[0m     \u001b[0mtix\u001b[0m\u001b[0;34m.\u001b[0m\u001b[0madd\u001b[0m\u001b[0;34m(\u001b[0m\u001b[0minstruction\u001b[0m\u001b[0;34m)\u001b[0m\u001b[0;34m\u001b[0m\u001b[0;34m\u001b[0m\u001b[0m\n\u001b[0;32m----> 5\u001b[0;31m \u001b[0my\u001b[0m \u001b[0;34m=\u001b[0m \u001b[0mclient\u001b[0m\u001b[0;34m.\u001b[0m\u001b[0msend_transaction\u001b[0m\u001b[0;34m(\u001b[0m\u001b[0mtix\u001b[0m\u001b[0;34m,\u001b[0m \u001b[0mAlice\u001b[0m\u001b[0;34m,\u001b[0m \u001b[0mBob\u001b[0m\u001b[0;34m)\u001b[0m\u001b[0;34m\u001b[0m\u001b[0;34m\u001b[0m\u001b[0m\n\u001b[0m",
      "\u001b[0;32m~/opt/anaconda3/lib/python3.8/site-packages/solana/rpc/api.py\u001b[0m in \u001b[0;36msend_transaction\u001b[0;34m(self, txn, opts, recent_blockhash, *signers)\u001b[0m\n\u001b[1;32m   1058\u001b[0m \u001b[0;34m\u001b[0m\u001b[0m\n\u001b[1;32m   1059\u001b[0m         \u001b[0mtxn\u001b[0m\u001b[0;34m.\u001b[0m\u001b[0msign\u001b[0m\u001b[0;34m(\u001b[0m\u001b[0;34m*\u001b[0m\u001b[0msigners\u001b[0m\u001b[0;34m)\u001b[0m\u001b[0;34m\u001b[0m\u001b[0;34m\u001b[0m\u001b[0m\n\u001b[0;32m-> 1060\u001b[0;31m         \u001b[0mtxn_resp\u001b[0m \u001b[0;34m=\u001b[0m \u001b[0mself\u001b[0m\u001b[0;34m.\u001b[0m\u001b[0msend_raw_transaction\u001b[0m\u001b[0;34m(\u001b[0m\u001b[0mtxn\u001b[0m\u001b[0;34m.\u001b[0m\u001b[0mserialize\u001b[0m\u001b[0;34m(\u001b[0m\u001b[0;34m)\u001b[0m\u001b[0;34m,\u001b[0m \u001b[0mopts\u001b[0m\u001b[0;34m=\u001b[0m\u001b[0mopts\u001b[0m\u001b[0;34m)\u001b[0m\u001b[0;34m\u001b[0m\u001b[0;34m\u001b[0m\u001b[0m\n\u001b[0m\u001b[1;32m   1061\u001b[0m         \u001b[0;32mif\u001b[0m \u001b[0mself\u001b[0m\u001b[0;34m.\u001b[0m\u001b[0mblockhash_cache\u001b[0m\u001b[0;34m:\u001b[0m\u001b[0;34m\u001b[0m\u001b[0;34m\u001b[0m\u001b[0m\n\u001b[1;32m   1062\u001b[0m             \u001b[0mblockhash_resp\u001b[0m \u001b[0;34m=\u001b[0m \u001b[0mself\u001b[0m\u001b[0;34m.\u001b[0m\u001b[0mget_recent_blockhash\u001b[0m\u001b[0;34m(\u001b[0m\u001b[0;34m)\u001b[0m\u001b[0;34m\u001b[0m\u001b[0;34m\u001b[0m\u001b[0m\n",
      "\u001b[0;32m~/opt/anaconda3/lib/python3.8/site-packages/solana/rpc/api.py\u001b[0m in \u001b[0;36msend_raw_transaction\u001b[0;34m(self, txn, opts)\u001b[0m\n\u001b[1;32m   1014\u001b[0m         \u001b[0mresp\u001b[0m \u001b[0;34m=\u001b[0m \u001b[0mself\u001b[0m\u001b[0;34m.\u001b[0m\u001b[0m_provider\u001b[0m\u001b[0;34m.\u001b[0m\u001b[0mmake_request\u001b[0m\u001b[0;34m(\u001b[0m\u001b[0;34m*\u001b[0m\u001b[0margs\u001b[0m\u001b[0;34m)\u001b[0m\u001b[0;34m\u001b[0m\u001b[0;34m\u001b[0m\u001b[0m\n\u001b[1;32m   1015\u001b[0m         \u001b[0;32mif\u001b[0m \u001b[0mopts\u001b[0m\u001b[0;34m.\u001b[0m\u001b[0mskip_confirmation\u001b[0m\u001b[0;34m:\u001b[0m\u001b[0;34m\u001b[0m\u001b[0;34m\u001b[0m\u001b[0m\n\u001b[0;32m-> 1016\u001b[0;31m             \u001b[0;32mreturn\u001b[0m \u001b[0mself\u001b[0m\u001b[0;34m.\u001b[0m\u001b[0m_post_send\u001b[0m\u001b[0;34m(\u001b[0m\u001b[0mresp\u001b[0m\u001b[0;34m)\u001b[0m\u001b[0;34m\u001b[0m\u001b[0;34m\u001b[0m\u001b[0m\n\u001b[0m\u001b[1;32m   1017\u001b[0m         \u001b[0mpost_send_args\u001b[0m \u001b[0;34m=\u001b[0m \u001b[0mself\u001b[0m\u001b[0;34m.\u001b[0m\u001b[0m_send_raw_transaction_post_send_args\u001b[0m\u001b[0;34m(\u001b[0m\u001b[0mresp\u001b[0m\u001b[0;34m,\u001b[0m \u001b[0mopts\u001b[0m\u001b[0;34m)\u001b[0m\u001b[0;34m\u001b[0m\u001b[0;34m\u001b[0m\u001b[0m\n\u001b[1;32m   1018\u001b[0m         \u001b[0;32mreturn\u001b[0m \u001b[0mself\u001b[0m\u001b[0;34m.\u001b[0m\u001b[0m__post_send_with_confirm\u001b[0m\u001b[0;34m(\u001b[0m\u001b[0;34m*\u001b[0m\u001b[0mpost_send_args\u001b[0m\u001b[0;34m)\u001b[0m\u001b[0;34m\u001b[0m\u001b[0;34m\u001b[0m\u001b[0m\n",
      "\u001b[0;32m~/opt/anaconda3/lib/python3.8/site-packages/solana/rpc/core.py\u001b[0m in \u001b[0;36m_post_send\u001b[0;34m(resp)\u001b[0m\n\u001b[1;32m    362\u001b[0m         \u001b[0mmaybe_error\u001b[0m \u001b[0;34m=\u001b[0m \u001b[0mresp\u001b[0m\u001b[0;34m.\u001b[0m\u001b[0mget\u001b[0m\u001b[0;34m(\u001b[0m\u001b[0;34m\"error\"\u001b[0m\u001b[0;34m)\u001b[0m\u001b[0;34m\u001b[0m\u001b[0;34m\u001b[0m\u001b[0m\n\u001b[1;32m    363\u001b[0m         \u001b[0;32mif\u001b[0m \u001b[0mmaybe_error\u001b[0m \u001b[0;32mis\u001b[0m \u001b[0;32mnot\u001b[0m \u001b[0;32mNone\u001b[0m\u001b[0;34m:\u001b[0m\u001b[0;34m\u001b[0m\u001b[0;34m\u001b[0m\u001b[0m\n\u001b[0;32m--> 364\u001b[0;31m             \u001b[0;32mraise\u001b[0m \u001b[0mRPCException\u001b[0m\u001b[0;34m(\u001b[0m\u001b[0mmaybe_error\u001b[0m\u001b[0;34m)\u001b[0m\u001b[0;34m\u001b[0m\u001b[0;34m\u001b[0m\u001b[0m\n\u001b[0m\u001b[1;32m    365\u001b[0m         \u001b[0;32mif\u001b[0m \u001b[0;32mnot\u001b[0m \u001b[0mresp\u001b[0m\u001b[0;34m.\u001b[0m\u001b[0mget\u001b[0m\u001b[0;34m(\u001b[0m\u001b[0;34m\"result\"\u001b[0m\u001b[0;34m)\u001b[0m\u001b[0;34m:\u001b[0m\u001b[0;34m\u001b[0m\u001b[0;34m\u001b[0m\u001b[0m\n\u001b[1;32m    366\u001b[0m             \u001b[0;32mraise\u001b[0m \u001b[0mException\u001b[0m\u001b[0;34m(\u001b[0m\u001b[0;34m\"Failed to send transaction\"\u001b[0m\u001b[0;34m)\u001b[0m\u001b[0;34m\u001b[0m\u001b[0;34m\u001b[0m\u001b[0m\n",
      "\u001b[0;31mRPCException\u001b[0m: {'code': -32002, 'message': 'Transaction simulation failed: Error processing Instruction 4: custom program error: 0x7', 'data': {'accounts': None, 'err': {'InstructionError': [4, {'Custom': 7}]}, 'logs': ['Program Cf8D7jF1mxtn1uX7kBWDUJZUQ5U3ewreM8JaxJDda77g invoke [1]', 'Program log: Instruction: InitEscrow', 'Program log: 0', 'Program Cf8D7jF1mxtn1uX7kBWDUJZUQ5U3ewreM8JaxJDda77g consumed 4559 of 200000 compute units', 'Program Cf8D7jF1mxtn1uX7kBWDUJZUQ5U3ewreM8JaxJDda77g success', 'Program Cf8D7jF1mxtn1uX7kBWDUJZUQ5U3ewreM8JaxJDda77g invoke [1]', 'Program log: Instruction: Deposit', 'Program log: Getting escrow data', 'Program log: ATA KEY AND BUMP BELOW', 'Program TokenkegQfeZyiNwAJbNbGKPFXCWuBvf9Ss623VQ5DA invoke [2]', 'Program log: Instruction: Transfer', 'Program TokenkegQfeZyiNwAJbNbGKPFXCWuBvf9Ss623VQ5DA consumed 3121 of 188270 compute units', 'Program TokenkegQfeZyiNwAJbNbGKPFXCWuBvf9Ss623VQ5DA success', 'Program log: Done with invoke', 'Program log: Alice deposit', 'Program Cf8D7jF1mxtn1uX7kBWDUJZUQ5U3ewreM8JaxJDda77g consumed 16318 of 200000 compute units', 'Program Cf8D7jF1mxtn1uX7kBWDUJZUQ5U3ewreM8JaxJDda77g success', 'Program Cf8D7jF1mxtn1uX7kBWDUJZUQ5U3ewreM8JaxJDda77g invoke [1]', 'Program log: Instruction: Deposit', 'Program log: Getting escrow data', 'Program log: ATA KEY AND BUMP BELOW', 'Program TokenkegQfeZyiNwAJbNbGKPFXCWuBvf9Ss623VQ5DA invoke [2]', 'Program log: Instruction: Transfer', 'Program TokenkegQfeZyiNwAJbNbGKPFXCWuBvf9Ss623VQ5DA consumed 3121 of 191193 compute units', 'Program TokenkegQfeZyiNwAJbNbGKPFXCWuBvf9Ss623VQ5DA success', 'Program log: Done with invoke', 'Program log: Bob deposit', 'Program Cf8D7jF1mxtn1uX7kBWDUJZUQ5U3ewreM8JaxJDda77g consumed 13446 of 200000 compute units', 'Program Cf8D7jF1mxtn1uX7kBWDUJZUQ5U3ewreM8JaxJDda77g success', 'Program Cf8D7jF1mxtn1uX7kBWDUJZUQ5U3ewreM8JaxJDda77g invoke [1]', 'Program log: Instruction: Withdraw', 'Program TokenkegQfeZyiNwAJbNbGKPFXCWuBvf9Ss623VQ5DA invoke [2]', 'Program log: Instruction: Transfer', 'Program TokenkegQfeZyiNwAJbNbGKPFXCWuBvf9Ss623VQ5DA consumed 3121 of 194140 compute units', 'Program TokenkegQfeZyiNwAJbNbGKPFXCWuBvf9Ss623VQ5DA success', 'Program Cf8D7jF1mxtn1uX7kBWDUJZUQ5U3ewreM8JaxJDda77g consumed 10463 of 200000 compute units', 'Program Cf8D7jF1mxtn1uX7kBWDUJZUQ5U3ewreM8JaxJDda77g success', 'Program Cf8D7jF1mxtn1uX7kBWDUJZUQ5U3ewreM8JaxJDda77g invoke [1]', 'Program log: Instruction: Withdraw', 'Program Cf8D7jF1mxtn1uX7kBWDUJZUQ5U3ewreM8JaxJDda77g consumed 3568 of 200000 compute units', 'Program Cf8D7jF1mxtn1uX7kBWDUJZUQ5U3ewreM8JaxJDda77g failed: custom program error: 0x7']}}"
     ]
    }
   ],
   "source": [
    "tix = Transaction()\n",
    "instructions = [initialize(10,1),deposit_alice(10),deposit_bob(1),withdraw_bob_x(10),withdraw_bob_x(10)]\n",
    "for instruction in instructions:\n",
    "    tix.add(instruction)\n",
    "y = client.send_transaction(tix, Alice, Bob)"
   ]
  },
  {
   "cell_type": "code",
   "execution_count": null,
   "metadata": {},
   "outputs": [],
   "source": []
  },
  {
   "cell_type": "markdown",
   "metadata": {},
   "source": [
    "### Test 10: Alice deposits, Alice deposits (SHOULD FAIL)"
   ]
  },
  {
   "cell_type": "code",
   "execution_count": 31,
   "metadata": {},
   "outputs": [
    {
     "ename": "RPCException",
     "evalue": "{'code': -32002, 'message': 'Transaction simulation failed: Error processing Instruction 2: custom program error: 0x4', 'data': {'accounts': None, 'err': {'InstructionError': [2, {'Custom': 4}]}, 'logs': ['Program Cf8D7jF1mxtn1uX7kBWDUJZUQ5U3ewreM8JaxJDda77g invoke [1]', 'Program log: Instruction: InitEscrow', 'Program log: 0', 'Program Cf8D7jF1mxtn1uX7kBWDUJZUQ5U3ewreM8JaxJDda77g consumed 4559 of 200000 compute units', 'Program Cf8D7jF1mxtn1uX7kBWDUJZUQ5U3ewreM8JaxJDda77g success', 'Program Cf8D7jF1mxtn1uX7kBWDUJZUQ5U3ewreM8JaxJDda77g invoke [1]', 'Program log: Instruction: Deposit', 'Program log: Getting escrow data', 'Program log: ATA KEY AND BUMP BELOW', 'Program TokenkegQfeZyiNwAJbNbGKPFXCWuBvf9Ss623VQ5DA invoke [2]', 'Program log: Instruction: Transfer', 'Program TokenkegQfeZyiNwAJbNbGKPFXCWuBvf9Ss623VQ5DA consumed 3121 of 188270 compute units', 'Program TokenkegQfeZyiNwAJbNbGKPFXCWuBvf9Ss623VQ5DA success', 'Program log: Done with invoke', 'Program log: Alice deposit', 'Program Cf8D7jF1mxtn1uX7kBWDUJZUQ5U3ewreM8JaxJDda77g consumed 16318 of 200000 compute units', 'Program Cf8D7jF1mxtn1uX7kBWDUJZUQ5U3ewreM8JaxJDda77g success', 'Program Cf8D7jF1mxtn1uX7kBWDUJZUQ5U3ewreM8JaxJDda77g invoke [1]', 'Program log: Instruction: Deposit', 'Program log: Getting escrow data', 'Program Cf8D7jF1mxtn1uX7kBWDUJZUQ5U3ewreM8JaxJDda77g consumed 3460 of 200000 compute units', 'Program Cf8D7jF1mxtn1uX7kBWDUJZUQ5U3ewreM8JaxJDda77g failed: custom program error: 0x4']}}",
     "output_type": "error",
     "traceback": [
      "\u001b[0;31m---------------------------------------------------------------------------\u001b[0m",
      "\u001b[0;31mRPCException\u001b[0m                              Traceback (most recent call last)",
      "\u001b[0;32m<ipython-input-31-7b99214cb450>\u001b[0m in \u001b[0;36m<module>\u001b[0;34m\u001b[0m\n\u001b[1;32m      3\u001b[0m \u001b[0;32mfor\u001b[0m \u001b[0minstruction\u001b[0m \u001b[0;32min\u001b[0m \u001b[0minstructions\u001b[0m\u001b[0;34m:\u001b[0m\u001b[0;34m\u001b[0m\u001b[0;34m\u001b[0m\u001b[0m\n\u001b[1;32m      4\u001b[0m     \u001b[0mtix\u001b[0m\u001b[0;34m.\u001b[0m\u001b[0madd\u001b[0m\u001b[0;34m(\u001b[0m\u001b[0minstruction\u001b[0m\u001b[0;34m)\u001b[0m\u001b[0;34m\u001b[0m\u001b[0;34m\u001b[0m\u001b[0m\n\u001b[0;32m----> 5\u001b[0;31m \u001b[0my\u001b[0m \u001b[0;34m=\u001b[0m \u001b[0mclient\u001b[0m\u001b[0;34m.\u001b[0m\u001b[0msend_transaction\u001b[0m\u001b[0;34m(\u001b[0m\u001b[0mtix\u001b[0m\u001b[0;34m,\u001b[0m \u001b[0mAlice\u001b[0m\u001b[0;34m,\u001b[0m \u001b[0mBob\u001b[0m\u001b[0;34m)\u001b[0m\u001b[0;34m\u001b[0m\u001b[0;34m\u001b[0m\u001b[0m\n\u001b[0m",
      "\u001b[0;32m~/opt/anaconda3/lib/python3.8/site-packages/solana/rpc/api.py\u001b[0m in \u001b[0;36msend_transaction\u001b[0;34m(self, txn, opts, recent_blockhash, *signers)\u001b[0m\n\u001b[1;32m   1058\u001b[0m \u001b[0;34m\u001b[0m\u001b[0m\n\u001b[1;32m   1059\u001b[0m         \u001b[0mtxn\u001b[0m\u001b[0;34m.\u001b[0m\u001b[0msign\u001b[0m\u001b[0;34m(\u001b[0m\u001b[0;34m*\u001b[0m\u001b[0msigners\u001b[0m\u001b[0;34m)\u001b[0m\u001b[0;34m\u001b[0m\u001b[0;34m\u001b[0m\u001b[0m\n\u001b[0;32m-> 1060\u001b[0;31m         \u001b[0mtxn_resp\u001b[0m \u001b[0;34m=\u001b[0m \u001b[0mself\u001b[0m\u001b[0;34m.\u001b[0m\u001b[0msend_raw_transaction\u001b[0m\u001b[0;34m(\u001b[0m\u001b[0mtxn\u001b[0m\u001b[0;34m.\u001b[0m\u001b[0mserialize\u001b[0m\u001b[0;34m(\u001b[0m\u001b[0;34m)\u001b[0m\u001b[0;34m,\u001b[0m \u001b[0mopts\u001b[0m\u001b[0;34m=\u001b[0m\u001b[0mopts\u001b[0m\u001b[0;34m)\u001b[0m\u001b[0;34m\u001b[0m\u001b[0;34m\u001b[0m\u001b[0m\n\u001b[0m\u001b[1;32m   1061\u001b[0m         \u001b[0;32mif\u001b[0m \u001b[0mself\u001b[0m\u001b[0;34m.\u001b[0m\u001b[0mblockhash_cache\u001b[0m\u001b[0;34m:\u001b[0m\u001b[0;34m\u001b[0m\u001b[0;34m\u001b[0m\u001b[0m\n\u001b[1;32m   1062\u001b[0m             \u001b[0mblockhash_resp\u001b[0m \u001b[0;34m=\u001b[0m \u001b[0mself\u001b[0m\u001b[0;34m.\u001b[0m\u001b[0mget_recent_blockhash\u001b[0m\u001b[0;34m(\u001b[0m\u001b[0;34m)\u001b[0m\u001b[0;34m\u001b[0m\u001b[0;34m\u001b[0m\u001b[0m\n",
      "\u001b[0;32m~/opt/anaconda3/lib/python3.8/site-packages/solana/rpc/api.py\u001b[0m in \u001b[0;36msend_raw_transaction\u001b[0;34m(self, txn, opts)\u001b[0m\n\u001b[1;32m   1014\u001b[0m         \u001b[0mresp\u001b[0m \u001b[0;34m=\u001b[0m \u001b[0mself\u001b[0m\u001b[0;34m.\u001b[0m\u001b[0m_provider\u001b[0m\u001b[0;34m.\u001b[0m\u001b[0mmake_request\u001b[0m\u001b[0;34m(\u001b[0m\u001b[0;34m*\u001b[0m\u001b[0margs\u001b[0m\u001b[0;34m)\u001b[0m\u001b[0;34m\u001b[0m\u001b[0;34m\u001b[0m\u001b[0m\n\u001b[1;32m   1015\u001b[0m         \u001b[0;32mif\u001b[0m \u001b[0mopts\u001b[0m\u001b[0;34m.\u001b[0m\u001b[0mskip_confirmation\u001b[0m\u001b[0;34m:\u001b[0m\u001b[0;34m\u001b[0m\u001b[0;34m\u001b[0m\u001b[0m\n\u001b[0;32m-> 1016\u001b[0;31m             \u001b[0;32mreturn\u001b[0m \u001b[0mself\u001b[0m\u001b[0;34m.\u001b[0m\u001b[0m_post_send\u001b[0m\u001b[0;34m(\u001b[0m\u001b[0mresp\u001b[0m\u001b[0;34m)\u001b[0m\u001b[0;34m\u001b[0m\u001b[0;34m\u001b[0m\u001b[0m\n\u001b[0m\u001b[1;32m   1017\u001b[0m         \u001b[0mpost_send_args\u001b[0m \u001b[0;34m=\u001b[0m \u001b[0mself\u001b[0m\u001b[0;34m.\u001b[0m\u001b[0m_send_raw_transaction_post_send_args\u001b[0m\u001b[0;34m(\u001b[0m\u001b[0mresp\u001b[0m\u001b[0;34m,\u001b[0m \u001b[0mopts\u001b[0m\u001b[0;34m)\u001b[0m\u001b[0;34m\u001b[0m\u001b[0;34m\u001b[0m\u001b[0m\n\u001b[1;32m   1018\u001b[0m         \u001b[0;32mreturn\u001b[0m \u001b[0mself\u001b[0m\u001b[0;34m.\u001b[0m\u001b[0m__post_send_with_confirm\u001b[0m\u001b[0;34m(\u001b[0m\u001b[0;34m*\u001b[0m\u001b[0mpost_send_args\u001b[0m\u001b[0;34m)\u001b[0m\u001b[0;34m\u001b[0m\u001b[0;34m\u001b[0m\u001b[0m\n",
      "\u001b[0;32m~/opt/anaconda3/lib/python3.8/site-packages/solana/rpc/core.py\u001b[0m in \u001b[0;36m_post_send\u001b[0;34m(resp)\u001b[0m\n\u001b[1;32m    362\u001b[0m         \u001b[0mmaybe_error\u001b[0m \u001b[0;34m=\u001b[0m \u001b[0mresp\u001b[0m\u001b[0;34m.\u001b[0m\u001b[0mget\u001b[0m\u001b[0;34m(\u001b[0m\u001b[0;34m\"error\"\u001b[0m\u001b[0;34m)\u001b[0m\u001b[0;34m\u001b[0m\u001b[0;34m\u001b[0m\u001b[0m\n\u001b[1;32m    363\u001b[0m         \u001b[0;32mif\u001b[0m \u001b[0mmaybe_error\u001b[0m \u001b[0;32mis\u001b[0m \u001b[0;32mnot\u001b[0m \u001b[0;32mNone\u001b[0m\u001b[0;34m:\u001b[0m\u001b[0;34m\u001b[0m\u001b[0;34m\u001b[0m\u001b[0m\n\u001b[0;32m--> 364\u001b[0;31m             \u001b[0;32mraise\u001b[0m \u001b[0mRPCException\u001b[0m\u001b[0;34m(\u001b[0m\u001b[0mmaybe_error\u001b[0m\u001b[0;34m)\u001b[0m\u001b[0;34m\u001b[0m\u001b[0;34m\u001b[0m\u001b[0m\n\u001b[0m\u001b[1;32m    365\u001b[0m         \u001b[0;32mif\u001b[0m \u001b[0;32mnot\u001b[0m \u001b[0mresp\u001b[0m\u001b[0;34m.\u001b[0m\u001b[0mget\u001b[0m\u001b[0;34m(\u001b[0m\u001b[0;34m\"result\"\u001b[0m\u001b[0;34m)\u001b[0m\u001b[0;34m:\u001b[0m\u001b[0;34m\u001b[0m\u001b[0;34m\u001b[0m\u001b[0m\n\u001b[1;32m    366\u001b[0m             \u001b[0;32mraise\u001b[0m \u001b[0mException\u001b[0m\u001b[0;34m(\u001b[0m\u001b[0;34m\"Failed to send transaction\"\u001b[0m\u001b[0;34m)\u001b[0m\u001b[0;34m\u001b[0m\u001b[0;34m\u001b[0m\u001b[0m\n",
      "\u001b[0;31mRPCException\u001b[0m: {'code': -32002, 'message': 'Transaction simulation failed: Error processing Instruction 2: custom program error: 0x4', 'data': {'accounts': None, 'err': {'InstructionError': [2, {'Custom': 4}]}, 'logs': ['Program Cf8D7jF1mxtn1uX7kBWDUJZUQ5U3ewreM8JaxJDda77g invoke [1]', 'Program log: Instruction: InitEscrow', 'Program log: 0', 'Program Cf8D7jF1mxtn1uX7kBWDUJZUQ5U3ewreM8JaxJDda77g consumed 4559 of 200000 compute units', 'Program Cf8D7jF1mxtn1uX7kBWDUJZUQ5U3ewreM8JaxJDda77g success', 'Program Cf8D7jF1mxtn1uX7kBWDUJZUQ5U3ewreM8JaxJDda77g invoke [1]', 'Program log: Instruction: Deposit', 'Program log: Getting escrow data', 'Program log: ATA KEY AND BUMP BELOW', 'Program TokenkegQfeZyiNwAJbNbGKPFXCWuBvf9Ss623VQ5DA invoke [2]', 'Program log: Instruction: Transfer', 'Program TokenkegQfeZyiNwAJbNbGKPFXCWuBvf9Ss623VQ5DA consumed 3121 of 188270 compute units', 'Program TokenkegQfeZyiNwAJbNbGKPFXCWuBvf9Ss623VQ5DA success', 'Program log: Done with invoke', 'Program log: Alice deposit', 'Program Cf8D7jF1mxtn1uX7kBWDUJZUQ5U3ewreM8JaxJDda77g consumed 16318 of 200000 compute units', 'Program Cf8D7jF1mxtn1uX7kBWDUJZUQ5U3ewreM8JaxJDda77g success', 'Program Cf8D7jF1mxtn1uX7kBWDUJZUQ5U3ewreM8JaxJDda77g invoke [1]', 'Program log: Instruction: Deposit', 'Program log: Getting escrow data', 'Program Cf8D7jF1mxtn1uX7kBWDUJZUQ5U3ewreM8JaxJDda77g consumed 3460 of 200000 compute units', 'Program Cf8D7jF1mxtn1uX7kBWDUJZUQ5U3ewreM8JaxJDda77g failed: custom program error: 0x4']}}"
     ]
    }
   ],
   "source": [
    "tix = Transaction()\n",
    "instructions = [initialize(10,1),deposit_alice(10),deposit_alice(10)]\n",
    "for instruction in instructions:\n",
    "    tix.add(instruction)\n",
    "y = client.send_transaction(tix, Alice)"
   ]
  },
  {
   "cell_type": "code",
   "execution_count": null,
   "metadata": {},
   "outputs": [],
   "source": []
  },
  {
   "cell_type": "markdown",
   "metadata": {},
   "source": [
    "### Test 11: Alice deposits, Bob deposits, Alice withdraws from X (SHOULD FAIL)"
   ]
  },
  {
   "cell_type": "code",
   "execution_count": 32,
   "metadata": {},
   "outputs": [
    {
     "ename": "RPCException",
     "evalue": "{'code': -32002, 'message': 'Transaction simulation failed: Error processing Instruction 3: custom program error: 0x5', 'data': {'accounts': None, 'err': {'InstructionError': [3, {'Custom': 5}]}, 'logs': ['Program Cf8D7jF1mxtn1uX7kBWDUJZUQ5U3ewreM8JaxJDda77g invoke [1]', 'Program log: Instruction: InitEscrow', 'Program log: 0', 'Program Cf8D7jF1mxtn1uX7kBWDUJZUQ5U3ewreM8JaxJDda77g consumed 4559 of 200000 compute units', 'Program Cf8D7jF1mxtn1uX7kBWDUJZUQ5U3ewreM8JaxJDda77g success', 'Program Cf8D7jF1mxtn1uX7kBWDUJZUQ5U3ewreM8JaxJDda77g invoke [1]', 'Program log: Instruction: Deposit', 'Program log: Getting escrow data', 'Program log: ATA KEY AND BUMP BELOW', 'Program TokenkegQfeZyiNwAJbNbGKPFXCWuBvf9Ss623VQ5DA invoke [2]', 'Program log: Instruction: Transfer', 'Program TokenkegQfeZyiNwAJbNbGKPFXCWuBvf9Ss623VQ5DA consumed 3121 of 188270 compute units', 'Program TokenkegQfeZyiNwAJbNbGKPFXCWuBvf9Ss623VQ5DA success', 'Program log: Done with invoke', 'Program log: Alice deposit', 'Program Cf8D7jF1mxtn1uX7kBWDUJZUQ5U3ewreM8JaxJDda77g consumed 16318 of 200000 compute units', 'Program Cf8D7jF1mxtn1uX7kBWDUJZUQ5U3ewreM8JaxJDda77g success', 'Program Cf8D7jF1mxtn1uX7kBWDUJZUQ5U3ewreM8JaxJDda77g invoke [1]', 'Program log: Instruction: Deposit', 'Program log: Getting escrow data', 'Program log: ATA KEY AND BUMP BELOW', 'Program TokenkegQfeZyiNwAJbNbGKPFXCWuBvf9Ss623VQ5DA invoke [2]', 'Program log: Instruction: Transfer', 'Program TokenkegQfeZyiNwAJbNbGKPFXCWuBvf9Ss623VQ5DA consumed 3121 of 191193 compute units', 'Program TokenkegQfeZyiNwAJbNbGKPFXCWuBvf9Ss623VQ5DA success', 'Program log: Done with invoke', 'Program log: Bob deposit', 'Program Cf8D7jF1mxtn1uX7kBWDUJZUQ5U3ewreM8JaxJDda77g consumed 13446 of 200000 compute units', 'Program Cf8D7jF1mxtn1uX7kBWDUJZUQ5U3ewreM8JaxJDda77g success', 'Program Cf8D7jF1mxtn1uX7kBWDUJZUQ5U3ewreM8JaxJDda77g invoke [1]', 'Program log: Instruction: Withdraw', 'Program Cf8D7jF1mxtn1uX7kBWDUJZUQ5U3ewreM8JaxJDda77g consumed 3589 of 200000 compute units', 'Program Cf8D7jF1mxtn1uX7kBWDUJZUQ5U3ewreM8JaxJDda77g failed: custom program error: 0x5']}}",
     "output_type": "error",
     "traceback": [
      "\u001b[0;31m---------------------------------------------------------------------------\u001b[0m",
      "\u001b[0;31mRPCException\u001b[0m                              Traceback (most recent call last)",
      "\u001b[0;32m<ipython-input-32-a7aa489fcda0>\u001b[0m in \u001b[0;36m<module>\u001b[0;34m\u001b[0m\n\u001b[1;32m      3\u001b[0m \u001b[0;32mfor\u001b[0m \u001b[0minstruction\u001b[0m \u001b[0;32min\u001b[0m \u001b[0minstructions\u001b[0m\u001b[0;34m:\u001b[0m\u001b[0;34m\u001b[0m\u001b[0;34m\u001b[0m\u001b[0m\n\u001b[1;32m      4\u001b[0m     \u001b[0mtix\u001b[0m\u001b[0;34m.\u001b[0m\u001b[0madd\u001b[0m\u001b[0;34m(\u001b[0m\u001b[0minstruction\u001b[0m\u001b[0;34m)\u001b[0m\u001b[0;34m\u001b[0m\u001b[0;34m\u001b[0m\u001b[0m\n\u001b[0;32m----> 5\u001b[0;31m \u001b[0my\u001b[0m \u001b[0;34m=\u001b[0m \u001b[0mclient\u001b[0m\u001b[0;34m.\u001b[0m\u001b[0msend_transaction\u001b[0m\u001b[0;34m(\u001b[0m\u001b[0mtix\u001b[0m\u001b[0;34m,\u001b[0m \u001b[0mAlice\u001b[0m\u001b[0;34m,\u001b[0m \u001b[0mBob\u001b[0m\u001b[0;34m)\u001b[0m\u001b[0;34m\u001b[0m\u001b[0;34m\u001b[0m\u001b[0m\n\u001b[0m",
      "\u001b[0;32m~/opt/anaconda3/lib/python3.8/site-packages/solana/rpc/api.py\u001b[0m in \u001b[0;36msend_transaction\u001b[0;34m(self, txn, opts, recent_blockhash, *signers)\u001b[0m\n\u001b[1;32m   1058\u001b[0m \u001b[0;34m\u001b[0m\u001b[0m\n\u001b[1;32m   1059\u001b[0m         \u001b[0mtxn\u001b[0m\u001b[0;34m.\u001b[0m\u001b[0msign\u001b[0m\u001b[0;34m(\u001b[0m\u001b[0;34m*\u001b[0m\u001b[0msigners\u001b[0m\u001b[0;34m)\u001b[0m\u001b[0;34m\u001b[0m\u001b[0;34m\u001b[0m\u001b[0m\n\u001b[0;32m-> 1060\u001b[0;31m         \u001b[0mtxn_resp\u001b[0m \u001b[0;34m=\u001b[0m \u001b[0mself\u001b[0m\u001b[0;34m.\u001b[0m\u001b[0msend_raw_transaction\u001b[0m\u001b[0;34m(\u001b[0m\u001b[0mtxn\u001b[0m\u001b[0;34m.\u001b[0m\u001b[0mserialize\u001b[0m\u001b[0;34m(\u001b[0m\u001b[0;34m)\u001b[0m\u001b[0;34m,\u001b[0m \u001b[0mopts\u001b[0m\u001b[0;34m=\u001b[0m\u001b[0mopts\u001b[0m\u001b[0;34m)\u001b[0m\u001b[0;34m\u001b[0m\u001b[0;34m\u001b[0m\u001b[0m\n\u001b[0m\u001b[1;32m   1061\u001b[0m         \u001b[0;32mif\u001b[0m \u001b[0mself\u001b[0m\u001b[0;34m.\u001b[0m\u001b[0mblockhash_cache\u001b[0m\u001b[0;34m:\u001b[0m\u001b[0;34m\u001b[0m\u001b[0;34m\u001b[0m\u001b[0m\n\u001b[1;32m   1062\u001b[0m             \u001b[0mblockhash_resp\u001b[0m \u001b[0;34m=\u001b[0m \u001b[0mself\u001b[0m\u001b[0;34m.\u001b[0m\u001b[0mget_recent_blockhash\u001b[0m\u001b[0;34m(\u001b[0m\u001b[0;34m)\u001b[0m\u001b[0;34m\u001b[0m\u001b[0;34m\u001b[0m\u001b[0m\n",
      "\u001b[0;32m~/opt/anaconda3/lib/python3.8/site-packages/solana/rpc/api.py\u001b[0m in \u001b[0;36msend_raw_transaction\u001b[0;34m(self, txn, opts)\u001b[0m\n\u001b[1;32m   1014\u001b[0m         \u001b[0mresp\u001b[0m \u001b[0;34m=\u001b[0m \u001b[0mself\u001b[0m\u001b[0;34m.\u001b[0m\u001b[0m_provider\u001b[0m\u001b[0;34m.\u001b[0m\u001b[0mmake_request\u001b[0m\u001b[0;34m(\u001b[0m\u001b[0;34m*\u001b[0m\u001b[0margs\u001b[0m\u001b[0;34m)\u001b[0m\u001b[0;34m\u001b[0m\u001b[0;34m\u001b[0m\u001b[0m\n\u001b[1;32m   1015\u001b[0m         \u001b[0;32mif\u001b[0m \u001b[0mopts\u001b[0m\u001b[0;34m.\u001b[0m\u001b[0mskip_confirmation\u001b[0m\u001b[0;34m:\u001b[0m\u001b[0;34m\u001b[0m\u001b[0;34m\u001b[0m\u001b[0m\n\u001b[0;32m-> 1016\u001b[0;31m             \u001b[0;32mreturn\u001b[0m \u001b[0mself\u001b[0m\u001b[0;34m.\u001b[0m\u001b[0m_post_send\u001b[0m\u001b[0;34m(\u001b[0m\u001b[0mresp\u001b[0m\u001b[0;34m)\u001b[0m\u001b[0;34m\u001b[0m\u001b[0;34m\u001b[0m\u001b[0m\n\u001b[0m\u001b[1;32m   1017\u001b[0m         \u001b[0mpost_send_args\u001b[0m \u001b[0;34m=\u001b[0m \u001b[0mself\u001b[0m\u001b[0;34m.\u001b[0m\u001b[0m_send_raw_transaction_post_send_args\u001b[0m\u001b[0;34m(\u001b[0m\u001b[0mresp\u001b[0m\u001b[0;34m,\u001b[0m \u001b[0mopts\u001b[0m\u001b[0;34m)\u001b[0m\u001b[0;34m\u001b[0m\u001b[0;34m\u001b[0m\u001b[0m\n\u001b[1;32m   1018\u001b[0m         \u001b[0;32mreturn\u001b[0m \u001b[0mself\u001b[0m\u001b[0;34m.\u001b[0m\u001b[0m__post_send_with_confirm\u001b[0m\u001b[0;34m(\u001b[0m\u001b[0;34m*\u001b[0m\u001b[0mpost_send_args\u001b[0m\u001b[0;34m)\u001b[0m\u001b[0;34m\u001b[0m\u001b[0;34m\u001b[0m\u001b[0m\n",
      "\u001b[0;32m~/opt/anaconda3/lib/python3.8/site-packages/solana/rpc/core.py\u001b[0m in \u001b[0;36m_post_send\u001b[0;34m(resp)\u001b[0m\n\u001b[1;32m    362\u001b[0m         \u001b[0mmaybe_error\u001b[0m \u001b[0;34m=\u001b[0m \u001b[0mresp\u001b[0m\u001b[0;34m.\u001b[0m\u001b[0mget\u001b[0m\u001b[0;34m(\u001b[0m\u001b[0;34m\"error\"\u001b[0m\u001b[0;34m)\u001b[0m\u001b[0;34m\u001b[0m\u001b[0;34m\u001b[0m\u001b[0m\n\u001b[1;32m    363\u001b[0m         \u001b[0;32mif\u001b[0m \u001b[0mmaybe_error\u001b[0m \u001b[0;32mis\u001b[0m \u001b[0;32mnot\u001b[0m \u001b[0;32mNone\u001b[0m\u001b[0;34m:\u001b[0m\u001b[0;34m\u001b[0m\u001b[0;34m\u001b[0m\u001b[0m\n\u001b[0;32m--> 364\u001b[0;31m             \u001b[0;32mraise\u001b[0m \u001b[0mRPCException\u001b[0m\u001b[0;34m(\u001b[0m\u001b[0mmaybe_error\u001b[0m\u001b[0;34m)\u001b[0m\u001b[0;34m\u001b[0m\u001b[0;34m\u001b[0m\u001b[0m\n\u001b[0m\u001b[1;32m    365\u001b[0m         \u001b[0;32mif\u001b[0m \u001b[0;32mnot\u001b[0m \u001b[0mresp\u001b[0m\u001b[0;34m.\u001b[0m\u001b[0mget\u001b[0m\u001b[0;34m(\u001b[0m\u001b[0;34m\"result\"\u001b[0m\u001b[0;34m)\u001b[0m\u001b[0;34m:\u001b[0m\u001b[0;34m\u001b[0m\u001b[0;34m\u001b[0m\u001b[0m\n\u001b[1;32m    366\u001b[0m             \u001b[0;32mraise\u001b[0m \u001b[0mException\u001b[0m\u001b[0;34m(\u001b[0m\u001b[0;34m\"Failed to send transaction\"\u001b[0m\u001b[0;34m)\u001b[0m\u001b[0;34m\u001b[0m\u001b[0;34m\u001b[0m\u001b[0m\n",
      "\u001b[0;31mRPCException\u001b[0m: {'code': -32002, 'message': 'Transaction simulation failed: Error processing Instruction 3: custom program error: 0x5', 'data': {'accounts': None, 'err': {'InstructionError': [3, {'Custom': 5}]}, 'logs': ['Program Cf8D7jF1mxtn1uX7kBWDUJZUQ5U3ewreM8JaxJDda77g invoke [1]', 'Program log: Instruction: InitEscrow', 'Program log: 0', 'Program Cf8D7jF1mxtn1uX7kBWDUJZUQ5U3ewreM8JaxJDda77g consumed 4559 of 200000 compute units', 'Program Cf8D7jF1mxtn1uX7kBWDUJZUQ5U3ewreM8JaxJDda77g success', 'Program Cf8D7jF1mxtn1uX7kBWDUJZUQ5U3ewreM8JaxJDda77g invoke [1]', 'Program log: Instruction: Deposit', 'Program log: Getting escrow data', 'Program log: ATA KEY AND BUMP BELOW', 'Program TokenkegQfeZyiNwAJbNbGKPFXCWuBvf9Ss623VQ5DA invoke [2]', 'Program log: Instruction: Transfer', 'Program TokenkegQfeZyiNwAJbNbGKPFXCWuBvf9Ss623VQ5DA consumed 3121 of 188270 compute units', 'Program TokenkegQfeZyiNwAJbNbGKPFXCWuBvf9Ss623VQ5DA success', 'Program log: Done with invoke', 'Program log: Alice deposit', 'Program Cf8D7jF1mxtn1uX7kBWDUJZUQ5U3ewreM8JaxJDda77g consumed 16318 of 200000 compute units', 'Program Cf8D7jF1mxtn1uX7kBWDUJZUQ5U3ewreM8JaxJDda77g success', 'Program Cf8D7jF1mxtn1uX7kBWDUJZUQ5U3ewreM8JaxJDda77g invoke [1]', 'Program log: Instruction: Deposit', 'Program log: Getting escrow data', 'Program log: ATA KEY AND BUMP BELOW', 'Program TokenkegQfeZyiNwAJbNbGKPFXCWuBvf9Ss623VQ5DA invoke [2]', 'Program log: Instruction: Transfer', 'Program TokenkegQfeZyiNwAJbNbGKPFXCWuBvf9Ss623VQ5DA consumed 3121 of 191193 compute units', 'Program TokenkegQfeZyiNwAJbNbGKPFXCWuBvf9Ss623VQ5DA success', 'Program log: Done with invoke', 'Program log: Bob deposit', 'Program Cf8D7jF1mxtn1uX7kBWDUJZUQ5U3ewreM8JaxJDda77g consumed 13446 of 200000 compute units', 'Program Cf8D7jF1mxtn1uX7kBWDUJZUQ5U3ewreM8JaxJDda77g success', 'Program Cf8D7jF1mxtn1uX7kBWDUJZUQ5U3ewreM8JaxJDda77g invoke [1]', 'Program log: Instruction: Withdraw', 'Program Cf8D7jF1mxtn1uX7kBWDUJZUQ5U3ewreM8JaxJDda77g consumed 3589 of 200000 compute units', 'Program Cf8D7jF1mxtn1uX7kBWDUJZUQ5U3ewreM8JaxJDda77g failed: custom program error: 0x5']}}"
     ]
    }
   ],
   "source": [
    "tix = Transaction()\n",
    "instructions = [initialize(10,1),deposit_alice(10),deposit_bob(1),withdraw_alice_x(10)]\n",
    "for instruction in instructions:\n",
    "    tix.add(instruction)\n",
    "y = client.send_transaction(tix, Alice, Bob)"
   ]
  },
  {
   "cell_type": "code",
   "execution_count": null,
   "metadata": {},
   "outputs": [],
   "source": []
  },
  {
   "cell_type": "markdown",
   "metadata": {},
   "source": [
    "### Test 12: Alice withdraws (SHOULD FAIL)"
   ]
  },
  {
   "cell_type": "code",
   "execution_count": 33,
   "metadata": {},
   "outputs": [
    {
     "ename": "RPCException",
     "evalue": "{'code': -32002, 'message': 'Transaction simulation failed: Error processing Instruction 1: custom program error: 0x6', 'data': {'accounts': None, 'err': {'InstructionError': [1, {'Custom': 6}]}, 'logs': ['Program Cf8D7jF1mxtn1uX7kBWDUJZUQ5U3ewreM8JaxJDda77g invoke [1]', 'Program log: Instruction: InitEscrow', 'Program log: 0', 'Program Cf8D7jF1mxtn1uX7kBWDUJZUQ5U3ewreM8JaxJDda77g consumed 4561 of 200000 compute units', 'Program Cf8D7jF1mxtn1uX7kBWDUJZUQ5U3ewreM8JaxJDda77g success', 'Program Cf8D7jF1mxtn1uX7kBWDUJZUQ5U3ewreM8JaxJDda77g invoke [1]', 'Program log: Instruction: Withdraw', 'Program Cf8D7jF1mxtn1uX7kBWDUJZUQ5U3ewreM8JaxJDda77g consumed 3288 of 200000 compute units', 'Program Cf8D7jF1mxtn1uX7kBWDUJZUQ5U3ewreM8JaxJDda77g failed: custom program error: 0x6']}}",
     "output_type": "error",
     "traceback": [
      "\u001b[0;31m---------------------------------------------------------------------------\u001b[0m",
      "\u001b[0;31mRPCException\u001b[0m                              Traceback (most recent call last)",
      "\u001b[0;32m<ipython-input-33-fe9275ed5ae6>\u001b[0m in \u001b[0;36m<module>\u001b[0;34m\u001b[0m\n\u001b[1;32m      3\u001b[0m \u001b[0;32mfor\u001b[0m \u001b[0minstruction\u001b[0m \u001b[0;32min\u001b[0m \u001b[0minstructions\u001b[0m\u001b[0;34m:\u001b[0m\u001b[0;34m\u001b[0m\u001b[0;34m\u001b[0m\u001b[0m\n\u001b[1;32m      4\u001b[0m     \u001b[0mtix\u001b[0m\u001b[0;34m.\u001b[0m\u001b[0madd\u001b[0m\u001b[0;34m(\u001b[0m\u001b[0minstruction\u001b[0m\u001b[0;34m)\u001b[0m\u001b[0;34m\u001b[0m\u001b[0;34m\u001b[0m\u001b[0m\n\u001b[0;32m----> 5\u001b[0;31m \u001b[0my\u001b[0m \u001b[0;34m=\u001b[0m \u001b[0mclient\u001b[0m\u001b[0;34m.\u001b[0m\u001b[0msend_transaction\u001b[0m\u001b[0;34m(\u001b[0m\u001b[0mtix\u001b[0m\u001b[0;34m,\u001b[0m \u001b[0mAlice\u001b[0m\u001b[0;34m)\u001b[0m\u001b[0;34m\u001b[0m\u001b[0;34m\u001b[0m\u001b[0m\n\u001b[0m",
      "\u001b[0;32m~/opt/anaconda3/lib/python3.8/site-packages/solana/rpc/api.py\u001b[0m in \u001b[0;36msend_transaction\u001b[0;34m(self, txn, opts, recent_blockhash, *signers)\u001b[0m\n\u001b[1;32m   1058\u001b[0m \u001b[0;34m\u001b[0m\u001b[0m\n\u001b[1;32m   1059\u001b[0m         \u001b[0mtxn\u001b[0m\u001b[0;34m.\u001b[0m\u001b[0msign\u001b[0m\u001b[0;34m(\u001b[0m\u001b[0;34m*\u001b[0m\u001b[0msigners\u001b[0m\u001b[0;34m)\u001b[0m\u001b[0;34m\u001b[0m\u001b[0;34m\u001b[0m\u001b[0m\n\u001b[0;32m-> 1060\u001b[0;31m         \u001b[0mtxn_resp\u001b[0m \u001b[0;34m=\u001b[0m \u001b[0mself\u001b[0m\u001b[0;34m.\u001b[0m\u001b[0msend_raw_transaction\u001b[0m\u001b[0;34m(\u001b[0m\u001b[0mtxn\u001b[0m\u001b[0;34m.\u001b[0m\u001b[0mserialize\u001b[0m\u001b[0;34m(\u001b[0m\u001b[0;34m)\u001b[0m\u001b[0;34m,\u001b[0m \u001b[0mopts\u001b[0m\u001b[0;34m=\u001b[0m\u001b[0mopts\u001b[0m\u001b[0;34m)\u001b[0m\u001b[0;34m\u001b[0m\u001b[0;34m\u001b[0m\u001b[0m\n\u001b[0m\u001b[1;32m   1061\u001b[0m         \u001b[0;32mif\u001b[0m \u001b[0mself\u001b[0m\u001b[0;34m.\u001b[0m\u001b[0mblockhash_cache\u001b[0m\u001b[0;34m:\u001b[0m\u001b[0;34m\u001b[0m\u001b[0;34m\u001b[0m\u001b[0m\n\u001b[1;32m   1062\u001b[0m             \u001b[0mblockhash_resp\u001b[0m \u001b[0;34m=\u001b[0m \u001b[0mself\u001b[0m\u001b[0;34m.\u001b[0m\u001b[0mget_recent_blockhash\u001b[0m\u001b[0;34m(\u001b[0m\u001b[0;34m)\u001b[0m\u001b[0;34m\u001b[0m\u001b[0;34m\u001b[0m\u001b[0m\n",
      "\u001b[0;32m~/opt/anaconda3/lib/python3.8/site-packages/solana/rpc/api.py\u001b[0m in \u001b[0;36msend_raw_transaction\u001b[0;34m(self, txn, opts)\u001b[0m\n\u001b[1;32m   1014\u001b[0m         \u001b[0mresp\u001b[0m \u001b[0;34m=\u001b[0m \u001b[0mself\u001b[0m\u001b[0;34m.\u001b[0m\u001b[0m_provider\u001b[0m\u001b[0;34m.\u001b[0m\u001b[0mmake_request\u001b[0m\u001b[0;34m(\u001b[0m\u001b[0;34m*\u001b[0m\u001b[0margs\u001b[0m\u001b[0;34m)\u001b[0m\u001b[0;34m\u001b[0m\u001b[0;34m\u001b[0m\u001b[0m\n\u001b[1;32m   1015\u001b[0m         \u001b[0;32mif\u001b[0m \u001b[0mopts\u001b[0m\u001b[0;34m.\u001b[0m\u001b[0mskip_confirmation\u001b[0m\u001b[0;34m:\u001b[0m\u001b[0;34m\u001b[0m\u001b[0;34m\u001b[0m\u001b[0m\n\u001b[0;32m-> 1016\u001b[0;31m             \u001b[0;32mreturn\u001b[0m \u001b[0mself\u001b[0m\u001b[0;34m.\u001b[0m\u001b[0m_post_send\u001b[0m\u001b[0;34m(\u001b[0m\u001b[0mresp\u001b[0m\u001b[0;34m)\u001b[0m\u001b[0;34m\u001b[0m\u001b[0;34m\u001b[0m\u001b[0m\n\u001b[0m\u001b[1;32m   1017\u001b[0m         \u001b[0mpost_send_args\u001b[0m \u001b[0;34m=\u001b[0m \u001b[0mself\u001b[0m\u001b[0;34m.\u001b[0m\u001b[0m_send_raw_transaction_post_send_args\u001b[0m\u001b[0;34m(\u001b[0m\u001b[0mresp\u001b[0m\u001b[0;34m,\u001b[0m \u001b[0mopts\u001b[0m\u001b[0;34m)\u001b[0m\u001b[0;34m\u001b[0m\u001b[0;34m\u001b[0m\u001b[0m\n\u001b[1;32m   1018\u001b[0m         \u001b[0;32mreturn\u001b[0m \u001b[0mself\u001b[0m\u001b[0;34m.\u001b[0m\u001b[0m__post_send_with_confirm\u001b[0m\u001b[0;34m(\u001b[0m\u001b[0;34m*\u001b[0m\u001b[0mpost_send_args\u001b[0m\u001b[0;34m)\u001b[0m\u001b[0;34m\u001b[0m\u001b[0;34m\u001b[0m\u001b[0m\n",
      "\u001b[0;32m~/opt/anaconda3/lib/python3.8/site-packages/solana/rpc/core.py\u001b[0m in \u001b[0;36m_post_send\u001b[0;34m(resp)\u001b[0m\n\u001b[1;32m    362\u001b[0m         \u001b[0mmaybe_error\u001b[0m \u001b[0;34m=\u001b[0m \u001b[0mresp\u001b[0m\u001b[0;34m.\u001b[0m\u001b[0mget\u001b[0m\u001b[0;34m(\u001b[0m\u001b[0;34m\"error\"\u001b[0m\u001b[0;34m)\u001b[0m\u001b[0;34m\u001b[0m\u001b[0;34m\u001b[0m\u001b[0m\n\u001b[1;32m    363\u001b[0m         \u001b[0;32mif\u001b[0m \u001b[0mmaybe_error\u001b[0m \u001b[0;32mis\u001b[0m \u001b[0;32mnot\u001b[0m \u001b[0;32mNone\u001b[0m\u001b[0;34m:\u001b[0m\u001b[0;34m\u001b[0m\u001b[0;34m\u001b[0m\u001b[0m\n\u001b[0;32m--> 364\u001b[0;31m             \u001b[0;32mraise\u001b[0m \u001b[0mRPCException\u001b[0m\u001b[0;34m(\u001b[0m\u001b[0mmaybe_error\u001b[0m\u001b[0;34m)\u001b[0m\u001b[0;34m\u001b[0m\u001b[0;34m\u001b[0m\u001b[0m\n\u001b[0m\u001b[1;32m    365\u001b[0m         \u001b[0;32mif\u001b[0m \u001b[0;32mnot\u001b[0m \u001b[0mresp\u001b[0m\u001b[0;34m.\u001b[0m\u001b[0mget\u001b[0m\u001b[0;34m(\u001b[0m\u001b[0;34m\"result\"\u001b[0m\u001b[0;34m)\u001b[0m\u001b[0;34m:\u001b[0m\u001b[0;34m\u001b[0m\u001b[0;34m\u001b[0m\u001b[0m\n\u001b[1;32m    366\u001b[0m             \u001b[0;32mraise\u001b[0m \u001b[0mException\u001b[0m\u001b[0;34m(\u001b[0m\u001b[0;34m\"Failed to send transaction\"\u001b[0m\u001b[0;34m)\u001b[0m\u001b[0;34m\u001b[0m\u001b[0;34m\u001b[0m\u001b[0m\n",
      "\u001b[0;31mRPCException\u001b[0m: {'code': -32002, 'message': 'Transaction simulation failed: Error processing Instruction 1: custom program error: 0x6', 'data': {'accounts': None, 'err': {'InstructionError': [1, {'Custom': 6}]}, 'logs': ['Program Cf8D7jF1mxtn1uX7kBWDUJZUQ5U3ewreM8JaxJDda77g invoke [1]', 'Program log: Instruction: InitEscrow', 'Program log: 0', 'Program Cf8D7jF1mxtn1uX7kBWDUJZUQ5U3ewreM8JaxJDda77g consumed 4561 of 200000 compute units', 'Program Cf8D7jF1mxtn1uX7kBWDUJZUQ5U3ewreM8JaxJDda77g success', 'Program Cf8D7jF1mxtn1uX7kBWDUJZUQ5U3ewreM8JaxJDda77g invoke [1]', 'Program log: Instruction: Withdraw', 'Program Cf8D7jF1mxtn1uX7kBWDUJZUQ5U3ewreM8JaxJDda77g consumed 3288 of 200000 compute units', 'Program Cf8D7jF1mxtn1uX7kBWDUJZUQ5U3ewreM8JaxJDda77g failed: custom program error: 0x6']}}"
     ]
    }
   ],
   "source": [
    "tix = Transaction()\n",
    "instructions = [initialize(10,1),withdraw_alice_x(10)]\n",
    "for instruction in instructions:\n",
    "    tix.add(instruction)\n",
    "y = client.send_transaction(tix, Alice)"
   ]
  },
  {
   "cell_type": "code",
   "execution_count": null,
   "metadata": {},
   "outputs": [],
   "source": []
  },
  {
   "cell_type": "markdown",
   "metadata": {},
   "source": [
    "### Test 13: Alice deposits, Bob withdraws (SHOULD FAIL)"
   ]
  },
  {
   "cell_type": "code",
   "execution_count": 34,
   "metadata": {},
   "outputs": [
    {
     "ename": "RPCException",
     "evalue": "{'code': -32002, 'message': 'Transaction simulation failed: Error processing Instruction 2: custom program error: 0x2', 'data': {'accounts': None, 'err': {'InstructionError': [2, {'Custom': 2}]}, 'logs': ['Program Cf8D7jF1mxtn1uX7kBWDUJZUQ5U3ewreM8JaxJDda77g invoke [1]', 'Program log: Instruction: InitEscrow', 'Program log: 0', 'Program Cf8D7jF1mxtn1uX7kBWDUJZUQ5U3ewreM8JaxJDda77g consumed 4559 of 200000 compute units', 'Program Cf8D7jF1mxtn1uX7kBWDUJZUQ5U3ewreM8JaxJDda77g success', 'Program Cf8D7jF1mxtn1uX7kBWDUJZUQ5U3ewreM8JaxJDda77g invoke [1]', 'Program log: Instruction: Deposit', 'Program log: Getting escrow data', 'Program log: ATA KEY AND BUMP BELOW', 'Program TokenkegQfeZyiNwAJbNbGKPFXCWuBvf9Ss623VQ5DA invoke [2]', 'Program log: Instruction: Transfer', 'Program TokenkegQfeZyiNwAJbNbGKPFXCWuBvf9Ss623VQ5DA consumed 3121 of 188270 compute units', 'Program TokenkegQfeZyiNwAJbNbGKPFXCWuBvf9Ss623VQ5DA success', 'Program log: Done with invoke', 'Program log: Alice deposit', 'Program Cf8D7jF1mxtn1uX7kBWDUJZUQ5U3ewreM8JaxJDda77g consumed 16318 of 200000 compute units', 'Program Cf8D7jF1mxtn1uX7kBWDUJZUQ5U3ewreM8JaxJDda77g success', 'Program Cf8D7jF1mxtn1uX7kBWDUJZUQ5U3ewreM8JaxJDda77g invoke [1]', 'Program log: Instruction: Withdraw', 'Program Cf8D7jF1mxtn1uX7kBWDUJZUQ5U3ewreM8JaxJDda77g consumed 3558 of 200000 compute units', 'Program Cf8D7jF1mxtn1uX7kBWDUJZUQ5U3ewreM8JaxJDda77g failed: custom program error: 0x2']}}",
     "output_type": "error",
     "traceback": [
      "\u001b[0;31m---------------------------------------------------------------------------\u001b[0m",
      "\u001b[0;31mRPCException\u001b[0m                              Traceback (most recent call last)",
      "\u001b[0;32m<ipython-input-34-520ce3b74144>\u001b[0m in \u001b[0;36m<module>\u001b[0;34m\u001b[0m\n\u001b[1;32m      3\u001b[0m \u001b[0;32mfor\u001b[0m \u001b[0minstruction\u001b[0m \u001b[0;32min\u001b[0m \u001b[0minstructions\u001b[0m\u001b[0;34m:\u001b[0m\u001b[0;34m\u001b[0m\u001b[0;34m\u001b[0m\u001b[0m\n\u001b[1;32m      4\u001b[0m     \u001b[0mtix\u001b[0m\u001b[0;34m.\u001b[0m\u001b[0madd\u001b[0m\u001b[0;34m(\u001b[0m\u001b[0minstruction\u001b[0m\u001b[0;34m)\u001b[0m\u001b[0;34m\u001b[0m\u001b[0;34m\u001b[0m\u001b[0m\n\u001b[0;32m----> 5\u001b[0;31m \u001b[0my\u001b[0m \u001b[0;34m=\u001b[0m \u001b[0mclient\u001b[0m\u001b[0;34m.\u001b[0m\u001b[0msend_transaction\u001b[0m\u001b[0;34m(\u001b[0m\u001b[0mtix\u001b[0m\u001b[0;34m,\u001b[0m \u001b[0mAlice\u001b[0m\u001b[0;34m,\u001b[0m \u001b[0mBob\u001b[0m\u001b[0;34m)\u001b[0m\u001b[0;34m\u001b[0m\u001b[0;34m\u001b[0m\u001b[0m\n\u001b[0m",
      "\u001b[0;32m~/opt/anaconda3/lib/python3.8/site-packages/solana/rpc/api.py\u001b[0m in \u001b[0;36msend_transaction\u001b[0;34m(self, txn, opts, recent_blockhash, *signers)\u001b[0m\n\u001b[1;32m   1058\u001b[0m \u001b[0;34m\u001b[0m\u001b[0m\n\u001b[1;32m   1059\u001b[0m         \u001b[0mtxn\u001b[0m\u001b[0;34m.\u001b[0m\u001b[0msign\u001b[0m\u001b[0;34m(\u001b[0m\u001b[0;34m*\u001b[0m\u001b[0msigners\u001b[0m\u001b[0;34m)\u001b[0m\u001b[0;34m\u001b[0m\u001b[0;34m\u001b[0m\u001b[0m\n\u001b[0;32m-> 1060\u001b[0;31m         \u001b[0mtxn_resp\u001b[0m \u001b[0;34m=\u001b[0m \u001b[0mself\u001b[0m\u001b[0;34m.\u001b[0m\u001b[0msend_raw_transaction\u001b[0m\u001b[0;34m(\u001b[0m\u001b[0mtxn\u001b[0m\u001b[0;34m.\u001b[0m\u001b[0mserialize\u001b[0m\u001b[0;34m(\u001b[0m\u001b[0;34m)\u001b[0m\u001b[0;34m,\u001b[0m \u001b[0mopts\u001b[0m\u001b[0;34m=\u001b[0m\u001b[0mopts\u001b[0m\u001b[0;34m)\u001b[0m\u001b[0;34m\u001b[0m\u001b[0;34m\u001b[0m\u001b[0m\n\u001b[0m\u001b[1;32m   1061\u001b[0m         \u001b[0;32mif\u001b[0m \u001b[0mself\u001b[0m\u001b[0;34m.\u001b[0m\u001b[0mblockhash_cache\u001b[0m\u001b[0;34m:\u001b[0m\u001b[0;34m\u001b[0m\u001b[0;34m\u001b[0m\u001b[0m\n\u001b[1;32m   1062\u001b[0m             \u001b[0mblockhash_resp\u001b[0m \u001b[0;34m=\u001b[0m \u001b[0mself\u001b[0m\u001b[0;34m.\u001b[0m\u001b[0mget_recent_blockhash\u001b[0m\u001b[0;34m(\u001b[0m\u001b[0;34m)\u001b[0m\u001b[0;34m\u001b[0m\u001b[0;34m\u001b[0m\u001b[0m\n",
      "\u001b[0;32m~/opt/anaconda3/lib/python3.8/site-packages/solana/rpc/api.py\u001b[0m in \u001b[0;36msend_raw_transaction\u001b[0;34m(self, txn, opts)\u001b[0m\n\u001b[1;32m   1014\u001b[0m         \u001b[0mresp\u001b[0m \u001b[0;34m=\u001b[0m \u001b[0mself\u001b[0m\u001b[0;34m.\u001b[0m\u001b[0m_provider\u001b[0m\u001b[0;34m.\u001b[0m\u001b[0mmake_request\u001b[0m\u001b[0;34m(\u001b[0m\u001b[0;34m*\u001b[0m\u001b[0margs\u001b[0m\u001b[0;34m)\u001b[0m\u001b[0;34m\u001b[0m\u001b[0;34m\u001b[0m\u001b[0m\n\u001b[1;32m   1015\u001b[0m         \u001b[0;32mif\u001b[0m \u001b[0mopts\u001b[0m\u001b[0;34m.\u001b[0m\u001b[0mskip_confirmation\u001b[0m\u001b[0;34m:\u001b[0m\u001b[0;34m\u001b[0m\u001b[0;34m\u001b[0m\u001b[0m\n\u001b[0;32m-> 1016\u001b[0;31m             \u001b[0;32mreturn\u001b[0m \u001b[0mself\u001b[0m\u001b[0;34m.\u001b[0m\u001b[0m_post_send\u001b[0m\u001b[0;34m(\u001b[0m\u001b[0mresp\u001b[0m\u001b[0;34m)\u001b[0m\u001b[0;34m\u001b[0m\u001b[0;34m\u001b[0m\u001b[0m\n\u001b[0m\u001b[1;32m   1017\u001b[0m         \u001b[0mpost_send_args\u001b[0m \u001b[0;34m=\u001b[0m \u001b[0mself\u001b[0m\u001b[0;34m.\u001b[0m\u001b[0m_send_raw_transaction_post_send_args\u001b[0m\u001b[0;34m(\u001b[0m\u001b[0mresp\u001b[0m\u001b[0;34m,\u001b[0m \u001b[0mopts\u001b[0m\u001b[0;34m)\u001b[0m\u001b[0;34m\u001b[0m\u001b[0;34m\u001b[0m\u001b[0m\n\u001b[1;32m   1018\u001b[0m         \u001b[0;32mreturn\u001b[0m \u001b[0mself\u001b[0m\u001b[0;34m.\u001b[0m\u001b[0m__post_send_with_confirm\u001b[0m\u001b[0;34m(\u001b[0m\u001b[0;34m*\u001b[0m\u001b[0mpost_send_args\u001b[0m\u001b[0;34m)\u001b[0m\u001b[0;34m\u001b[0m\u001b[0;34m\u001b[0m\u001b[0m\n",
      "\u001b[0;32m~/opt/anaconda3/lib/python3.8/site-packages/solana/rpc/core.py\u001b[0m in \u001b[0;36m_post_send\u001b[0;34m(resp)\u001b[0m\n\u001b[1;32m    362\u001b[0m         \u001b[0mmaybe_error\u001b[0m \u001b[0;34m=\u001b[0m \u001b[0mresp\u001b[0m\u001b[0;34m.\u001b[0m\u001b[0mget\u001b[0m\u001b[0;34m(\u001b[0m\u001b[0;34m\"error\"\u001b[0m\u001b[0;34m)\u001b[0m\u001b[0;34m\u001b[0m\u001b[0;34m\u001b[0m\u001b[0m\n\u001b[1;32m    363\u001b[0m         \u001b[0;32mif\u001b[0m \u001b[0mmaybe_error\u001b[0m \u001b[0;32mis\u001b[0m \u001b[0;32mnot\u001b[0m \u001b[0;32mNone\u001b[0m\u001b[0;34m:\u001b[0m\u001b[0;34m\u001b[0m\u001b[0;34m\u001b[0m\u001b[0m\n\u001b[0;32m--> 364\u001b[0;31m             \u001b[0;32mraise\u001b[0m \u001b[0mRPCException\u001b[0m\u001b[0;34m(\u001b[0m\u001b[0mmaybe_error\u001b[0m\u001b[0;34m)\u001b[0m\u001b[0;34m\u001b[0m\u001b[0;34m\u001b[0m\u001b[0m\n\u001b[0m\u001b[1;32m    365\u001b[0m         \u001b[0;32mif\u001b[0m \u001b[0;32mnot\u001b[0m \u001b[0mresp\u001b[0m\u001b[0;34m.\u001b[0m\u001b[0mget\u001b[0m\u001b[0;34m(\u001b[0m\u001b[0;34m\"result\"\u001b[0m\u001b[0;34m)\u001b[0m\u001b[0;34m:\u001b[0m\u001b[0;34m\u001b[0m\u001b[0;34m\u001b[0m\u001b[0m\n\u001b[1;32m    366\u001b[0m             \u001b[0;32mraise\u001b[0m \u001b[0mException\u001b[0m\u001b[0;34m(\u001b[0m\u001b[0;34m\"Failed to send transaction\"\u001b[0m\u001b[0;34m)\u001b[0m\u001b[0;34m\u001b[0m\u001b[0;34m\u001b[0m\u001b[0m\n",
      "\u001b[0;31mRPCException\u001b[0m: {'code': -32002, 'message': 'Transaction simulation failed: Error processing Instruction 2: custom program error: 0x2', 'data': {'accounts': None, 'err': {'InstructionError': [2, {'Custom': 2}]}, 'logs': ['Program Cf8D7jF1mxtn1uX7kBWDUJZUQ5U3ewreM8JaxJDda77g invoke [1]', 'Program log: Instruction: InitEscrow', 'Program log: 0', 'Program Cf8D7jF1mxtn1uX7kBWDUJZUQ5U3ewreM8JaxJDda77g consumed 4559 of 200000 compute units', 'Program Cf8D7jF1mxtn1uX7kBWDUJZUQ5U3ewreM8JaxJDda77g success', 'Program Cf8D7jF1mxtn1uX7kBWDUJZUQ5U3ewreM8JaxJDda77g invoke [1]', 'Program log: Instruction: Deposit', 'Program log: Getting escrow data', 'Program log: ATA KEY AND BUMP BELOW', 'Program TokenkegQfeZyiNwAJbNbGKPFXCWuBvf9Ss623VQ5DA invoke [2]', 'Program log: Instruction: Transfer', 'Program TokenkegQfeZyiNwAJbNbGKPFXCWuBvf9Ss623VQ5DA consumed 3121 of 188270 compute units', 'Program TokenkegQfeZyiNwAJbNbGKPFXCWuBvf9Ss623VQ5DA success', 'Program log: Done with invoke', 'Program log: Alice deposit', 'Program Cf8D7jF1mxtn1uX7kBWDUJZUQ5U3ewreM8JaxJDda77g consumed 16318 of 200000 compute units', 'Program Cf8D7jF1mxtn1uX7kBWDUJZUQ5U3ewreM8JaxJDda77g success', 'Program Cf8D7jF1mxtn1uX7kBWDUJZUQ5U3ewreM8JaxJDda77g invoke [1]', 'Program log: Instruction: Withdraw', 'Program Cf8D7jF1mxtn1uX7kBWDUJZUQ5U3ewreM8JaxJDda77g consumed 3558 of 200000 compute units', 'Program Cf8D7jF1mxtn1uX7kBWDUJZUQ5U3ewreM8JaxJDda77g failed: custom program error: 0x2']}}"
     ]
    }
   ],
   "source": [
    "tix = Transaction()\n",
    "instructions = [initialize(10,1),deposit_alice(10),withdraw_bob_x(10)]\n",
    "for instruction in instructions:\n",
    "    tix.add(instruction)\n",
    "y = client.send_transaction(tix, Alice, Bob)"
   ]
  },
  {
   "cell_type": "code",
   "execution_count": null,
   "metadata": {},
   "outputs": [],
   "source": []
  },
  {
   "cell_type": "markdown",
   "metadata": {},
   "source": [
    "### Test 13: Someone else tries to withdraw (SHOULD FAIL)"
   ]
  },
  {
   "cell_type": "code",
   "execution_count": 48,
   "metadata": {},
   "outputs": [],
   "source": [
    "def withdraw_crassus_y(amount=1):\n",
    "    withdraw_metas = [\n",
    "    AccountMeta(Keypair().public_key, False, False),\n",
    "    AccountMeta(Y_vault_pk, False, True),\n",
    "    AccountMeta(escrow_pk, False, True),\n",
    "    AccountMeta(TOKEN_PROGRAM_ID, False, False),\n",
    "    AccountMeta(Y_b, False, True),\n",
    "    AccountMeta(ASSOCIATED_TOKEN_PROGRAM_ID, False, False),\n",
    "    ]\n",
    "    \n",
    "    idx = 2\n",
    "    withdraw_instruction_data = idx.to_bytes(1,\"little\") + amount.to_bytes(8,\"little\")\n",
    "\n",
    "    instruction = TransactionInstruction(data=withdraw_instruction_data,program_id=ID,keys=withdraw_metas)\n",
    "    \n",
    "    return instruction"
   ]
  },
  {
   "cell_type": "code",
   "execution_count": 49,
   "metadata": {},
   "outputs": [
    {
     "ename": "RPCException",
     "evalue": "{'code': -32002, 'message': 'Transaction simulation failed: Error processing Instruction 4: custom program error: 0x0', 'data': {'accounts': None, 'err': {'InstructionError': [4, {'Custom': 0}]}, 'logs': ['Program Cf8D7jF1mxtn1uX7kBWDUJZUQ5U3ewreM8JaxJDda77g invoke [1]', 'Program log: Instruction: InitEscrow', 'Program log: 0', 'Program Cf8D7jF1mxtn1uX7kBWDUJZUQ5U3ewreM8JaxJDda77g consumed 4559 of 200000 compute units', 'Program Cf8D7jF1mxtn1uX7kBWDUJZUQ5U3ewreM8JaxJDda77g success', 'Program Cf8D7jF1mxtn1uX7kBWDUJZUQ5U3ewreM8JaxJDda77g invoke [1]', 'Program log: Instruction: Deposit', 'Program log: Getting escrow data', 'Program log: ATA KEY AND BUMP BELOW', 'Program TokenkegQfeZyiNwAJbNbGKPFXCWuBvf9Ss623VQ5DA invoke [2]', 'Program log: Instruction: Transfer', 'Program TokenkegQfeZyiNwAJbNbGKPFXCWuBvf9Ss623VQ5DA consumed 3121 of 188270 compute units', 'Program TokenkegQfeZyiNwAJbNbGKPFXCWuBvf9Ss623VQ5DA success', 'Program log: Done with invoke', 'Program log: Alice deposit', 'Program Cf8D7jF1mxtn1uX7kBWDUJZUQ5U3ewreM8JaxJDda77g consumed 16318 of 200000 compute units', 'Program Cf8D7jF1mxtn1uX7kBWDUJZUQ5U3ewreM8JaxJDda77g success', 'Program Cf8D7jF1mxtn1uX7kBWDUJZUQ5U3ewreM8JaxJDda77g invoke [1]', 'Program log: Instruction: Deposit', 'Program log: Getting escrow data', 'Program log: ATA KEY AND BUMP BELOW', 'Program TokenkegQfeZyiNwAJbNbGKPFXCWuBvf9Ss623VQ5DA invoke [2]', 'Program log: Instruction: Transfer', 'Program TokenkegQfeZyiNwAJbNbGKPFXCWuBvf9Ss623VQ5DA consumed 3121 of 191193 compute units', 'Program TokenkegQfeZyiNwAJbNbGKPFXCWuBvf9Ss623VQ5DA success', 'Program log: Done with invoke', 'Program log: Bob deposit', 'Program Cf8D7jF1mxtn1uX7kBWDUJZUQ5U3ewreM8JaxJDda77g consumed 13446 of 200000 compute units', 'Program Cf8D7jF1mxtn1uX7kBWDUJZUQ5U3ewreM8JaxJDda77g success', 'Program Cf8D7jF1mxtn1uX7kBWDUJZUQ5U3ewreM8JaxJDda77g invoke [1]', 'Program log: Instruction: Withdraw', 'Program TokenkegQfeZyiNwAJbNbGKPFXCWuBvf9Ss623VQ5DA invoke [2]', 'Program log: Instruction: Transfer', 'Program TokenkegQfeZyiNwAJbNbGKPFXCWuBvf9Ss623VQ5DA consumed 3121 of 194140 compute units', 'Program TokenkegQfeZyiNwAJbNbGKPFXCWuBvf9Ss623VQ5DA success', 'Program Cf8D7jF1mxtn1uX7kBWDUJZUQ5U3ewreM8JaxJDda77g consumed 10463 of 200000 compute units', 'Program Cf8D7jF1mxtn1uX7kBWDUJZUQ5U3ewreM8JaxJDda77g success', 'Program Cf8D7jF1mxtn1uX7kBWDUJZUQ5U3ewreM8JaxJDda77g invoke [1]', 'Program log: Instruction: Withdraw', 'Program Cf8D7jF1mxtn1uX7kBWDUJZUQ5U3ewreM8JaxJDda77g consumed 3308 of 200000 compute units', 'Program Cf8D7jF1mxtn1uX7kBWDUJZUQ5U3ewreM8JaxJDda77g failed: custom program error: 0x0']}}",
     "output_type": "error",
     "traceback": [
      "\u001b[0;31m---------------------------------------------------------------------------\u001b[0m",
      "\u001b[0;31mRPCException\u001b[0m                              Traceback (most recent call last)",
      "\u001b[0;32m<ipython-input-49-9237b86d650f>\u001b[0m in \u001b[0;36m<module>\u001b[0;34m\u001b[0m\n\u001b[1;32m      3\u001b[0m \u001b[0;32mfor\u001b[0m \u001b[0minstruction\u001b[0m \u001b[0;32min\u001b[0m \u001b[0minstructions\u001b[0m\u001b[0;34m:\u001b[0m\u001b[0;34m\u001b[0m\u001b[0;34m\u001b[0m\u001b[0m\n\u001b[1;32m      4\u001b[0m     \u001b[0mtix\u001b[0m\u001b[0;34m.\u001b[0m\u001b[0madd\u001b[0m\u001b[0;34m(\u001b[0m\u001b[0minstruction\u001b[0m\u001b[0;34m)\u001b[0m\u001b[0;34m\u001b[0m\u001b[0;34m\u001b[0m\u001b[0m\n\u001b[0;32m----> 5\u001b[0;31m \u001b[0my\u001b[0m \u001b[0;34m=\u001b[0m \u001b[0mclient\u001b[0m\u001b[0;34m.\u001b[0m\u001b[0msend_transaction\u001b[0m\u001b[0;34m(\u001b[0m\u001b[0mtix\u001b[0m\u001b[0;34m,\u001b[0m \u001b[0mAlice\u001b[0m\u001b[0;34m,\u001b[0m \u001b[0mBob\u001b[0m\u001b[0;34m)\u001b[0m\u001b[0;34m\u001b[0m\u001b[0;34m\u001b[0m\u001b[0m\n\u001b[0m",
      "\u001b[0;32m~/opt/anaconda3/lib/python3.8/site-packages/solana/rpc/api.py\u001b[0m in \u001b[0;36msend_transaction\u001b[0;34m(self, txn, opts, recent_blockhash, *signers)\u001b[0m\n\u001b[1;32m   1058\u001b[0m \u001b[0;34m\u001b[0m\u001b[0m\n\u001b[1;32m   1059\u001b[0m         \u001b[0mtxn\u001b[0m\u001b[0;34m.\u001b[0m\u001b[0msign\u001b[0m\u001b[0;34m(\u001b[0m\u001b[0;34m*\u001b[0m\u001b[0msigners\u001b[0m\u001b[0;34m)\u001b[0m\u001b[0;34m\u001b[0m\u001b[0;34m\u001b[0m\u001b[0m\n\u001b[0;32m-> 1060\u001b[0;31m         \u001b[0mtxn_resp\u001b[0m \u001b[0;34m=\u001b[0m \u001b[0mself\u001b[0m\u001b[0;34m.\u001b[0m\u001b[0msend_raw_transaction\u001b[0m\u001b[0;34m(\u001b[0m\u001b[0mtxn\u001b[0m\u001b[0;34m.\u001b[0m\u001b[0mserialize\u001b[0m\u001b[0;34m(\u001b[0m\u001b[0;34m)\u001b[0m\u001b[0;34m,\u001b[0m \u001b[0mopts\u001b[0m\u001b[0;34m=\u001b[0m\u001b[0mopts\u001b[0m\u001b[0;34m)\u001b[0m\u001b[0;34m\u001b[0m\u001b[0;34m\u001b[0m\u001b[0m\n\u001b[0m\u001b[1;32m   1061\u001b[0m         \u001b[0;32mif\u001b[0m \u001b[0mself\u001b[0m\u001b[0;34m.\u001b[0m\u001b[0mblockhash_cache\u001b[0m\u001b[0;34m:\u001b[0m\u001b[0;34m\u001b[0m\u001b[0;34m\u001b[0m\u001b[0m\n\u001b[1;32m   1062\u001b[0m             \u001b[0mblockhash_resp\u001b[0m \u001b[0;34m=\u001b[0m \u001b[0mself\u001b[0m\u001b[0;34m.\u001b[0m\u001b[0mget_recent_blockhash\u001b[0m\u001b[0;34m(\u001b[0m\u001b[0;34m)\u001b[0m\u001b[0;34m\u001b[0m\u001b[0;34m\u001b[0m\u001b[0m\n",
      "\u001b[0;32m~/opt/anaconda3/lib/python3.8/site-packages/solana/rpc/api.py\u001b[0m in \u001b[0;36msend_raw_transaction\u001b[0;34m(self, txn, opts)\u001b[0m\n\u001b[1;32m   1014\u001b[0m         \u001b[0mresp\u001b[0m \u001b[0;34m=\u001b[0m \u001b[0mself\u001b[0m\u001b[0;34m.\u001b[0m\u001b[0m_provider\u001b[0m\u001b[0;34m.\u001b[0m\u001b[0mmake_request\u001b[0m\u001b[0;34m(\u001b[0m\u001b[0;34m*\u001b[0m\u001b[0margs\u001b[0m\u001b[0;34m)\u001b[0m\u001b[0;34m\u001b[0m\u001b[0;34m\u001b[0m\u001b[0m\n\u001b[1;32m   1015\u001b[0m         \u001b[0;32mif\u001b[0m \u001b[0mopts\u001b[0m\u001b[0;34m.\u001b[0m\u001b[0mskip_confirmation\u001b[0m\u001b[0;34m:\u001b[0m\u001b[0;34m\u001b[0m\u001b[0;34m\u001b[0m\u001b[0m\n\u001b[0;32m-> 1016\u001b[0;31m             \u001b[0;32mreturn\u001b[0m \u001b[0mself\u001b[0m\u001b[0;34m.\u001b[0m\u001b[0m_post_send\u001b[0m\u001b[0;34m(\u001b[0m\u001b[0mresp\u001b[0m\u001b[0;34m)\u001b[0m\u001b[0;34m\u001b[0m\u001b[0;34m\u001b[0m\u001b[0m\n\u001b[0m\u001b[1;32m   1017\u001b[0m         \u001b[0mpost_send_args\u001b[0m \u001b[0;34m=\u001b[0m \u001b[0mself\u001b[0m\u001b[0;34m.\u001b[0m\u001b[0m_send_raw_transaction_post_send_args\u001b[0m\u001b[0;34m(\u001b[0m\u001b[0mresp\u001b[0m\u001b[0;34m,\u001b[0m \u001b[0mopts\u001b[0m\u001b[0;34m)\u001b[0m\u001b[0;34m\u001b[0m\u001b[0;34m\u001b[0m\u001b[0m\n\u001b[1;32m   1018\u001b[0m         \u001b[0;32mreturn\u001b[0m \u001b[0mself\u001b[0m\u001b[0;34m.\u001b[0m\u001b[0m__post_send_with_confirm\u001b[0m\u001b[0;34m(\u001b[0m\u001b[0;34m*\u001b[0m\u001b[0mpost_send_args\u001b[0m\u001b[0;34m)\u001b[0m\u001b[0;34m\u001b[0m\u001b[0;34m\u001b[0m\u001b[0m\n",
      "\u001b[0;32m~/opt/anaconda3/lib/python3.8/site-packages/solana/rpc/core.py\u001b[0m in \u001b[0;36m_post_send\u001b[0;34m(resp)\u001b[0m\n\u001b[1;32m    362\u001b[0m         \u001b[0mmaybe_error\u001b[0m \u001b[0;34m=\u001b[0m \u001b[0mresp\u001b[0m\u001b[0;34m.\u001b[0m\u001b[0mget\u001b[0m\u001b[0;34m(\u001b[0m\u001b[0;34m\"error\"\u001b[0m\u001b[0;34m)\u001b[0m\u001b[0;34m\u001b[0m\u001b[0;34m\u001b[0m\u001b[0m\n\u001b[1;32m    363\u001b[0m         \u001b[0;32mif\u001b[0m \u001b[0mmaybe_error\u001b[0m \u001b[0;32mis\u001b[0m \u001b[0;32mnot\u001b[0m \u001b[0;32mNone\u001b[0m\u001b[0;34m:\u001b[0m\u001b[0;34m\u001b[0m\u001b[0;34m\u001b[0m\u001b[0m\n\u001b[0;32m--> 364\u001b[0;31m             \u001b[0;32mraise\u001b[0m \u001b[0mRPCException\u001b[0m\u001b[0;34m(\u001b[0m\u001b[0mmaybe_error\u001b[0m\u001b[0;34m)\u001b[0m\u001b[0;34m\u001b[0m\u001b[0;34m\u001b[0m\u001b[0m\n\u001b[0m\u001b[1;32m    365\u001b[0m         \u001b[0;32mif\u001b[0m \u001b[0;32mnot\u001b[0m \u001b[0mresp\u001b[0m\u001b[0;34m.\u001b[0m\u001b[0mget\u001b[0m\u001b[0;34m(\u001b[0m\u001b[0;34m\"result\"\u001b[0m\u001b[0;34m)\u001b[0m\u001b[0;34m:\u001b[0m\u001b[0;34m\u001b[0m\u001b[0;34m\u001b[0m\u001b[0m\n\u001b[1;32m    366\u001b[0m             \u001b[0;32mraise\u001b[0m \u001b[0mException\u001b[0m\u001b[0;34m(\u001b[0m\u001b[0;34m\"Failed to send transaction\"\u001b[0m\u001b[0;34m)\u001b[0m\u001b[0;34m\u001b[0m\u001b[0;34m\u001b[0m\u001b[0m\n",
      "\u001b[0;31mRPCException\u001b[0m: {'code': -32002, 'message': 'Transaction simulation failed: Error processing Instruction 4: custom program error: 0x0', 'data': {'accounts': None, 'err': {'InstructionError': [4, {'Custom': 0}]}, 'logs': ['Program Cf8D7jF1mxtn1uX7kBWDUJZUQ5U3ewreM8JaxJDda77g invoke [1]', 'Program log: Instruction: InitEscrow', 'Program log: 0', 'Program Cf8D7jF1mxtn1uX7kBWDUJZUQ5U3ewreM8JaxJDda77g consumed 4559 of 200000 compute units', 'Program Cf8D7jF1mxtn1uX7kBWDUJZUQ5U3ewreM8JaxJDda77g success', 'Program Cf8D7jF1mxtn1uX7kBWDUJZUQ5U3ewreM8JaxJDda77g invoke [1]', 'Program log: Instruction: Deposit', 'Program log: Getting escrow data', 'Program log: ATA KEY AND BUMP BELOW', 'Program TokenkegQfeZyiNwAJbNbGKPFXCWuBvf9Ss623VQ5DA invoke [2]', 'Program log: Instruction: Transfer', 'Program TokenkegQfeZyiNwAJbNbGKPFXCWuBvf9Ss623VQ5DA consumed 3121 of 188270 compute units', 'Program TokenkegQfeZyiNwAJbNbGKPFXCWuBvf9Ss623VQ5DA success', 'Program log: Done with invoke', 'Program log: Alice deposit', 'Program Cf8D7jF1mxtn1uX7kBWDUJZUQ5U3ewreM8JaxJDda77g consumed 16318 of 200000 compute units', 'Program Cf8D7jF1mxtn1uX7kBWDUJZUQ5U3ewreM8JaxJDda77g success', 'Program Cf8D7jF1mxtn1uX7kBWDUJZUQ5U3ewreM8JaxJDda77g invoke [1]', 'Program log: Instruction: Deposit', 'Program log: Getting escrow data', 'Program log: ATA KEY AND BUMP BELOW', 'Program TokenkegQfeZyiNwAJbNbGKPFXCWuBvf9Ss623VQ5DA invoke [2]', 'Program log: Instruction: Transfer', 'Program TokenkegQfeZyiNwAJbNbGKPFXCWuBvf9Ss623VQ5DA consumed 3121 of 191193 compute units', 'Program TokenkegQfeZyiNwAJbNbGKPFXCWuBvf9Ss623VQ5DA success', 'Program log: Done with invoke', 'Program log: Bob deposit', 'Program Cf8D7jF1mxtn1uX7kBWDUJZUQ5U3ewreM8JaxJDda77g consumed 13446 of 200000 compute units', 'Program Cf8D7jF1mxtn1uX7kBWDUJZUQ5U3ewreM8JaxJDda77g success', 'Program Cf8D7jF1mxtn1uX7kBWDUJZUQ5U3ewreM8JaxJDda77g invoke [1]', 'Program log: Instruction: Withdraw', 'Program TokenkegQfeZyiNwAJbNbGKPFXCWuBvf9Ss623VQ5DA invoke [2]', 'Program log: Instruction: Transfer', 'Program TokenkegQfeZyiNwAJbNbGKPFXCWuBvf9Ss623VQ5DA consumed 3121 of 194140 compute units', 'Program TokenkegQfeZyiNwAJbNbGKPFXCWuBvf9Ss623VQ5DA success', 'Program Cf8D7jF1mxtn1uX7kBWDUJZUQ5U3ewreM8JaxJDda77g consumed 10463 of 200000 compute units', 'Program Cf8D7jF1mxtn1uX7kBWDUJZUQ5U3ewreM8JaxJDda77g success', 'Program Cf8D7jF1mxtn1uX7kBWDUJZUQ5U3ewreM8JaxJDda77g invoke [1]', 'Program log: Instruction: Withdraw', 'Program Cf8D7jF1mxtn1uX7kBWDUJZUQ5U3ewreM8JaxJDda77g consumed 3308 of 200000 compute units', 'Program Cf8D7jF1mxtn1uX7kBWDUJZUQ5U3ewreM8JaxJDda77g failed: custom program error: 0x0']}}"
     ]
    }
   ],
   "source": [
    "tix = Transaction()\n",
    "instructions = [initialize(10,1),deposit_alice(10),deposit_bob(1),withdraw_bob_x(10),withdraw_crassus_y(1)]\n",
    "for instruction in instructions:\n",
    "    tix.add(instruction)\n",
    "y = client.send_transaction(tix, Alice, Bob)"
   ]
  },
  {
   "cell_type": "code",
   "execution_count": null,
   "metadata": {},
   "outputs": [],
   "source": []
  },
  {
   "cell_type": "code",
   "execution_count": null,
   "metadata": {},
   "outputs": [],
   "source": []
  },
  {
   "cell_type": "code",
   "execution_count": null,
   "metadata": {},
   "outputs": [],
   "source": []
  },
  {
   "cell_type": "code",
   "execution_count": null,
   "metadata": {},
   "outputs": [],
   "source": []
  },
  {
   "cell_type": "code",
   "execution_count": null,
   "metadata": {},
   "outputs": [],
   "source": []
  },
  {
   "cell_type": "code",
   "execution_count": null,
   "metadata": {},
   "outputs": [],
   "source": []
  },
  {
   "cell_type": "code",
   "execution_count": null,
   "metadata": {},
   "outputs": [],
   "source": []
  },
  {
   "cell_type": "code",
   "execution_count": 45,
   "metadata": {},
   "outputs": [],
   "source": [
    "# Alice, Bob both deposit and then withdraw\n",
    "tix = Transaction()\n",
    "#X_mint.mint_to(X_a, God, 500)\n",
    "#Y_mint.mint_to(Y_b, God, 500)\n",
    "\n",
    "# alice deposit\n",
    "deposit_metas = [\n",
    "AccountMeta(Alice.public_key, True, False),\n",
    "AccountMeta(X_vault_pk, False, True),\n",
    "AccountMeta(escrow_pk, False, True),\n",
    "AccountMeta(TOKEN_PROGRAM_ID, False, False),\n",
    "AccountMeta(X_a, False, True),\n",
    "AccountMeta(ASSOCIATED_TOKEN_PROGRAM_ID, False, False),\n",
    "]\n",
    "idx = 1\n",
    "amount_a = 10\n",
    "deposit_instruction_data = idx.to_bytes(1,\"little\") + amount_a.to_bytes(8,\"little\")\n",
    "instruction = TransactionInstruction(data=deposit_instruction_data,program_id=ID,keys=deposit_metas)\n",
    "tix.add(instruction)\n",
    "y = client.send_transaction(tix, Alice)\n",
    "print(y)"
   ]
  },
  {
   "cell_type": "code",
   "execution_count": 47,
   "metadata": {},
   "outputs": [],
   "source": [
    "# bob deposit\n",
    "tix = Transaction()\n",
    "deposit_metas = [\n",
    "AccountMeta(Bob.public_key, True, False),\n",
    "AccountMeta(Y_vault_pk, False, True),\n",
    "AccountMeta(escrow_pk, False, True),\n",
    "AccountMeta(TOKEN_PROGRAM_ID, False, False),\n",
    "AccountMeta(Y_b, False, True),\n",
    "AccountMeta(ASSOCIATED_TOKEN_PROGRAM_ID, False, False),\n",
    "]\n",
    "idx = 1\n",
    "amount_b = 1\n",
    "deposit_instruction_data = idx.to_bytes(1,\"little\") + amount_b.to_bytes(8,\"little\")\n",
    "instruction = TransactionInstruction(data=deposit_instruction_data,program_id=ID,keys=deposit_metas)\n",
    "tix.add(instruction)\n",
    "y = client.send_transaction(tix, Bob)\n",
    "print(y)"
   ]
  },
  {
   "cell_type": "code",
   "execution_count": 54,
   "metadata": {},
   "outputs": [],
   "source": [
    "# alice withdraw\n",
    "tix = Transaction()\n",
    "withdraw_metas = [\n",
    "AccountMeta(Alice.public_key, False, False),\n",
    "AccountMeta(Y_vault_pk, False, True),\n",
    "AccountMeta(escrow_pk, False, True),\n",
    "AccountMeta(TOKEN_PROGRAM_ID, False, False),\n",
    "AccountMeta(Y_a, False, True),\n",
    "AccountMeta(ASSOCIATED_TOKEN_PROGRAM_ID, False, False),\n",
    "]\n",
    "idx = 2\n",
    "amount_b = 1\n",
    "withdraw_instruction_data = idx.to_bytes(1,\"little\") + amount_b.to_bytes(8,\"little\")\n",
    "instruction = TransactionInstruction(data=withdraw_instruction_data,program_id=ID,keys=withdraw_metas)\n",
    "tix.add(instruction)\n",
    "y = client.send_transaction(tix, Alice)\n",
    "print(y)"
   ]
  },
  {
   "cell_type": "code",
   "execution_count": 56,
   "metadata": {},
   "outputs": [],
   "source": [
    "# bob withdraw\n",
    "tix = Transaction()\n",
    "withdraw_metas = [\n",
    "AccountMeta(Bob.public_key, False, False),\n",
    "AccountMeta(X_vault_pk, False, True),\n",
    "AccountMeta(escrow_pk, False, True),\n",
    "AccountMeta(TOKEN_PROGRAM_ID, False, False),\n",
    "AccountMeta(X_b, False, True),\n",
    "AccountMeta(ASSOCIATED_TOKEN_PROGRAM_ID, False, False),\n",
    "]\n",
    "idx = 2\n",
    "amount_a = 10\n",
    "withdraw_instruction_data = idx.to_bytes(1,\"little\") + amount_a.to_bytes(8,\"little\")\n",
    "instruction = TransactionInstruction(data=withdraw_instruction_data,program_id=ID,keys=withdraw_metas)\n",
    "tix.add(instruction)\n",
    "\n",
    "# send to client\n",
    "y = client.send_transaction(tix, Bob)\n",
    "print(y)"
   ]
  }
 ],
 "metadata": {
  "kernelspec": {
   "display_name": "Python 3",
   "language": "python",
   "name": "python3"
  },
  "language_info": {
   "codemirror_mode": {
    "name": "ipython",
    "version": 3
   },
   "file_extension": ".py",
   "mimetype": "text/x-python",
   "name": "python",
   "nbconvert_exporter": "python",
   "pygments_lexer": "ipython3",
   "version": "3.8.3"
  }
 },
 "nbformat": 4,
 "nbformat_minor": 5
}
